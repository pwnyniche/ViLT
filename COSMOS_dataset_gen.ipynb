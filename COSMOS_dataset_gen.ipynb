{
 "cells": [
  {
   "cell_type": "code",
   "execution_count": 1,
   "id": "9963f140",
   "metadata": {},
   "outputs": [],
   "source": [
    "import json\n",
    "import sys\n",
    "import random\n",
    "from tqdm import tqdm\n",
    "from collections import defaultdict\n",
    "import pyarrow as pa\n",
    "import pandas as pd\n",
    "import numpy as np\n",
    "import matplotlib.pyplot as plt\n",
    "from sentence_transformers import SentenceTransformer, util\n",
    "import torch"
   ]
  },
  {
   "cell_type": "markdown",
   "id": "a5a164bb",
   "metadata": {},
   "source": [
    "# Import data"
   ]
  },
  {
   "cell_type": "code",
   "execution_count": 2,
   "id": "53dd889f",
   "metadata": {},
   "outputs": [
    {
     "name": "stdout",
     "output_type": "stream",
     "text": [
      "CPU times: user 9.91 s, sys: 610 ms, total: 10.5 s\n",
      "Wall time: 10.6 s\n"
     ]
    }
   ],
   "source": [
    "%%time\n",
    "root = '.'\n",
    "\n",
    "train_data = list(\n",
    "    map(json.loads, open(f\"{root}/cosmos/train_data.json\").readlines())\n",
    ")\n",
    "test_data = list(\n",
    "    map(json.loads, open(f\"{root}/cosmos/test_data.json\").readlines())\n",
    ")\n",
    "# train_data = list(map(json.loads, open(f\"{root}/cosmos/val_data.json\").readlines()))"
   ]
  },
  {
   "cell_type": "markdown",
   "id": "f8927c73",
   "metadata": {},
   "source": [
    "# Remove duplicate captions"
   ]
  },
  {
   "cell_type": "code",
   "execution_count": 3,
   "id": "812c065e",
   "metadata": {},
   "outputs": [
    {
     "name": "stderr",
     "output_type": "stream",
     "text": [
      "100%|██████████| 161754/161754 [00:00<00:00, 493288.23it/s]\n"
     ]
    }
   ],
   "source": [
    "def remove_duplicate(dataset):\n",
    "    for data in tqdm(dataset):\n",
    "        seen_caption = set()\n",
    "        new_list = []\n",
    "        for caption in data['articles']:\n",
    "            if caption['caption_modified'] not in seen_caption:\n",
    "                new_list.append(caption)\n",
    "                seen_caption.add(caption['caption_modified'])\n",
    "        data['articles'] = new_list\n",
    "\n",
    "remove_duplicate(train_data)\n"
   ]
  },
  {
   "cell_type": "markdown",
   "id": "6443f484",
   "metadata": {},
   "source": [
    "# SBERT Paraphrase Mining"
   ]
  },
  {
   "cell_type": "code",
   "execution_count": 4,
   "id": "0131e577",
   "metadata": {},
   "outputs": [],
   "source": [
    "model = SentenceTransformer('all-MiniLM-L6-v2')"
   ]
  },
  {
   "cell_type": "code",
   "execution_count": 5,
   "id": "485d641d",
   "metadata": {},
   "outputs": [
    {
     "data": {
      "text/plain": [
       "1"
      ]
     },
     "execution_count": 5,
     "metadata": {},
     "output_type": "execute_result"
    }
   ],
   "source": [
    "import notebook_util\n",
    "notebook_util.pick_gpu_lowest_memory()\n"
   ]
  },
  {
   "cell_type": "code",
   "execution_count": 6,
   "id": "7572838c",
   "metadata": {},
   "outputs": [],
   "source": [
    "torch.cuda.set_device(2)"
   ]
  },
  {
   "cell_type": "code",
   "execution_count": 7,
   "id": "b7bfe713",
   "metadata": {},
   "outputs": [],
   "source": [
    "def neg_cos_sim(a, b):\n",
    "    \"\"\"\n",
    "    Computes the cosine similarity cos_sim(a[i], b[j]) for all i and j.\n",
    "    :return: Matrix with res[i][j]  = cos_sim(a[i], b[j])\n",
    "    \"\"\"\n",
    "    if not isinstance(a, torch.Tensor):\n",
    "        a = torch.tensor(a)\n",
    "\n",
    "    if not isinstance(b, torch.Tensor):\n",
    "        b = torch.tensor(b)\n",
    "\n",
    "    if len(a.shape) == 1:\n",
    "        a = a.unsqueeze(0)\n",
    "\n",
    "    if len(b.shape) == 1:\n",
    "        b = b.unsqueeze(0)\n",
    "\n",
    "    a_norm = torch.nn.functional.normalize(a, p=2, dim=1)\n",
    "    b_norm = torch.nn.functional.normalize(b, p=2, dim=1)\n",
    "    return torch.neg(torch.mm(a_norm, b_norm.transpose(0, 1)))"
   ]
  },
  {
   "cell_type": "code",
   "execution_count": 8,
   "id": "49ecb4b5",
   "metadata": {},
   "outputs": [
    {
     "name": "stderr",
     "output_type": "stream",
     "text": [
      "100%|██████████| 161754/161754 [00:00<00:00, 489280.36it/s]\n"
     ]
    }
   ],
   "source": [
    "# Single list of sentences - Possible tens of thousands of sentences\n",
    "sentences = []\n",
    "\n",
    "for data in tqdm(train_data):\n",
    "    for caption in data['articles']:\n",
    "        sentences.append(caption['caption_modified'])\n",
    "\n",
    "paraphrases = util.paraphrase_mining(model, sentences, top_k=1, score_function=neg_cos_sim)\n",
    "\n"
   ]
  },
  {
   "cell_type": "code",
   "execution_count": 25,
   "id": "eff9deb5",
   "metadata": {},
   "outputs": [
    {
     "name": "stdout",
     "output_type": "stream",
     "text": [
      "264768\n",
      "435678\n"
     ]
    }
   ],
   "source": [
    "print(len(sentences))\n",
    "print(len(paraphrases))"
   ]
  },
  {
   "cell_type": "code",
   "execution_count": 9,
   "id": "e9b9f529",
   "metadata": {},
   "outputs": [],
   "source": [
    "furthest_list = np.empty((len(sentences),),dtype=int)\n",
    "for entry in paraphrases:\n",
    "    furthest_list[entry[1]]=entry[2]"
   ]
  },
  {
   "cell_type": "code",
   "execution_count": 10,
   "id": "2ba5c7bc",
   "metadata": {},
   "outputs": [],
   "source": [
    "sentences_dict = dict()\n",
    "for x in range(len(sentences)):\n",
    "    sentences_dict[sentences[x]] = x"
   ]
  },
  {
   "cell_type": "markdown",
   "id": "9da66c99",
   "metadata": {},
   "source": [
    "# Gen case functions"
   ]
  },
  {
   "cell_type": "code",
   "execution_count": 11,
   "id": "f4f5c91d",
   "metadata": {},
   "outputs": [],
   "source": [
    "# Take 2 random correct caption\n",
    "def gen_positive_case(data):\n",
    "    caption_1_idx, caption_2_idx = random.sample(range(0,len(data['articles'])),2)\n",
    "    cap1 = data['articles'][caption_1_idx]['caption_modified']\n",
    "    cap2 = data['articles'][caption_2_idx]['caption_modified']  \n",
    "    return [data['img_local_path'],[cap1],[cap2],[False]]"
   ]
  },
  {
   "cell_type": "code",
   "execution_count": 12,
   "id": "5eeca261",
   "metadata": {},
   "outputs": [],
   "source": [
    "# Take 2 random false caption\n",
    "def gen_negative_case_1(data, train_data):\n",
    "    data_random1 = train_data[np.random.randint(len(train_data))]\n",
    "    while data['img_local_path'] == data_random1['img_local_path']:\n",
    "        data_random1 = train_data[np.random.randint(len(train_data))]\n",
    "    cap1 = data_random1['articles'][np.random.randint(len(data_random1['articles']))]['caption_modified']\n",
    "    data_random2 = train_data[np.random.randint(len(train_data))]\n",
    "    while data['img_local_path'] == data_random2['img_local_path']:\n",
    "        data_random2 = train_data[np.random.randint(len(train_data))]\n",
    "    cap2 = data_random2['articles'][np.random.randint(len(data_random2['articles']))]['caption_modified']\n",
    "    return [data['img_local_path'],[cap1],[cap2],[True]]"
   ]
  },
  {
   "cell_type": "code",
   "execution_count": 13,
   "id": "ef0bd698",
   "metadata": {},
   "outputs": [],
   "source": [
    "# Take 1 random correct caption, 1 random false caption\n",
    "def gen_negative_case_2(data, train_data):\n",
    "     # Pick 1st correct caption\n",
    "    if np.random.rand()>0.5:\n",
    "        cap1 = data['articles'][np.random.randint(len(data['articles']))]['caption_modified']\n",
    "        # Pick a random article then pick its first caption\n",
    "        data_random = train_data[np.random.randint(len(train_data))]\n",
    "        while data['img_local_path'] == data_random['img_local_path']:\n",
    "            data_random = train_data[np.random.randint(len(train_data))]\n",
    "        cap2 = data_random['articles'][np.random.randint(len(data_random['articles']))]['caption_modified']\n",
    "    else:\n",
    "        cap2 = data['articles'][np.random.randint(len(data['articles']))]['caption_modified']\n",
    "        # Pick a random article then pick its first caption\n",
    "        data_random = train_data[np.random.randint(len(train_data))]\n",
    "        while data['img_local_path'] == data_random['img_local_path']:\n",
    "            data_random = train_data[np.random.randint(len(train_data))]\n",
    "        cap1 = data_random['articles'][np.random.randint(len(data_random['articles']))]['caption_modified']\n",
    "    return [data['img_local_path'],[cap1],[cap2],[True]]"
   ]
  },
  {
   "cell_type": "code",
   "execution_count": 14,
   "id": "c274cf59",
   "metadata": {},
   "outputs": [],
   "source": [
    "def gen_negative_case_3(data, train_data, furthest_list, sentences_dict, sentences, count):\n",
    "    # pick 1 random correct caption\n",
    "    cap1 = data['articles'][np.random.randint(len(data['articles']))]['caption_modified']\n",
    "    # then find its furthest distance caption\n",
    "    cap1_index = sentences_dict[cap1]\n",
    "    try:\n",
    "        cap2 = sentences[furthest_list[cap1_index]]\n",
    "    except:\n",
    "        data_random = train_data[np.random.randint(len(train_data))]\n",
    "        while data['img_local_path'] == data_random['img_local_path']:\n",
    "            data_random = train_data[np.random.randint(len(train_data))]\n",
    "        cap2 = data_random['articles'][np.random.randint(len(data_random['articles']))]['caption_modified']\n",
    "        count.append(cap1_index)\n",
    "    return [data['img_local_path'],[cap1],[cap2],[True]]"
   ]
  },
  {
   "cell_type": "code",
   "execution_count": 15,
   "id": "0920ac20",
   "metadata": {},
   "outputs": [],
   "source": [
    "def gen_negative_case_4(data,train_data, furthest_list, sentences_dict, sentences, count):\n",
    "    # pick 1 random false caption\n",
    "    data_random = train_data[np.random.randint(len(train_data))]\n",
    "    while data['img_local_path'] == data_random['img_local_path']:\n",
    "        data_random = train_data[np.random.randint(len(train_data))]\n",
    "    cap1 = data_random['articles'][np.random.randint(len(data_random['articles']))]['caption_modified']\n",
    "    # then find its furthest distance caption\n",
    "    cap1_index = sentences_dict[cap1]\n",
    "    try:\n",
    "        cap2 = sentences[furthest_list[cap1_index]]\n",
    "    except:\n",
    "        data_random = train_data[np.random.randint(len(train_data))]\n",
    "        while data['img_local_path'] == data_random['img_local_path']:\n",
    "            data_random = train_data[np.random.randint(len(train_data))]\n",
    "        cap2 = data_random['articles'][np.random.randint(len(data_random['articles']))]['caption_modified']\n",
    "        count.append(cap1_index)\n",
    "    return [data['img_local_path'],[cap1],[cap2],[True]]"
   ]
  },
  {
   "cell_type": "code",
   "execution_count": null,
   "id": "6b42cd90",
   "metadata": {},
   "outputs": [],
   "source": [
    "def gen_negative_case_5(data, train_data):\n",
    "      # choose random image\n",
    "    result = gen_positive_case(data)\n",
    "    result[0] = train_data[np.random.randint(len(train_data))]['img_local_path']\n",
    "    return result\n"
   ]
  },
  {
   "cell_type": "code",
   "execution_count": null,
   "id": "9344fc56",
   "metadata": {},
   "outputs": [],
   "source": [
    "def gen_negative_case_6(data, train_data):\n",
    "      # choose random image\n",
    "    result = gen_positive_case(data)\n",
    "    result[0] = train_data[np.random.randint(len(train_data))]['img_local_path']\n",
    "    return result"
   ]
  },
  {
   "cell_type": "code",
   "execution_count": 27,
   "id": "f5f25b09",
   "metadata": {},
   "outputs": [
    {
     "name": "stderr",
     "output_type": "stream",
     "text": [
      "100%|██████████| 161754/161754 [00:11<00:00, 13959.11it/s]\n"
     ]
    }
   ],
   "source": [
    "np.random.seed(42)\n",
    "# train_data_sample = np.random.choice(train_data, size=int(len(train_data)*50/100))\n",
    "# Not OOC cases\n",
    "l = []\n",
    "count = []\n",
    "count_true = 0\n",
    "for data in tqdm(train_data):\n",
    "    if len(data['articles']) > 1:\n",
    "        l.append(gen_positive_case(data))\n",
    "        count_true += 1       \n",
    "    if np.random.rand() > 0.5:\n",
    "        # 2 random false cap\n",
    "        l.append(gen_negative_case_1(data, train_data))\n",
    "    # 1 true, 1 false\n",
    "    l.append(gen_negative_case_2(data, train_data))\n",
    "    # 1 true, 1 false furthest\n",
    "    l.append(gen_negative_case_3(data, train_data, furthest_list, sentences_dict, sentences, count))\n",
    "    # 1 false, 1 furthest\n",
    "    if np.random.rand() > 0.5:\n",
    "        l.append(gen_negative_case_4(data, train_data, furthest_list, sentences_dict, sentences, count))\n",
    "    # 2 false from 1 other image\n",
    "    # 2 false from 1 furthest image\n",
    "\n"
   ]
  },
  {
   "cell_type": "code",
   "execution_count": 32,
   "id": "f1115502",
   "metadata": {},
   "outputs": [
    {
     "data": {
      "text/plain": [
       "0.149960479840602"
      ]
     },
     "execution_count": 32,
     "metadata": {},
     "output_type": "execute_result"
    }
   ],
   "source": [
    "(count_true/len(l))/(1-count_true/len(l))"
   ]
  },
  {
   "cell_type": "code",
   "execution_count": 18,
   "id": "2b491360",
   "metadata": {},
   "outputs": [],
   "source": [
    "dataframe = pd.DataFrame(\n",
    "    l, columns=[\"image\", \"caption_1\", \"caption_2\", \"label\"],\n",
    ")"
   ]
  },
  {
   "cell_type": "code",
   "execution_count": 19,
   "id": "cae6d00d",
   "metadata": {},
   "outputs": [
    {
     "data": {
      "text/html": [
       "<div>\n",
       "<style scoped>\n",
       "    .dataframe tbody tr th:only-of-type {\n",
       "        vertical-align: middle;\n",
       "    }\n",
       "\n",
       "    .dataframe tbody tr th {\n",
       "        vertical-align: top;\n",
       "    }\n",
       "\n",
       "    .dataframe thead th {\n",
       "        text-align: right;\n",
       "    }\n",
       "</style>\n",
       "<table border=\"1\" class=\"dataframe\">\n",
       "  <thead>\n",
       "    <tr style=\"text-align: right;\">\n",
       "      <th></th>\n",
       "      <th>image</th>\n",
       "      <th>caption_1</th>\n",
       "      <th>caption_2</th>\n",
       "      <th>label</th>\n",
       "    </tr>\n",
       "  </thead>\n",
       "  <tbody>\n",
       "    <tr>\n",
       "      <th>0</th>\n",
       "      <td>train/1.jpg</td>\n",
       "      <td>[The technical infrastructure of ORG, PRODUCT ...</td>\n",
       "      <td>[This photo taken DATE, shows apps for ORG, OR...</td>\n",
       "      <td>[False]</td>\n",
       "    </tr>\n",
       "    <tr>\n",
       "      <th>1</th>\n",
       "      <td>train/1.jpg</td>\n",
       "      <td>[ORG said it has nearly doubled server capacit...</td>\n",
       "      <td>[A Rohingya refugee man holds his child up as ...</td>\n",
       "      <td>[True]</td>\n",
       "    </tr>\n",
       "    <tr>\n",
       "      <th>2</th>\n",
       "      <td>train/1.jpg</td>\n",
       "      <td>[The technical infrastructure of ORG, PRODUCT ...</td>\n",
       "      <td>[PERSON refused to undergo a court-ordered men...</td>\n",
       "      <td>[True]</td>\n",
       "    </tr>\n",
       "    <tr>\n",
       "      <th>3</th>\n",
       "      <td>train/1.jpg</td>\n",
       "      <td>[Premier PERSON gave a thumbs up to the crowd ...</td>\n",
       "      <td>[Children ride a manually operated PERSON whee...</td>\n",
       "      <td>[True]</td>\n",
       "    </tr>\n",
       "    <tr>\n",
       "      <th>4</th>\n",
       "      <td>train/2.jpg</td>\n",
       "      <td>[Neel PERSON, the president of ORG of GPE, sai...</td>\n",
       "      <td>[ORG College Football Playoff Semifinal-Oklaho...</td>\n",
       "      <td>[True]</td>\n",
       "    </tr>\n",
       "    <tr>\n",
       "      <th>5</th>\n",
       "      <td>train/2.jpg</td>\n",
       "      <td>[Smashed CARDINAL monitors are seen inside the...</td>\n",
       "      <td>[Mr. PERSON wants to increase the utility of t...</td>\n",
       "      <td>[True]</td>\n",
       "    </tr>\n",
       "    <tr>\n",
       "      <th>6</th>\n",
       "      <td>train/2.jpg</td>\n",
       "      <td>[Mr. PERSON wants to increase the utility of t...</td>\n",
       "      <td>[The mother was slaughtered and the newborn ba...</td>\n",
       "      <td>[True]</td>\n",
       "    </tr>\n",
       "    <tr>\n",
       "      <th>7</th>\n",
       "      <td>train/2.jpg</td>\n",
       "      <td>[PERSON conducts CARDINAL of his healing cerem...</td>\n",
       "      <td>[Ending restrictive zoning doesn't have to lea...</td>\n",
       "      <td>[True]</td>\n",
       "    </tr>\n",
       "    <tr>\n",
       "      <th>8</th>\n",
       "      <td>train/0.jpg</td>\n",
       "      <td>[GPE had fiercely objected to its neighbor's u...</td>\n",
       "      <td>[A statue depicting PERSON stands in GPE, GPE,...</td>\n",
       "      <td>[False]</td>\n",
       "    </tr>\n",
       "    <tr>\n",
       "      <th>9</th>\n",
       "      <td>train/0.jpg</td>\n",
       "      <td>[PERSON, a ORDINAL-generation dairy farmer who...</td>\n",
       "      <td>[Bloggers who quit jobs to travel the world en...</td>\n",
       "      <td>[True]</td>\n",
       "    </tr>\n",
       "    <tr>\n",
       "      <th>10</th>\n",
       "      <td>train/0.jpg</td>\n",
       "      <td>[GPE had fiercely objected to its neighbor's u...</td>\n",
       "      <td>[Film explores Ronstadt's life, wide-ranging m...</td>\n",
       "      <td>[True]</td>\n",
       "    </tr>\n",
       "    <tr>\n",
       "      <th>11</th>\n",
       "      <td>train/0.jpg</td>\n",
       "      <td>[A statue depicting PERSON stands in GPE, GPE,...</td>\n",
       "      <td>[Labor shortage: the under-exploited potential...</td>\n",
       "      <td>[True]</td>\n",
       "    </tr>\n",
       "    <tr>\n",
       "      <th>12</th>\n",
       "      <td>train/0.jpg</td>\n",
       "      <td>[A ORG-bark leaf-tailed gecko (Uroplatus piets...</td>\n",
       "      <td>[Jus Reign forced to remove his turban at airp...</td>\n",
       "      <td>[True]</td>\n",
       "    </tr>\n",
       "    <tr>\n",
       "      <th>13</th>\n",
       "      <td>train/1.jpg</td>\n",
       "      <td>[The technical infrastructure of ORG, PRODUCT ...</td>\n",
       "      <td>[This photo taken DATE, shows apps for ORG, OR...</td>\n",
       "      <td>[False]</td>\n",
       "    </tr>\n",
       "    <tr>\n",
       "      <th>14</th>\n",
       "      <td>train/1.jpg</td>\n",
       "      <td>[ORG actually owns ORG but has been planning a...</td>\n",
       "      <td>[A rendering of a mobile hotel room, CARDINAL ...</td>\n",
       "      <td>[True]</td>\n",
       "    </tr>\n",
       "    <tr>\n",
       "      <th>15</th>\n",
       "      <td>train/1.jpg</td>\n",
       "      <td>[ORG actually owns ORG but has been planning a...</td>\n",
       "      <td>[‘Staunch Characters’ Battle Over Painting of ...</td>\n",
       "      <td>[True]</td>\n",
       "    </tr>\n",
       "    <tr>\n",
       "      <th>16</th>\n",
       "      <td>train/1.jpg</td>\n",
       "      <td>[Trading on Wall Street reflected optimism abo...</td>\n",
       "      <td>[PERSON, at the county jail in GPE, GPE, plead...</td>\n",
       "      <td>[True]</td>\n",
       "    </tr>\n",
       "    <tr>\n",
       "      <th>17</th>\n",
       "      <td>train/2.jpg</td>\n",
       "      <td>[Members of the team \"He Suits, He Scores\" con...</td>\n",
       "      <td>[ORG in GPE. The pandemic marginalized right w...</td>\n",
       "      <td>[True]</td>\n",
       "    </tr>\n",
       "    <tr>\n",
       "      <th>18</th>\n",
       "      <td>train/2.jpg</td>\n",
       "      <td>[Mr. PERSON wants to increase the utility of t...</td>\n",
       "      <td>[A liquefied natural gas tanker at the port of...</td>\n",
       "      <td>[True]</td>\n",
       "    </tr>\n",
       "    <tr>\n",
       "      <th>19</th>\n",
       "      <td>train/2.jpg</td>\n",
       "      <td>[Mr. PERSON wants to increase the utility of t...</td>\n",
       "      <td>[The mother was slaughtered and the newborn ba...</td>\n",
       "      <td>[True]</td>\n",
       "    </tr>\n",
       "  </tbody>\n",
       "</table>\n",
       "</div>"
      ],
      "text/plain": [
       "          image                                          caption_1  \\\n",
       "0   train/1.jpg  [The technical infrastructure of ORG, PRODUCT ...   \n",
       "1   train/1.jpg  [ORG said it has nearly doubled server capacit...   \n",
       "2   train/1.jpg  [The technical infrastructure of ORG, PRODUCT ...   \n",
       "3   train/1.jpg  [Premier PERSON gave a thumbs up to the crowd ...   \n",
       "4   train/2.jpg  [Neel PERSON, the president of ORG of GPE, sai...   \n",
       "5   train/2.jpg  [Smashed CARDINAL monitors are seen inside the...   \n",
       "6   train/2.jpg  [Mr. PERSON wants to increase the utility of t...   \n",
       "7   train/2.jpg  [PERSON conducts CARDINAL of his healing cerem...   \n",
       "8   train/0.jpg  [GPE had fiercely objected to its neighbor's u...   \n",
       "9   train/0.jpg  [PERSON, a ORDINAL-generation dairy farmer who...   \n",
       "10  train/0.jpg  [GPE had fiercely objected to its neighbor's u...   \n",
       "11  train/0.jpg  [A statue depicting PERSON stands in GPE, GPE,...   \n",
       "12  train/0.jpg  [A ORG-bark leaf-tailed gecko (Uroplatus piets...   \n",
       "13  train/1.jpg  [The technical infrastructure of ORG, PRODUCT ...   \n",
       "14  train/1.jpg  [ORG actually owns ORG but has been planning a...   \n",
       "15  train/1.jpg  [ORG actually owns ORG but has been planning a...   \n",
       "16  train/1.jpg  [Trading on Wall Street reflected optimism abo...   \n",
       "17  train/2.jpg  [Members of the team \"He Suits, He Scores\" con...   \n",
       "18  train/2.jpg  [Mr. PERSON wants to increase the utility of t...   \n",
       "19  train/2.jpg  [Mr. PERSON wants to increase the utility of t...   \n",
       "\n",
       "                                            caption_2    label  \n",
       "0   [This photo taken DATE, shows apps for ORG, OR...  [False]  \n",
       "1   [A Rohingya refugee man holds his child up as ...   [True]  \n",
       "2   [PERSON refused to undergo a court-ordered men...   [True]  \n",
       "3   [Children ride a manually operated PERSON whee...   [True]  \n",
       "4   [ORG College Football Playoff Semifinal-Oklaho...   [True]  \n",
       "5   [Mr. PERSON wants to increase the utility of t...   [True]  \n",
       "6   [The mother was slaughtered and the newborn ba...   [True]  \n",
       "7   [Ending restrictive zoning doesn't have to lea...   [True]  \n",
       "8   [A statue depicting PERSON stands in GPE, GPE,...  [False]  \n",
       "9   [Bloggers who quit jobs to travel the world en...   [True]  \n",
       "10  [Film explores Ronstadt's life, wide-ranging m...   [True]  \n",
       "11  [Labor shortage: the under-exploited potential...   [True]  \n",
       "12  [Jus Reign forced to remove his turban at airp...   [True]  \n",
       "13  [This photo taken DATE, shows apps for ORG, OR...  [False]  \n",
       "14  [A rendering of a mobile hotel room, CARDINAL ...   [True]  \n",
       "15  [‘Staunch Characters’ Battle Over Painting of ...   [True]  \n",
       "16  [PERSON, at the county jail in GPE, GPE, plead...   [True]  \n",
       "17  [ORG in GPE. The pandemic marginalized right w...   [True]  \n",
       "18  [A liquefied natural gas tanker at the port of...   [True]  \n",
       "19  [The mother was slaughtered and the newborn ba...   [True]  "
      ]
     },
     "execution_count": 19,
     "metadata": {},
     "output_type": "execute_result"
    }
   ],
   "source": [
    "dataframe[0:20]"
   ]
  },
  {
   "cell_type": "code",
   "execution_count": 20,
   "id": "b1ccdd1f",
   "metadata": {},
   "outputs": [],
   "source": [
    "def load_image(path):\n",
    "   try:\n",
    "      with open(path, \"rb\") as fp:\n",
    "        return fp.read()\n",
    "   except:\n",
    "      return None"
   ]
  },
  {
   "cell_type": "code",
   "execution_count": 21,
   "id": "20de3ae9",
   "metadata": {},
   "outputs": [
    {
     "name": "stderr",
     "output_type": "stream",
     "text": [
      "/root/anaconda3/envs/vilt/lib/python3.8/site-packages/tqdm/std.py:702: FutureWarning: The Panel class is removed from pandas. Accessing it from the top-level namespace will also be removed in the next version\n",
      "  from pandas import Panel\n",
      "100%|██████████| 558683/558683 [01:55<00:00, 4843.83it/s]\n"
     ]
    }
   ],
   "source": [
    "tqdm.pandas()\n",
    "\n",
    "dataframe['image'] = dataframe['image'].progress_apply(lambda x: load_image(x))"
   ]
  },
  {
   "cell_type": "code",
   "execution_count": 23,
   "id": "71b1b576",
   "metadata": {},
   "outputs": [],
   "source": [
    "dataframe = dataframe[dataframe.image.notnull()]"
   ]
  },
  {
   "cell_type": "markdown",
   "id": "6dddccd0",
   "metadata": {},
   "source": [
    "# PyArrow"
   ]
  },
  {
   "cell_type": "code",
   "execution_count": 24,
   "id": "47eda01d",
   "metadata": {},
   "outputs": [],
   "source": [
    "table = pa.Table.from_pandas(dataframe)\n"
   ]
  },
  {
   "cell_type": "code",
   "execution_count": 26,
   "id": "6f266cc0",
   "metadata": {},
   "outputs": [],
   "source": [
    "split = 'train'\n",
    "with pa.OSFile(f\"dataset/data_1/cosmos_{split}.arrow\", \"wb\") as sink:\n",
    "    with pa.RecordBatchFileWriter(sink, table.schema) as writer:\n",
    "        writer.write_table(table)"
   ]
  },
  {
   "cell_type": "markdown",
   "id": "eab4ed3e",
   "metadata": {},
   "source": [
    "# Val"
   ]
  },
  {
   "cell_type": "markdown",
   "id": "a59e629f",
   "metadata": {},
   "source": [
    "# Test"
   ]
  },
  {
   "cell_type": "code",
   "execution_count": null,
   "id": "614eb437",
   "metadata": {},
   "outputs": [],
   "source": [
    "import spacy\n",
    "nlp = spacy.load(\"en_core_web_sm\")"
   ]
  },
  {
   "cell_type": "code",
   "execution_count": null,
   "id": "f2c7e7c4",
   "metadata": {},
   "outputs": [],
   "source": [
    "def modify_caption_replace_entities(caption_text):\n",
    "    \"\"\"\n",
    "        Utility function to replace named entities in the caption with their corresponding hypernyms\n",
    "        Args:\n",
    "            caption_text (str): Original caption with named entities\n",
    "        Returns:\n",
    "            caption_modified (str): Modified caption after replacing named entities\n",
    "    \"\"\"\n",
    "    doc = nlp(caption_text)\n",
    "    caption_modified = caption_text\n",
    "    caption_entity_list = []\n",
    "    for ent in doc.ents:\n",
    "        caption_entity_list.append((ent.text, ent.label_))\n",
    "        caption_modified = caption_modified.replace(ent.text, ent.label_, 1)\n",
    "    return caption_modified"
   ]
  },
  {
   "cell_type": "code",
   "execution_count": 72,
   "id": "cbb1ead5",
   "metadata": {},
   "outputs": [
    {
     "name": "stderr",
     "output_type": "stream",
     "text": [
      "100%|██████████| 1700/1700 [00:19<00:00, 88.33it/s]\n"
     ]
    }
   ],
   "source": [
    "l_test  = []\n",
    "for data in tqdm(test_data):\n",
    "    cap1 = modify_caption_replace_entities(data['caption1'])\n",
    "    cap2 = modify_caption_replace_entities(data['caption2'])\n",
    "    l_test.append([data['img_local_path'],[cap1],[cap2],[data['context_label']==True]])"
   ]
  },
  {
   "cell_type": "code",
   "execution_count": 73,
   "id": "d2b8b825",
   "metadata": {},
   "outputs": [],
   "source": [
    "dataframe_test = pd.DataFrame(\n",
    "    l_test, columns=[\"image\", \"caption_1\", \"caption_2\", \"label\"],\n",
    ")"
   ]
  },
  {
   "cell_type": "code",
   "execution_count": 74,
   "id": "85fa816d",
   "metadata": {},
   "outputs": [
    {
     "data": {
      "text/html": [
       "<div>\n",
       "<style scoped>\n",
       "    .dataframe tbody tr th:only-of-type {\n",
       "        vertical-align: middle;\n",
       "    }\n",
       "\n",
       "    .dataframe tbody tr th {\n",
       "        vertical-align: top;\n",
       "    }\n",
       "\n",
       "    .dataframe thead th {\n",
       "        text-align: right;\n",
       "    }\n",
       "</style>\n",
       "<table border=\"1\" class=\"dataframe\">\n",
       "  <thead>\n",
       "    <tr style=\"text-align: right;\">\n",
       "      <th></th>\n",
       "      <th>image</th>\n",
       "      <th>caption_1</th>\n",
       "      <th>caption_2</th>\n",
       "      <th>label</th>\n",
       "    </tr>\n",
       "  </thead>\n",
       "  <tbody>\n",
       "    <tr>\n",
       "      <th>0</th>\n",
       "      <td>test/0.jpg</td>\n",
       "      <td>[PERSON at his announcement in GPE, GPE, on DA...</td>\n",
       "      <td>[PERSON at his announcement in GPE, GPE, on DA...</td>\n",
       "      <td>[False]</td>\n",
       "    </tr>\n",
       "    <tr>\n",
       "      <th>1</th>\n",
       "      <td>test/1.jpg</td>\n",
       "      <td>[Supporters of GPE's ruling ORG party come out...</td>\n",
       "      <td>[A person sits on a truck as supporters of the...</td>\n",
       "      <td>[False]</td>\n",
       "    </tr>\n",
       "    <tr>\n",
       "      <th>2</th>\n",
       "      <td>test/2.jpg</td>\n",
       "      <td>[CARDINAL dead people turned up on the state’s...</td>\n",
       "      <td>[These social media posts did not link to a re...</td>\n",
       "      <td>[True]</td>\n",
       "    </tr>\n",
       "    <tr>\n",
       "      <th>3</th>\n",
       "      <td>test/3.jpg</td>\n",
       "      <td>[Actor, musician, director and devoted followe...</td>\n",
       "      <td>[A shocking report about the former child acto...</td>\n",
       "      <td>[True]</td>\n",
       "    </tr>\n",
       "    <tr>\n",
       "      <th>4</th>\n",
       "      <td>test/4.jpg</td>\n",
       "      <td>[Men from the LOC tribe perform a traditional ...</td>\n",
       "      <td>[And on DATE in GPE's Narok county, young PERS...</td>\n",
       "      <td>[False]</td>\n",
       "    </tr>\n",
       "    <tr>\n",
       "      <th>...</th>\n",
       "      <td>...</td>\n",
       "      <td>...</td>\n",
       "      <td>...</td>\n",
       "      <td>...</td>\n",
       "    </tr>\n",
       "    <tr>\n",
       "      <th>1695</th>\n",
       "      <td>test/1695.jpg</td>\n",
       "      <td>[President PERSON trademarked the name 'WORK_O...</td>\n",
       "      <td>[There was no truth that PERSON family MONEY w...</td>\n",
       "      <td>[True]</td>\n",
       "    </tr>\n",
       "    <tr>\n",
       "      <th>1696</th>\n",
       "      <td>test/1696.jpg</td>\n",
       "      <td>[A photograph shows a soldier carrying a donke...</td>\n",
       "      <td>[Coronavirus meme featuring “EVENT donkey” is ...</td>\n",
       "      <td>[True]</td>\n",
       "    </tr>\n",
       "    <tr>\n",
       "      <th>1697</th>\n",
       "      <td>test/1697.jpg</td>\n",
       "      <td>[Homeless people living on streets in GPE]</td>\n",
       "      <td>[ORG in GPE]</td>\n",
       "      <td>[False]</td>\n",
       "    </tr>\n",
       "    <tr>\n",
       "      <th>1698</th>\n",
       "      <td>test/1698.jpg</td>\n",
       "      <td>[The castle's esplanade was a perfect spot for...</td>\n",
       "      <td>[Picture shows an ORG skier]</td>\n",
       "      <td>[False]</td>\n",
       "    </tr>\n",
       "    <tr>\n",
       "      <th>1699</th>\n",
       "      <td>test/1699.jpg</td>\n",
       "      <td>[We are confident that our reporting will stan...</td>\n",
       "      <td>[ORG Editor-in-Chief PERSON poses for a pictur...</td>\n",
       "      <td>[True]</td>\n",
       "    </tr>\n",
       "  </tbody>\n",
       "</table>\n",
       "<p>1700 rows × 4 columns</p>\n",
       "</div>"
      ],
      "text/plain": [
       "              image                                          caption_1  \\\n",
       "0        test/0.jpg  [PERSON at his announcement in GPE, GPE, on DA...   \n",
       "1        test/1.jpg  [Supporters of GPE's ruling ORG party come out...   \n",
       "2        test/2.jpg  [CARDINAL dead people turned up on the state’s...   \n",
       "3        test/3.jpg  [Actor, musician, director and devoted followe...   \n",
       "4        test/4.jpg  [Men from the LOC tribe perform a traditional ...   \n",
       "...             ...                                                ...   \n",
       "1695  test/1695.jpg  [President PERSON trademarked the name 'WORK_O...   \n",
       "1696  test/1696.jpg  [A photograph shows a soldier carrying a donke...   \n",
       "1697  test/1697.jpg         [Homeless people living on streets in GPE]   \n",
       "1698  test/1698.jpg  [The castle's esplanade was a perfect spot for...   \n",
       "1699  test/1699.jpg  [We are confident that our reporting will stan...   \n",
       "\n",
       "                                              caption_2    label  \n",
       "0     [PERSON at his announcement in GPE, GPE, on DA...  [False]  \n",
       "1     [A person sits on a truck as supporters of the...  [False]  \n",
       "2     [These social media posts did not link to a re...   [True]  \n",
       "3     [A shocking report about the former child acto...   [True]  \n",
       "4     [And on DATE in GPE's Narok county, young PERS...  [False]  \n",
       "...                                                 ...      ...  \n",
       "1695  [There was no truth that PERSON family MONEY w...   [True]  \n",
       "1696  [Coronavirus meme featuring “EVENT donkey” is ...   [True]  \n",
       "1697                                       [ORG in GPE]  [False]  \n",
       "1698                       [Picture shows an ORG skier]  [False]  \n",
       "1699  [ORG Editor-in-Chief PERSON poses for a pictur...   [True]  \n",
       "\n",
       "[1700 rows x 4 columns]"
      ]
     },
     "execution_count": 74,
     "metadata": {},
     "output_type": "execute_result"
    }
   ],
   "source": [
    "dataframe_test"
   ]
  },
  {
   "cell_type": "code",
   "execution_count": 75,
   "id": "5ba1d0f0",
   "metadata": {},
   "outputs": [
    {
     "name": "stderr",
     "output_type": "stream",
     "text": [
      "/root/anaconda3/envs/vilt/lib/python3.8/site-packages/tqdm/std.py:702: FutureWarning: The Panel class is removed from pandas. Accessing it from the top-level namespace will also be removed in the next version\n",
      "  from pandas import Panel\n",
      "100%|██████████| 1700/1700 [00:00<00:00, 9703.16it/s]\n"
     ]
    }
   ],
   "source": [
    "tqdm.pandas()\n",
    "\n",
    "dataframe_test['image'] = dataframe_test['image'].progress_apply(lambda x: load_image(x))"
   ]
  },
  {
   "cell_type": "code",
   "execution_count": 76,
   "id": "4a5dc6a1",
   "metadata": {},
   "outputs": [
    {
     "data": {
      "text/html": [
       "<div>\n",
       "<style scoped>\n",
       "    .dataframe tbody tr th:only-of-type {\n",
       "        vertical-align: middle;\n",
       "    }\n",
       "\n",
       "    .dataframe tbody tr th {\n",
       "        vertical-align: top;\n",
       "    }\n",
       "\n",
       "    .dataframe thead th {\n",
       "        text-align: right;\n",
       "    }\n",
       "</style>\n",
       "<table border=\"1\" class=\"dataframe\">\n",
       "  <thead>\n",
       "    <tr style=\"text-align: right;\">\n",
       "      <th></th>\n",
       "      <th>image</th>\n",
       "      <th>caption_1</th>\n",
       "      <th>caption_2</th>\n",
       "      <th>label</th>\n",
       "    </tr>\n",
       "  </thead>\n",
       "  <tbody>\n",
       "    <tr>\n",
       "      <th>0</th>\n",
       "      <td>b'\\xff\\xd8\\xff\\xe0\\x00\\x10JFIF\\x00\\x01\\x01\\x00...</td>\n",
       "      <td>[PERSON at his announcement in GPE, GPE, on DA...</td>\n",
       "      <td>[PERSON at his announcement in GPE, GPE, on DA...</td>\n",
       "      <td>[False]</td>\n",
       "    </tr>\n",
       "    <tr>\n",
       "      <th>1</th>\n",
       "      <td>b'\\xff\\xd8\\xff\\xe0\\x00\\x10JFIF\\x00\\x01\\x01\\x00...</td>\n",
       "      <td>[Supporters of GPE's ruling ORG party come out...</td>\n",
       "      <td>[A person sits on a truck as supporters of the...</td>\n",
       "      <td>[False]</td>\n",
       "    </tr>\n",
       "    <tr>\n",
       "      <th>2</th>\n",
       "      <td>b'\\xff\\xd8\\xff\\xe0\\x00\\x10JFIF\\x00\\x01\\x01\\x00...</td>\n",
       "      <td>[CARDINAL dead people turned up on the state’s...</td>\n",
       "      <td>[These social media posts did not link to a re...</td>\n",
       "      <td>[True]</td>\n",
       "    </tr>\n",
       "    <tr>\n",
       "      <th>3</th>\n",
       "      <td>b'\\xff\\xd8\\xff\\xe0\\x00\\x10JFIF\\x00\\x01\\x01\\x00...</td>\n",
       "      <td>[Actor, musician, director and devoted followe...</td>\n",
       "      <td>[A shocking report about the former child acto...</td>\n",
       "      <td>[True]</td>\n",
       "    </tr>\n",
       "    <tr>\n",
       "      <th>4</th>\n",
       "      <td>b'\\xff\\xd8\\xff\\xe0\\x00\\x10JFIF\\x00\\x01\\x01\\x00...</td>\n",
       "      <td>[Men from the LOC tribe perform a traditional ...</td>\n",
       "      <td>[And on DATE in GPE's Narok county, young PERS...</td>\n",
       "      <td>[False]</td>\n",
       "    </tr>\n",
       "    <tr>\n",
       "      <th>...</th>\n",
       "      <td>...</td>\n",
       "      <td>...</td>\n",
       "      <td>...</td>\n",
       "      <td>...</td>\n",
       "    </tr>\n",
       "    <tr>\n",
       "      <th>1695</th>\n",
       "      <td>b'\\xff\\xd8\\xff\\xe0\\x00\\x10JFIF\\x00\\x01\\x01\\x00...</td>\n",
       "      <td>[President PERSON trademarked the name 'WORK_O...</td>\n",
       "      <td>[There was no truth that PERSON family MONEY w...</td>\n",
       "      <td>[True]</td>\n",
       "    </tr>\n",
       "    <tr>\n",
       "      <th>1696</th>\n",
       "      <td>b'\\xff\\xd8\\xff\\xe0\\x00\\x10JFIF\\x00\\x01\\x01\\x00...</td>\n",
       "      <td>[A photograph shows a soldier carrying a donke...</td>\n",
       "      <td>[Coronavirus meme featuring “EVENT donkey” is ...</td>\n",
       "      <td>[True]</td>\n",
       "    </tr>\n",
       "    <tr>\n",
       "      <th>1697</th>\n",
       "      <td>b'\\xff\\xd8\\xff\\xe0\\x00\\x10JFIF\\x00\\x01\\x01\\x00...</td>\n",
       "      <td>[Homeless people living on streets in GPE]</td>\n",
       "      <td>[ORG in GPE]</td>\n",
       "      <td>[False]</td>\n",
       "    </tr>\n",
       "    <tr>\n",
       "      <th>1698</th>\n",
       "      <td>b'\\xff\\xd8\\xff\\xe0\\x00\\x10JFIF\\x00\\x01\\x01\\x00...</td>\n",
       "      <td>[The castle's esplanade was a perfect spot for...</td>\n",
       "      <td>[Picture shows an ORG skier]</td>\n",
       "      <td>[False]</td>\n",
       "    </tr>\n",
       "    <tr>\n",
       "      <th>1699</th>\n",
       "      <td>b'\\xff\\xd8\\xff\\xe0\\x00\\x10JFIF\\x00\\x01\\x01\\x00...</td>\n",
       "      <td>[We are confident that our reporting will stan...</td>\n",
       "      <td>[ORG Editor-in-Chief PERSON poses for a pictur...</td>\n",
       "      <td>[True]</td>\n",
       "    </tr>\n",
       "  </tbody>\n",
       "</table>\n",
       "<p>1700 rows × 4 columns</p>\n",
       "</div>"
      ],
      "text/plain": [
       "                                                  image  \\\n",
       "0     b'\\xff\\xd8\\xff\\xe0\\x00\\x10JFIF\\x00\\x01\\x01\\x00...   \n",
       "1     b'\\xff\\xd8\\xff\\xe0\\x00\\x10JFIF\\x00\\x01\\x01\\x00...   \n",
       "2     b'\\xff\\xd8\\xff\\xe0\\x00\\x10JFIF\\x00\\x01\\x01\\x00...   \n",
       "3     b'\\xff\\xd8\\xff\\xe0\\x00\\x10JFIF\\x00\\x01\\x01\\x00...   \n",
       "4     b'\\xff\\xd8\\xff\\xe0\\x00\\x10JFIF\\x00\\x01\\x01\\x00...   \n",
       "...                                                 ...   \n",
       "1695  b'\\xff\\xd8\\xff\\xe0\\x00\\x10JFIF\\x00\\x01\\x01\\x00...   \n",
       "1696  b'\\xff\\xd8\\xff\\xe0\\x00\\x10JFIF\\x00\\x01\\x01\\x00...   \n",
       "1697  b'\\xff\\xd8\\xff\\xe0\\x00\\x10JFIF\\x00\\x01\\x01\\x00...   \n",
       "1698  b'\\xff\\xd8\\xff\\xe0\\x00\\x10JFIF\\x00\\x01\\x01\\x00...   \n",
       "1699  b'\\xff\\xd8\\xff\\xe0\\x00\\x10JFIF\\x00\\x01\\x01\\x00...   \n",
       "\n",
       "                                              caption_1  \\\n",
       "0     [PERSON at his announcement in GPE, GPE, on DA...   \n",
       "1     [Supporters of GPE's ruling ORG party come out...   \n",
       "2     [CARDINAL dead people turned up on the state’s...   \n",
       "3     [Actor, musician, director and devoted followe...   \n",
       "4     [Men from the LOC tribe perform a traditional ...   \n",
       "...                                                 ...   \n",
       "1695  [President PERSON trademarked the name 'WORK_O...   \n",
       "1696  [A photograph shows a soldier carrying a donke...   \n",
       "1697         [Homeless people living on streets in GPE]   \n",
       "1698  [The castle's esplanade was a perfect spot for...   \n",
       "1699  [We are confident that our reporting will stan...   \n",
       "\n",
       "                                              caption_2    label  \n",
       "0     [PERSON at his announcement in GPE, GPE, on DA...  [False]  \n",
       "1     [A person sits on a truck as supporters of the...  [False]  \n",
       "2     [These social media posts did not link to a re...   [True]  \n",
       "3     [A shocking report about the former child acto...   [True]  \n",
       "4     [And on DATE in GPE's Narok county, young PERS...  [False]  \n",
       "...                                                 ...      ...  \n",
       "1695  [There was no truth that PERSON family MONEY w...   [True]  \n",
       "1696  [Coronavirus meme featuring “EVENT donkey” is ...   [True]  \n",
       "1697                                       [ORG in GPE]  [False]  \n",
       "1698                       [Picture shows an ORG skier]  [False]  \n",
       "1699  [ORG Editor-in-Chief PERSON poses for a pictur...   [True]  \n",
       "\n",
       "[1700 rows x 4 columns]"
      ]
     },
     "execution_count": 76,
     "metadata": {},
     "output_type": "execute_result"
    }
   ],
   "source": [
    "dataframe_test"
   ]
  },
  {
   "cell_type": "markdown",
   "id": "219bfdb9",
   "metadata": {},
   "source": [
    "# PyArrow"
   ]
  },
  {
   "cell_type": "code",
   "execution_count": 77,
   "id": "250c78ba",
   "metadata": {},
   "outputs": [],
   "source": [
    "table = pa.Table.from_pandas(dataframe_test)\n",
    "split = 'test'\n",
    "with pa.OSFile(f\"dataset_50/cosmos_{split}.arrow\", \"wb\") as sink:\n",
    "    with pa.RecordBatchFileWriter(sink, table.schema) as writer:\n",
    "        writer.write_table(table)"
   ]
  }
 ],
 "metadata": {
  "kernelspec": {
   "display_name": "Python 3 (ipykernel)",
   "language": "python",
   "name": "python3"
  },
  "language_info": {
   "codemirror_mode": {
    "name": "ipython",
    "version": 3
   },
   "file_extension": ".py",
   "mimetype": "text/x-python",
   "name": "python",
   "nbconvert_exporter": "python",
   "pygments_lexer": "ipython3",
   "version": "3.8.5"
  }
 },
 "nbformat": 4,
 "nbformat_minor": 5
}
