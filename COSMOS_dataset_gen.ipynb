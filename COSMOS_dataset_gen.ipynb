{
 "cells": [
  {
   "cell_type": "code",
   "execution_count": 1,
   "id": "9963f140",
   "metadata": {},
   "outputs": [],
   "source": [
    "import json\n",
    "import sys\n",
    "import random\n",
    "from tqdm import tqdm\n",
    "from collections import defaultdict\n",
    "import pyarrow as pa\n",
    "import pandas as pd\n",
    "import numpy as np\n",
    "import matplotlib.pyplot as plt\n",
    "from sentence_transformers import SentenceTransformer, util\n",
    "import torch"
   ]
  },
  {
   "cell_type": "markdown",
   "id": "a5a164bb",
   "metadata": {},
   "source": [
    "# Import data"
   ]
  },
  {
   "cell_type": "code",
   "execution_count": 2,
   "id": "53dd889f",
   "metadata": {},
   "outputs": [
    {
     "name": "stdout",
     "output_type": "stream",
     "text": [
      "CPU times: user 9.94 s, sys: 534 ms, total: 10.5 s\n",
      "Wall time: 10.6 s\n"
     ]
    }
   ],
   "source": [
    "%%time\n",
    "root = '.'\n",
    "\n",
    "train_data = list(\n",
    "    map(json.loads, open(f\"{root}/cosmos/train_data.json\").readlines())\n",
    ")\n",
    "test_data = list(\n",
    "    map(json.loads, open(f\"{root}/cosmos/test_data.json\").readlines())\n",
    ")\n",
    "#train_data = list(map(json.loads, open(f\"{root}/cosmos/val_data.json\").readlines()))"
   ]
  },
  {
   "cell_type": "markdown",
   "id": "f8927c73",
   "metadata": {},
   "source": [
    "# Remove duplicate captions"
   ]
  },
  {
   "cell_type": "code",
   "execution_count": 3,
   "id": "07210e20",
   "metadata": {},
   "outputs": [
    {
     "data": {
      "text/plain": [
       "161754"
      ]
     },
     "execution_count": 3,
     "metadata": {},
     "output_type": "execute_result"
    }
   ],
   "source": [
    "len(train_data)"
   ]
  },
  {
   "cell_type": "code",
   "execution_count": 4,
   "id": "e8b984b9",
   "metadata": {},
   "outputs": [],
   "source": [
    "train_data_full = list(\n",
    "    map(json.loads, open(f\"{root}/cosmos/val_data.json\").readlines())\n",
    ")"
   ]
  },
  {
   "cell_type": "code",
   "execution_count": 5,
   "id": "812c065e",
   "metadata": {},
   "outputs": [
    {
     "name": "stderr",
     "output_type": "stream",
     "text": [
      "100%|██████████| 41006/41006 [00:00<00:00, 453186.77it/s]\n"
     ]
    },
    {
     "data": {
      "text/plain": [
       "{'PERSON, ORG cars are seen above the city of FAC.'}"
      ]
     },
     "execution_count": 5,
     "metadata": {},
     "output_type": "execute_result"
    }
   ],
   "source": [
    "def remove_duplicate(dataset):\n",
    "    for data in tqdm(dataset):\n",
    "        seen_caption = set()\n",
    "        new_list = []\n",
    "        for caption in data['articles'][:1]:\n",
    "            if caption['caption_modified'] not in seen_caption:\n",
    "                new_list.append(caption)\n",
    "                seen_caption.add(caption['caption_modified'])\n",
    "        if len(new_list)==0:\n",
    "            print('0',end='')\n",
    "        data['articles'] = new_list\n",
    "    return seen_caption\n",
    "# train_data_full = train_data.copy()\n",
    "remove_duplicate(train_data)"
   ]
  },
  {
   "cell_type": "markdown",
   "id": "6443f484",
   "metadata": {},
   "source": [
    "# SBERT Paraphrase Mining"
   ]
  },
  {
   "cell_type": "code",
   "execution_count": 6,
   "id": "0131e577",
   "metadata": {},
   "outputs": [],
   "source": [
    "model = SentenceTransformer('stsb-bert-base')"
   ]
  },
  {
   "cell_type": "code",
   "execution_count": 34,
   "id": "b7bfe713",
   "metadata": {},
   "outputs": [],
   "source": [
    "def neg_cos_sim(a, b):\n",
    "    \"\"\"\n",
    "    Computes the cosine similarity cos_sim(a[i], b[j]) for all i and j.\n",
    "    :return: Matrix with res[i][j]  = cos_sim(a[i], b[j])\n",
    "    \"\"\"\n",
    "    if not isinstance(a, torch.Tensor):\n",
    "        a = torch.tensor(a)\n",
    "\n",
    "    if not isinstance(b, torch.Tensor):\n",
    "        b = torch.tensor(b)\n",
    "\n",
    "    if len(a.shape) == 1:\n",
    "        a = a.unsqueeze(0)\n",
    "\n",
    "    if len(b.shape) == 1:\n",
    "        b = b.unsqueeze(0)\n",
    "\n",
    "    a_norm = torch.nn.functional.normalize(a, p=2, dim=1)\n",
    "    b_norm = torch.nn.functional.normalize(b, p=2, dim=1)\n",
    "    return torch.neg(torch.mm(a_norm, b_norm.transpose(0, 1)))"
   ]
  },
  {
   "cell_type": "code",
   "execution_count": 7,
   "id": "49ecb4b5",
   "metadata": {},
   "outputs": [
    {
     "name": "stderr",
     "output_type": "stream",
     "text": [
      "100%|██████████| 41006/41006 [00:00<00:00, 912253.06it/s]\n"
     ]
    }
   ],
   "source": [
    "# Single list of sentences - Possible tens of thousands of sentences\n",
    "sentences = []\n",
    "\n",
    "for data in tqdm(train_data):\n",
    "    for caption in data['articles']:\n",
    "        sentences.append(caption['caption_modified'])"
   ]
  },
  {
   "cell_type": "code",
   "execution_count": 8,
   "id": "07338c80",
   "metadata": {},
   "outputs": [
    {
     "data": {
      "application/vnd.jupyter.widget-view+json": {
       "model_id": "d068adf95d4d4bc8aef1ba636d49a0bb",
       "version_major": 2,
       "version_minor": 0
      },
      "text/plain": [
       "Batches:   0%|          | 0/641 [00:00<?, ?it/s]"
      ]
     },
     "metadata": {},
     "output_type": "display_data"
    }
   ],
   "source": [
    "# paraphrases = util.paraphrase_mining(model, sentences, top_k=1, score_function=neg_cos_sim)\n",
    "paraphrases = util.paraphrase_mining(model, sentences, top_k=1,show_progress_bar=True,\n",
    "batch_size=64)"
   ]
  },
  {
   "cell_type": "code",
   "execution_count": 9,
   "id": "eff9deb5",
   "metadata": {},
   "outputs": [
    {
     "name": "stdout",
     "output_type": "stream",
     "text": [
      "41006\n",
      "35000\n"
     ]
    }
   ],
   "source": [
    "print(len(sentences))\n",
    "print(len(paraphrases))"
   ]
  },
  {
   "cell_type": "code",
   "execution_count": 10,
   "id": "d1bba4e0",
   "metadata": {},
   "outputs": [
    {
     "data": {
      "text/plain": [
       "6768"
      ]
     },
     "execution_count": 10,
     "metadata": {},
     "output_type": "execute_result"
    }
   ],
   "source": [
    "closet = [(g[1],g[2]) for g in paraphrases if g[0]<0.7 and g[0]>0.65]\n",
    "len(closet)"
   ]
  },
  {
   "cell_type": "code",
   "execution_count": 11,
   "id": "7c995b0a",
   "metadata": {},
   "outputs": [],
   "source": [
    "sentence_dict = {}\n",
    "for z in closet:\n",
    "    key = sentences[z[0]]\n",
    "    sentence_dict[key] = sentences[z[1]]"
   ]
  },
  {
   "cell_type": "code",
   "execution_count": 153,
   "id": "e9b9f529",
   "metadata": {},
   "outputs": [],
   "source": [
    "# furthest_list = np.empty((len(sentences),),dtype=int)\n",
    "# for entry in paraphrases:\n",
    "#     furthest_list[entry[1]]=entry[2]\n",
    "# sentences_dict = dict()\n",
    "# for x in range(len(sentences)):\n",
    "#     sentences_dict[sentences[x]] = x"
   ]
  },
  {
   "cell_type": "markdown",
   "id": "9da66c99",
   "metadata": {},
   "source": [
    "# Gen case functions"
   ]
  },
  {
   "cell_type": "code",
   "execution_count": 12,
   "id": "8548dc01",
   "metadata": {},
   "outputs": [],
   "source": [
    "f = open('/root/thesis/X-VLM/image_cap_dict.json')\n",
    "\n",
    "image_cap_dict = json.load(f)\n",
    "f.close()"
   ]
  },
  {
   "cell_type": "code",
   "execution_count": 24,
   "id": "dbdf81f7",
   "metadata": {},
   "outputs": [],
   "source": [
    "def gen_caption(data):\n",
    "    cap1 = data['articles'][np.random.randint(len(data['articles']))]['caption_modified']\n",
    "    try:\n",
    "        cap2 = image_cap_dict[data['img_local_path']]\n",
    "        return [data['img_local_path'],[cap1],[cap2],[False]]\n",
    "    except:\n",
    "        return None"
   ]
  },
  {
   "cell_type": "code",
   "execution_count": 13,
   "id": "f4f5c91d",
   "metadata": {},
   "outputs": [],
   "source": [
    "# Take 2 random correct caption\n",
    "def gen_positive_case(data):\n",
    "    caption_1_idx, caption_2_idx = random.sample(range(0,len(data['articles'])),2)\n",
    "    cap1 = data['articles'][caption_1_idx]['caption_modified']\n",
    "    cap2 = data['articles'][caption_2_idx]['caption_modified']\n",
    "    if cap1 == cap2:\n",
    "        return None\n",
    "    return [data['img_local_path'],[cap1],[cap2],[False]]"
   ]
  },
  {
   "cell_type": "code",
   "execution_count": 4,
   "id": "5eeca261",
   "metadata": {},
   "outputs": [],
   "source": [
    "# Take 2 random false caption\n",
    "def gen_negative_case_1(data, train_data):\n",
    "    data_random1 = train_data[np.random.randint(len(train_data))]\n",
    "    while data['img_local_path'] == data_random1['img_local_path']:\n",
    "        data_random1 = train_data[np.random.randint(len(train_data))]\n",
    "    cap1 = data_random1['articles'][np.random.randint(len(data_random1['articles']))]['caption_modified']\n",
    "    data_random2 = train_data[np.random.randint(len(train_data))]\n",
    "    while data['img_local_path'] == data_random2['img_local_path']:\n",
    "        data_random2 = train_data[np.random.randint(len(train_data))]\n",
    "    cap2 = data_random2['articles'][np.random.randint(len(data_random2['articles']))]['caption_modified']\n",
    "    return [data['img_local_path'],[cap1],[cap2],[True]]"
   ]
  },
  {
   "cell_type": "code",
   "execution_count": 5,
   "id": "ef0bd698",
   "metadata": {},
   "outputs": [],
   "source": [
    "# Take 1 random correct caption, 1 random false caption\n",
    "def gen_negative_case_2(data, train_data):\n",
    "     # Pick 1st correct caption\n",
    "    if np.random.rand()>0.5:\n",
    "        cap1 = data['articles'][np.random.randint(len(data['articles']))]['caption_modified']\n",
    "        # Pick a random article then pick its first caption\n",
    "        data_random = train_data[np.random.randint(len(train_data))]\n",
    "        while data['img_local_path'] == data_random['img_local_path']:\n",
    "            data_random = train_data[np.random.randint(len(train_data))]\n",
    "        cap2 = data_random['articles'][np.random.randint(len(data_random['articles']))]['caption_modified']\n",
    "    else:\n",
    "        cap2 = data['articles'][np.random.randint(len(data['articles']))]['caption_modified']\n",
    "        # Pick a random article then pick its first caption\n",
    "        data_random = train_data[np.random.randint(len(train_data))]\n",
    "        while data['img_local_path'] == data_random['img_local_path']:\n",
    "            data_random = train_data[np.random.randint(len(train_data))]\n",
    "        cap1 = data_random['articles'][np.random.randint(len(data_random['articles']))]['caption_modified']\n",
    "    return [data['img_local_path'],[cap1],[cap2],[True]]"
   ]
  },
  {
   "cell_type": "code",
   "execution_count": 14,
   "id": "2c0acf42",
   "metadata": {},
   "outputs": [],
   "source": [
    "def gen_closest(data, sentences_dict):\n",
    "    cap1 = data['articles'][np.random.randint(len(data['articles']))]['caption_modified']\n",
    "    try:\n",
    "        cap2 = sentences_dict[cap1]\n",
    "        return [data['img_local_path'],[cap1],[cap2],[True]]\n",
    "    except:\n",
    "        return None"
   ]
  },
  {
   "cell_type": "code",
   "execution_count": 15,
   "id": "a0360594",
   "metadata": {},
   "outputs": [],
   "source": [
    "def gen_hoax(data, sufix=' wasn\\'t true.'):\n",
    "    cap1 = data['articles'][np.random.randint(len(data['articles']))]['caption_modified']\n",
    "    cap2 = cap1.rstrip('.') + sufix\n",
    "    return [data['img_local_path'],[cap1],[cap2],[True]]\n"
   ]
  },
  {
   "cell_type": "code",
   "execution_count": 15,
   "id": "c274cf59",
   "metadata": {},
   "outputs": [],
   "source": [
    "def gen_negative_case_3(data, train_data, furthest_list, sentences_dict, sentences, count):\n",
    "    # pick 1 random correct caption\n",
    "    cap1 = data['articles'][np.random.randint(len(data['articles']))]['caption_modified']\n",
    "    # then find its furthest distance caption\n",
    "    cap1_index = sentences_dict[cap1]\n",
    "    try:\n",
    "        cap2 = sentences[furthest_list[cap1_index]]\n",
    "    except:\n",
    "        data_random = train_data[np.random.randint(len(train_data))]\n",
    "        while data['img_local_path'] == data_random['img_local_path']:\n",
    "            data_random = train_data[np.random.randint(len(train_data))]\n",
    "        cap2 = data_random['articles'][np.random.randint(len(data_random['articles']))]['caption_modified']\n",
    "        count.append(cap1_index)\n",
    "    return [data['img_local_path'],[cap1],[cap2],[True]]"
   ]
  },
  {
   "cell_type": "code",
   "execution_count": 16,
   "id": "0920ac20",
   "metadata": {},
   "outputs": [],
   "source": [
    "def gen_negative_case_4(data,train_data, furthest_list, sentences_dict, sentences, count):\n",
    "    # pick 1 random false caption\n",
    "    data_random = train_data[np.random.randint(len(train_data))]\n",
    "    while data['img_local_path'] == data_random['img_local_path']:\n",
    "        data_random = train_data[np.random.randint(len(train_data))]\n",
    "    cap1 = data_random['articles'][np.random.randint(len(data_random['articles']))]['caption_modified']\n",
    "    # then find its furthest distance caption\n",
    "    cap1_index = sentences_dict[cap1]\n",
    "    try:\n",
    "        cap2 = sentences[furthest_list[cap1_index]]\n",
    "    except:\n",
    "        data_random = train_data[np.random.randint(len(train_data))]\n",
    "        while data['img_local_path'] == data_random['img_local_path']:\n",
    "            data_random = train_data[np.random.randint(len(train_data))]\n",
    "        cap2 = data_random['articles'][np.random.randint(len(data_random['articles']))]['caption_modified']\n",
    "        count.append(cap1_index)\n",
    "    return [data['img_local_path'],[cap1],[cap2],[True]]"
   ]
  },
  {
   "cell_type": "code",
   "execution_count": 32,
   "id": "6b42cd90",
   "metadata": {},
   "outputs": [],
   "source": [
    "def gen_negative_case_5(data, train_data):\n",
    "      # choose random image\n",
    "    result = gen_positive_case(data)\n",
    "    if result is not None:\n",
    "      result[0] = train_data[np.random.randint(len(train_data))]['img_local_path']\n",
    "    return result\n"
   ]
  },
  {
   "cell_type": "code",
   "execution_count": 9,
   "id": "9344fc56",
   "metadata": {},
   "outputs": [],
   "source": [
    "def gen_negative_case_6(data, train_data):\n",
    "      # choose random image\n",
    "    result = gen_positive_case(data)\n",
    "    if result is not None:\n",
    "      result[0] = train_data[np.random.randint(len(train_data))]['img_local_path']\n",
    "    return result"
   ]
  },
  {
   "cell_type": "code",
   "execution_count": 16,
   "id": "9aa30a2f",
   "metadata": {},
   "outputs": [],
   "source": [
    "from SentenceNegator import SentenceNegator\n",
    "sn = SentenceNegator()\n",
    "\n",
    "def gen_negative_sentence(data):\n",
    "    cap1 = data['articles'][np.random.randint(len(data['articles']))]['caption_modified']\n",
    "    cap2 = sn.negate(cap1)\n",
    "    if cap2 != cap1:\n",
    "        return [data['img_local_path'],[cap1],[cap2],[True]]\n",
    "    else:\n",
    "        return None"
   ]
  },
  {
   "cell_type": "code",
   "execution_count": 17,
   "id": "f5f25b09",
   "metadata": {},
   "outputs": [
    {
     "name": "stderr",
     "output_type": "stream",
     "text": [
      "100%|██████████| 20503/20503 [00:00<00:00, 55137.82it/s]\n"
     ]
    }
   ],
   "source": [
    "np.random.seed(42)\n",
    "train_data_sample = np.random.choice(train_data_full, size=int(len(train_data_full)*50/100))\n",
    "# Not OOC cases\n",
    "l = []\n",
    "correct = 0\n",
    "hoax=0\n",
    "cap=0\n",
    "closet=0\n",
    "neg=0\n",
    "for data in tqdm(train_data_sample):\n",
    "     if len(data['articles']) > 1:\n",
    "          r = gen_positive_case(data)\n",
    "          if r is not None:\n",
    "               l.append(r)\n",
    "               correct+=1\n",
    "\n",
    "     if np.random.rand()>0.7:\n",
    "          r = gen_negative_sentence(data)\n",
    "          if r is not None:\n",
    "               l.append(r)\n",
    "               neg+=1\n",
    "    \n",
    "     if np.random.rand()>0.7:\n",
    "          r = gen_hoax(data)\n",
    "          if np.random.rand()>0.5:\n",
    "               r = gen_hoax(data, ' was fake.')\n",
    "          l.append(r)\n",
    "          hoax+=1\n",
    "     \n",
    "     # r = gen_caption(data)\n",
    "     # if r is not None:\n",
    "     #      l.append(r)\n",
    "     #      cap+=1\n",
    "\n",
    "     r = gen_closest(data,sentence_dict)\n",
    "     if r is not None:\n",
    "          l.append(r)\n",
    "          closet+=1"
   ]
  },
  {
   "cell_type": "code",
   "execution_count": 43,
   "id": "11bfce7e",
   "metadata": {},
   "outputs": [
    {
     "data": {
      "text/plain": [
       "<AxesSubplot:ylabel='count'>"
      ]
     },
     "execution_count": 43,
     "metadata": {},
     "output_type": "execute_result"
    },
    {
     "data": {
      "image/png": "[encoded data removed]",
      "text/plain": [
       "<Figure size 432x288 with 1 Axes>"
      ]
     },
     "metadata": {},
     "output_type": "display_data"
    }
   ],
   "source": [
    "pd.DataFrame({'count': [correct,cap,hoax,closet,neg]},\n",
    "index=['correct','caption','hoax','closet','neg']).plot.pie(y='count')"
   ]
  },
  {
   "cell_type": "code",
   "execution_count": 18,
   "id": "b3eb6f97",
   "metadata": {},
   "outputs": [
    {
     "data": {
      "text/plain": [
       "<AxesSubplot:ylabel='count'>"
      ]
     },
     "execution_count": 18,
     "metadata": {},
     "output_type": "execute_result"
    },
    {
     "data": {
      "image/png": "[encoded data removed]",
      "text/plain": [
       "<Figure size 432x288 with 1 Axes>"
      ]
     },
     "metadata": {},
     "output_type": "display_data"
    }
   ],
   "source": [
    "pd.DataFrame({'count': [correct,cap,hoax,closet,neg]},\n",
    "index=['correct','caption','hoax','closet','neg']).plot.pie(y='count')"
   ]
  },
  {
   "cell_type": "code",
   "execution_count": 19,
   "id": "2b491360",
   "metadata": {},
   "outputs": [],
   "source": [
    "dataframe = pd.DataFrame(\n",
    "    l, columns=[\"image\", \"caption_1\", \"caption_2\", \"label\"],\n",
    ")"
   ]
  },
  {
   "cell_type": "code",
   "execution_count": 20,
   "id": "e0623f2e",
   "metadata": {},
   "outputs": [],
   "source": [
    "dataframe_xvlm = pd.DataFrame(\n",
    "    l, columns=[\"img_local_path\", \"caption1\", \"caption2\", \"context_label\"],\n",
    ")"
   ]
  },
  {
   "cell_type": "code",
   "execution_count": 21,
   "id": "7915e375",
   "metadata": {},
   "outputs": [],
   "source": [
    "with open(\"/root/thesis/X-VLM/data/finetune/cosmos_val.json\", \"w\") as outfile:\n",
    "    outfile.write(json.dumps(dataframe_xvlm.to_dict(orient='records'))\n",
    ")"
   ]
  },
  {
   "cell_type": "code",
   "execution_count": 22,
   "id": "cae6d00d",
   "metadata": {},
   "outputs": [
    {
     "data": {
      "text/html": [
       "<div>\n",
       "<style scoped>\n",
       "    .dataframe tbody tr th:only-of-type {\n",
       "        vertical-align: middle;\n",
       "    }\n",
       "\n",
       "    .dataframe tbody tr th {\n",
       "        vertical-align: top;\n",
       "    }\n",
       "\n",
       "    .dataframe thead th {\n",
       "        text-align: right;\n",
       "    }\n",
       "</style>\n",
       "<table border=\"1\" class=\"dataframe\">\n",
       "  <thead>\n",
       "    <tr style=\"text-align: right;\">\n",
       "      <th></th>\n",
       "      <th>image</th>\n",
       "      <th>caption_1</th>\n",
       "      <th>caption_2</th>\n",
       "      <th>label</th>\n",
       "    </tr>\n",
       "  </thead>\n",
       "  <tbody>\n",
       "    <tr>\n",
       "      <th>0</th>\n",
       "      <td>val/15795.jpg</td>\n",
       "      <td>[FAC in GPE is one of ORG CARDINAL projects in...</td>\n",
       "      <td>[FAC in GPE is one of ORG Group&amp;#39;s five pro...</td>\n",
       "      <td>[False]</td>\n",
       "    </tr>\n",
       "    <tr>\n",
       "      <th>1</th>\n",
       "      <td>val/15795.jpg</td>\n",
       "      <td>[FAC in GPE is one of ORG Group&amp;#39;s five pro...</td>\n",
       "      <td>[FAC in GPE is one of ORG Group&amp;#39;s five pro...</td>\n",
       "      <td>[True]</td>\n",
       "    </tr>\n",
       "    <tr>\n",
       "      <th>2</th>\n",
       "      <td>val/860.jpg</td>\n",
       "      <td>[President PERSON will travel to GPE, GPE, on ...</td>\n",
       "      <td>[President PERSON will travel to GPE, GPE, on ...</td>\n",
       "      <td>[True]</td>\n",
       "    </tr>\n",
       "    <tr>\n",
       "      <th>3</th>\n",
       "      <td>val/860.jpg</td>\n",
       "      <td>[President PERSON will travel to GPE, GPE, on ...</td>\n",
       "      <td>[Gov. PERSON delivered his final State of the ...</td>\n",
       "      <td>[True]</td>\n",
       "    </tr>\n",
       "    <tr>\n",
       "      <th>4</th>\n",
       "      <td>val/38161.jpg</td>\n",
       "      <td>[Ilkay Gundogan scores the ORDINAL goal for GP...</td>\n",
       "      <td>[DATE: Ilkay Gundogan scores the ORDINAL goal ...</td>\n",
       "      <td>[False]</td>\n",
       "    </tr>\n",
       "    <tr>\n",
       "      <th>5</th>\n",
       "      <td>val/38161.jpg</td>\n",
       "      <td>[Ilkay Gundogan scores the ORDINAL goal for GP...</td>\n",
       "      <td>[Ilkay Gundogan scores the ORDINAL goal for GP...</td>\n",
       "      <td>[True]</td>\n",
       "    </tr>\n",
       "    <tr>\n",
       "      <th>6</th>\n",
       "      <td>val/11284.jpg</td>\n",
       "      <td>[PERSON Music Initiative performs at FAC]</td>\n",
       "      <td>[PERSON Music Initiative does not perform at FAC]</td>\n",
       "      <td>[True]</td>\n",
       "    </tr>\n",
       "    <tr>\n",
       "      <th>7</th>\n",
       "      <td>val/16850.jpg</td>\n",
       "      <td>[ORG came to GPE to purchase CARDINAL of pairs...</td>\n",
       "      <td>[GPE Ladies High Boots Low-kole CARDINAL GPE b...</td>\n",
       "      <td>[True]</td>\n",
       "    </tr>\n",
       "    <tr>\n",
       "      <th>8</th>\n",
       "      <td>val/37197.jpg</td>\n",
       "      <td>[In DATE, she played PERSON at FAC opposite PE...</td>\n",
       "      <td>[PERSON and PERSON in a DATE production at the...</td>\n",
       "      <td>[False]</td>\n",
       "    </tr>\n",
       "    <tr>\n",
       "      <th>9</th>\n",
       "      <td>val/37197.jpg</td>\n",
       "      <td>[In DATE, she played PERSON at FAC opposite PE...</td>\n",
       "      <td>[In DATE, she played PERSON at FAC opposite PE...</td>\n",
       "      <td>[True]</td>\n",
       "    </tr>\n",
       "    <tr>\n",
       "      <th>10</th>\n",
       "      <td>val/16023.jpg</td>\n",
       "      <td>[A resident wearing mask and raincoat voluntee...</td>\n",
       "      <td>[A resident wearing mask and raincoat voluntee...</td>\n",
       "      <td>[True]</td>\n",
       "    </tr>\n",
       "    <tr>\n",
       "      <th>11</th>\n",
       "      <td>val/1685.jpg</td>\n",
       "      <td>[The juice and water for PERSON sits out durin...</td>\n",
       "      <td>[During the trial, PERSON drank only a bottle ...</td>\n",
       "      <td>[False]</td>\n",
       "    </tr>\n",
       "    <tr>\n",
       "      <th>12</th>\n",
       "      <td>val/769.jpg</td>\n",
       "      <td>[PERSON dives headfirst into a cake while perf...</td>\n",
       "      <td>[GPE singer PERSON dives onto a cake while per...</td>\n",
       "      <td>[False]</td>\n",
       "    </tr>\n",
       "    <tr>\n",
       "      <th>13</th>\n",
       "      <td>val/37822.jpg</td>\n",
       "      <td>[PERSON In GPE's PERSON]</td>\n",
       "      <td>[GPE, GPE A crowd of protesters demonstrate as...</td>\n",
       "      <td>[False]</td>\n",
       "    </tr>\n",
       "    <tr>\n",
       "      <th>14</th>\n",
       "      <td>val/37822.jpg</td>\n",
       "      <td>[GPE, GPE A crowd of protesters demonstrate as...</td>\n",
       "      <td>[GPE, GPE A crowd of does not protester demons...</td>\n",
       "      <td>[True]</td>\n",
       "    </tr>\n",
       "    <tr>\n",
       "      <th>15</th>\n",
       "      <td>val/37822.jpg</td>\n",
       "      <td>[PERSON In GPE's PERSON]</td>\n",
       "      <td>[PERSON In GPE's PERSON was fake.]</td>\n",
       "      <td>[True]</td>\n",
       "    </tr>\n",
       "    <tr>\n",
       "      <th>16</th>\n",
       "      <td>val/39191.jpg</td>\n",
       "      <td>[A LOC walrus on a barge sank in GPE, GPE, GPE]</td>\n",
       "      <td>[A LOC walrus on a sunken barge by PERSON in L...</td>\n",
       "      <td>[False]</td>\n",
       "    </tr>\n",
       "    <tr>\n",
       "      <th>17</th>\n",
       "      <td>val/17568.jpg</td>\n",
       "      <td>[PERSON speaking to reporters on DATE after a ...</td>\n",
       "      <td>[PERSON, PERSON mother, spoke at a press confe...</td>\n",
       "      <td>[True]</td>\n",
       "    </tr>\n",
       "    <tr>\n",
       "      <th>18</th>\n",
       "      <td>val/19769.jpg</td>\n",
       "      <td>[Experts at ORG (based in GPE) say that these ...</td>\n",
       "      <td>[These classes are opened with the aim of help...</td>\n",
       "      <td>[False]</td>\n",
       "    </tr>\n",
       "    <tr>\n",
       "      <th>19</th>\n",
       "      <td>val/19769.jpg</td>\n",
       "      <td>[These classes are opened with the aim of help...</td>\n",
       "      <td>[These does not class are opened with the aim ...</td>\n",
       "      <td>[True]</td>\n",
       "    </tr>\n",
       "  </tbody>\n",
       "</table>\n",
       "</div>"
      ],
      "text/plain": [
       "            image                                          caption_1  \\\n",
       "0   val/15795.jpg  [FAC in GPE is one of ORG CARDINAL projects in...   \n",
       "1   val/15795.jpg  [FAC in GPE is one of ORG Group&#39;s five pro...   \n",
       "2     val/860.jpg  [President PERSON will travel to GPE, GPE, on ...   \n",
       "3     val/860.jpg  [President PERSON will travel to GPE, GPE, on ...   \n",
       "4   val/38161.jpg  [Ilkay Gundogan scores the ORDINAL goal for GP...   \n",
       "5   val/38161.jpg  [Ilkay Gundogan scores the ORDINAL goal for GP...   \n",
       "6   val/11284.jpg          [PERSON Music Initiative performs at FAC]   \n",
       "7   val/16850.jpg  [ORG came to GPE to purchase CARDINAL of pairs...   \n",
       "8   val/37197.jpg  [In DATE, she played PERSON at FAC opposite PE...   \n",
       "9   val/37197.jpg  [In DATE, she played PERSON at FAC opposite PE...   \n",
       "10  val/16023.jpg  [A resident wearing mask and raincoat voluntee...   \n",
       "11   val/1685.jpg  [The juice and water for PERSON sits out durin...   \n",
       "12    val/769.jpg  [PERSON dives headfirst into a cake while perf...   \n",
       "13  val/37822.jpg                           [PERSON In GPE's PERSON]   \n",
       "14  val/37822.jpg  [GPE, GPE A crowd of protesters demonstrate as...   \n",
       "15  val/37822.jpg                           [PERSON In GPE's PERSON]   \n",
       "16  val/39191.jpg    [A LOC walrus on a barge sank in GPE, GPE, GPE]   \n",
       "17  val/17568.jpg  [PERSON speaking to reporters on DATE after a ...   \n",
       "18  val/19769.jpg  [Experts at ORG (based in GPE) say that these ...   \n",
       "19  val/19769.jpg  [These classes are opened with the aim of help...   \n",
       "\n",
       "                                            caption_2    label  \n",
       "0   [FAC in GPE is one of ORG Group&#39;s five pro...  [False]  \n",
       "1   [FAC in GPE is one of ORG Group&#39;s five pro...   [True]  \n",
       "2   [President PERSON will travel to GPE, GPE, on ...   [True]  \n",
       "3   [Gov. PERSON delivered his final State of the ...   [True]  \n",
       "4   [DATE: Ilkay Gundogan scores the ORDINAL goal ...  [False]  \n",
       "5   [Ilkay Gundogan scores the ORDINAL goal for GP...   [True]  \n",
       "6   [PERSON Music Initiative does not perform at FAC]   [True]  \n",
       "7   [GPE Ladies High Boots Low-kole CARDINAL GPE b...   [True]  \n",
       "8   [PERSON and PERSON in a DATE production at the...  [False]  \n",
       "9   [In DATE, she played PERSON at FAC opposite PE...   [True]  \n",
       "10  [A resident wearing mask and raincoat voluntee...   [True]  \n",
       "11  [During the trial, PERSON drank only a bottle ...  [False]  \n",
       "12  [GPE singer PERSON dives onto a cake while per...  [False]  \n",
       "13  [GPE, GPE A crowd of protesters demonstrate as...  [False]  \n",
       "14  [GPE, GPE A crowd of does not protester demons...   [True]  \n",
       "15                 [PERSON In GPE's PERSON was fake.]   [True]  \n",
       "16  [A LOC walrus on a sunken barge by PERSON in L...  [False]  \n",
       "17  [PERSON, PERSON mother, spoke at a press confe...   [True]  \n",
       "18  [These classes are opened with the aim of help...  [False]  \n",
       "19  [These does not class are opened with the aim ...   [True]  "
      ]
     },
     "execution_count": 22,
     "metadata": {},
     "output_type": "execute_result"
    }
   ],
   "source": [
    "dataframe[0:20]"
   ]
  },
  {
   "cell_type": "code",
   "execution_count": 23,
   "id": "b1ccdd1f",
   "metadata": {},
   "outputs": [],
   "source": [
    "def load_image(path):\n",
    "   try:\n",
    "      with open(path, \"rb\") as fp:\n",
    "        return fp.read()\n",
    "   except:\n",
    "      return None"
   ]
  },
  {
   "cell_type": "code",
   "execution_count": 24,
   "id": "20de3ae9",
   "metadata": {},
   "outputs": [
    {
     "name": "stderr",
     "output_type": "stream",
     "text": [
      "/root/anaconda3/envs/vilt/lib/python3.8/site-packages/tqdm/std.py:702: FutureWarning: The Panel class is removed from pandas. Accessing it from the top-level namespace will also be removed in the next version\n",
      "  from pandas import Panel\n",
      "100%|██████████| 21386/21386 [00:07<00:00, 2949.97it/s]\n"
     ]
    }
   ],
   "source": [
    "tqdm.pandas()\n",
    "\n",
    "dataframe['image'] = dataframe['image'].progress_apply(lambda x: load_image(x))"
   ]
  },
  {
   "cell_type": "markdown",
   "id": "6dddccd0",
   "metadata": {},
   "source": [
    "# PyArrow"
   ]
  },
  {
   "cell_type": "code",
   "execution_count": 25,
   "id": "47eda01d",
   "metadata": {},
   "outputs": [],
   "source": [
    "table = pa.Table.from_pandas(dataframe)\n"
   ]
  },
  {
   "cell_type": "code",
   "execution_count": 26,
   "id": "6f266cc0",
   "metadata": {},
   "outputs": [],
   "source": [
    "split = 'val'\n",
    "with pa.OSFile(f\"dataset/close/cosmos_{split}.arrow\", \"wb\") as sink:\n",
    "    with pa.RecordBatchFileWriter(sink, table.schema) as writer:\n",
    "        writer.write_table(table)\n",
    "# Data 2 mất file train"
   ]
  },
  {
   "cell_type": "markdown",
   "id": "eab4ed3e",
   "metadata": {},
   "source": [
    "# Val"
   ]
  },
  {
   "cell_type": "markdown",
   "id": "a59e629f",
   "metadata": {},
   "source": [
    "# Test"
   ]
  },
  {
   "cell_type": "code",
   "execution_count": 9,
   "id": "614eb437",
   "metadata": {},
   "outputs": [],
   "source": [
    "import spacy\n",
    "nlp = spacy.load(\"en_core_web_sm\")"
   ]
  },
  {
   "cell_type": "code",
   "execution_count": 10,
   "id": "f2c7e7c4",
   "metadata": {},
   "outputs": [],
   "source": [
    "def modify_caption_replace_entities(caption_text):\n",
    "    \"\"\"\n",
    "        Utility function to replace named entities in the caption with their corresponding hypernyms\n",
    "        Args:\n",
    "            caption_text (str): Original caption with named entities\n",
    "        Returns:\n",
    "            caption_modified (str): Modified caption after replacing named entities\n",
    "    \"\"\"\n",
    "    doc = nlp(caption_text)\n",
    "    caption_modified = caption_text\n",
    "    caption_entity_list = []\n",
    "    for ent in doc.ents:\n",
    "        caption_entity_list.append((ent.text, ent.label_))\n",
    "        caption_modified = caption_modified.replace(ent.text, ent.label_, 1)\n",
    "    return caption_modified"
   ]
  },
  {
   "cell_type": "code",
   "execution_count": 11,
   "id": "cbb1ead5",
   "metadata": {},
   "outputs": [
    {
     "name": "stderr",
     "output_type": "stream",
     "text": [
      "100%|██████████| 1700/1700 [00:24<00:00, 69.59it/s]\n"
     ]
    }
   ],
   "source": [
    "l_test  = []\n",
    "for data in tqdm(test_data):\n",
    "    cap1 = modify_caption_replace_entities(data['caption1'])\n",
    "    cap2 = modify_caption_replace_entities(data['caption2'])\n",
    "    l_test.append([data['img_local_path'],[cap1],[cap2],[data['context_label']==True]])"
   ]
  },
  {
   "cell_type": "code",
   "execution_count": 25,
   "id": "d2b8b825",
   "metadata": {},
   "outputs": [],
   "source": [
    "dataframe_test = pd.DataFrame(\n",
    "    l_test, columns=[\"img_local_path\", \"caption1\", \"caption2\", \"context_label\"],\n",
    ")\n"
   ]
  },
  {
   "cell_type": "code",
   "execution_count": 26,
   "id": "7d53bd38",
   "metadata": {},
   "outputs": [],
   "source": [
    "# json.dumps(dataframe_test.to_dict(orient='records'))\n",
    "#.to_json('test.json', orient='records', lines=True)\n",
    "with open(\"test.json\", \"w\") as outfile:\n",
    "    outfile.write(json.dumps(dataframe_test.to_dict(orient='records'))\n",
    ")"
   ]
  },
  {
   "cell_type": "code",
   "execution_count": 74,
   "id": "85fa816d",
   "metadata": {},
   "outputs": [
    {
     "data": {
      "text/html": [
       "<div>\n",
       "<style scoped>\n",
       "    .dataframe tbody tr th:only-of-type {\n",
       "        vertical-align: middle;\n",
       "    }\n",
       "\n",
       "    .dataframe tbody tr th {\n",
       "        vertical-align: top;\n",
       "    }\n",
       "\n",
       "    .dataframe thead th {\n",
       "        text-align: right;\n",
       "    }\n",
       "</style>\n",
       "<table border=\"1\" class=\"dataframe\">\n",
       "  <thead>\n",
       "    <tr style=\"text-align: right;\">\n",
       "      <th></th>\n",
       "      <th>image</th>\n",
       "      <th>caption_1</th>\n",
       "      <th>caption_2</th>\n",
       "      <th>label</th>\n",
       "    </tr>\n",
       "  </thead>\n",
       "  <tbody>\n",
       "    <tr>\n",
       "      <th>0</th>\n",
       "      <td>test/0.jpg</td>\n",
       "      <td>[PERSON at his announcement in GPE, GPE, on DA...</td>\n",
       "      <td>[PERSON at his announcement in GPE, GPE, on DA...</td>\n",
       "      <td>[False]</td>\n",
       "    </tr>\n",
       "    <tr>\n",
       "      <th>1</th>\n",
       "      <td>test/1.jpg</td>\n",
       "      <td>[Supporters of GPE's ruling ORG party come out...</td>\n",
       "      <td>[A person sits on a truck as supporters of the...</td>\n",
       "      <td>[False]</td>\n",
       "    </tr>\n",
       "    <tr>\n",
       "      <th>2</th>\n",
       "      <td>test/2.jpg</td>\n",
       "      <td>[CARDINAL dead people turned up on the state’s...</td>\n",
       "      <td>[These social media posts did not link to a re...</td>\n",
       "      <td>[True]</td>\n",
       "    </tr>\n",
       "    <tr>\n",
       "      <th>3</th>\n",
       "      <td>test/3.jpg</td>\n",
       "      <td>[Actor, musician, director and devoted followe...</td>\n",
       "      <td>[A shocking report about the former child acto...</td>\n",
       "      <td>[True]</td>\n",
       "    </tr>\n",
       "    <tr>\n",
       "      <th>4</th>\n",
       "      <td>test/4.jpg</td>\n",
       "      <td>[Men from the LOC tribe perform a traditional ...</td>\n",
       "      <td>[And on DATE in GPE's Narok county, young PERS...</td>\n",
       "      <td>[False]</td>\n",
       "    </tr>\n",
       "    <tr>\n",
       "      <th>...</th>\n",
       "      <td>...</td>\n",
       "      <td>...</td>\n",
       "      <td>...</td>\n",
       "      <td>...</td>\n",
       "    </tr>\n",
       "    <tr>\n",
       "      <th>1695</th>\n",
       "      <td>test/1695.jpg</td>\n",
       "      <td>[President PERSON trademarked the name 'WORK_O...</td>\n",
       "      <td>[There was no truth that PERSON family MONEY w...</td>\n",
       "      <td>[True]</td>\n",
       "    </tr>\n",
       "    <tr>\n",
       "      <th>1696</th>\n",
       "      <td>test/1696.jpg</td>\n",
       "      <td>[A photograph shows a soldier carrying a donke...</td>\n",
       "      <td>[Coronavirus meme featuring “EVENT donkey” is ...</td>\n",
       "      <td>[True]</td>\n",
       "    </tr>\n",
       "    <tr>\n",
       "      <th>1697</th>\n",
       "      <td>test/1697.jpg</td>\n",
       "      <td>[Homeless people living on streets in GPE]</td>\n",
       "      <td>[ORG in GPE]</td>\n",
       "      <td>[False]</td>\n",
       "    </tr>\n",
       "    <tr>\n",
       "      <th>1698</th>\n",
       "      <td>test/1698.jpg</td>\n",
       "      <td>[The castle's esplanade was a perfect spot for...</td>\n",
       "      <td>[Picture shows an ORG skier]</td>\n",
       "      <td>[False]</td>\n",
       "    </tr>\n",
       "    <tr>\n",
       "      <th>1699</th>\n",
       "      <td>test/1699.jpg</td>\n",
       "      <td>[We are confident that our reporting will stan...</td>\n",
       "      <td>[ORG Editor-in-Chief PERSON poses for a pictur...</td>\n",
       "      <td>[True]</td>\n",
       "    </tr>\n",
       "  </tbody>\n",
       "</table>\n",
       "<p>1700 rows × 4 columns</p>\n",
       "</div>"
      ],
      "text/plain": [
       "              image                                          caption_1  \\\n",
       "0        test/0.jpg  [PERSON at his announcement in GPE, GPE, on DA...   \n",
       "1        test/1.jpg  [Supporters of GPE's ruling ORG party come out...   \n",
       "2        test/2.jpg  [CARDINAL dead people turned up on the state’s...   \n",
       "3        test/3.jpg  [Actor, musician, director and devoted followe...   \n",
       "4        test/4.jpg  [Men from the LOC tribe perform a traditional ...   \n",
       "...             ...                                                ...   \n",
       "1695  test/1695.jpg  [President PERSON trademarked the name 'WORK_O...   \n",
       "1696  test/1696.jpg  [A photograph shows a soldier carrying a donke...   \n",
       "1697  test/1697.jpg         [Homeless people living on streets in GPE]   \n",
       "1698  test/1698.jpg  [The castle's esplanade was a perfect spot for...   \n",
       "1699  test/1699.jpg  [We are confident that our reporting will stan...   \n",
       "\n",
       "                                              caption_2    label  \n",
       "0     [PERSON at his announcement in GPE, GPE, on DA...  [False]  \n",
       "1     [A person sits on a truck as supporters of the...  [False]  \n",
       "2     [These social media posts did not link to a re...   [True]  \n",
       "3     [A shocking report about the former child acto...   [True]  \n",
       "4     [And on DATE in GPE's Narok county, young PERS...  [False]  \n",
       "...                                                 ...      ...  \n",
       "1695  [There was no truth that PERSON family MONEY w...   [True]  \n",
       "1696  [Coronavirus meme featuring “EVENT donkey” is ...   [True]  \n",
       "1697                                       [ORG in GPE]  [False]  \n",
       "1698                       [Picture shows an ORG skier]  [False]  \n",
       "1699  [ORG Editor-in-Chief PERSON poses for a pictur...   [True]  \n",
       "\n",
       "[1700 rows x 4 columns]"
      ]
     },
     "execution_count": 74,
     "metadata": {},
     "output_type": "execute_result"
    }
   ],
   "source": [
    "dataframe_test"
   ]
  },
  {
   "cell_type": "code",
   "execution_count": 75,
   "id": "5ba1d0f0",
   "metadata": {},
   "outputs": [
    {
     "name": "stderr",
     "output_type": "stream",
     "text": [
      "/root/anaconda3/envs/vilt/lib/python3.8/site-packages/tqdm/std.py:702: FutureWarning: The Panel class is removed from pandas. Accessing it from the top-level namespace will also be removed in the next version\n",
      "  from pandas import Panel\n",
      "100%|██████████| 1700/1700 [00:00<00:00, 9703.16it/s]\n"
     ]
    }
   ],
   "source": [
    "tqdm.pandas()\n",
    "\n",
    "dataframe_test['image'] = dataframe_test['image'].progress_apply(lambda x: load_image(x))"
   ]
  },
  {
   "cell_type": "code",
   "execution_count": 76,
   "id": "4a5dc6a1",
   "metadata": {},
   "outputs": [
    {
     "data": {
      "text/html": [
       "<div>\n",
       "<style scoped>\n",
       "    .dataframe tbody tr th:only-of-type {\n",
       "        vertical-align: middle;\n",
       "    }\n",
       "\n",
       "    .dataframe tbody tr th {\n",
       "        vertical-align: top;\n",
       "    }\n",
       "\n",
       "    .dataframe thead th {\n",
       "        text-align: right;\n",
       "    }\n",
       "</style>\n",
       "<table border=\"1\" class=\"dataframe\">\n",
       "  <thead>\n",
       "    <tr style=\"text-align: right;\">\n",
       "      <th></th>\n",
       "      <th>image</th>\n",
       "      <th>caption_1</th>\n",
       "      <th>caption_2</th>\n",
       "      <th>label</th>\n",
       "    </tr>\n",
       "  </thead>\n",
       "  <tbody>\n",
       "    <tr>\n",
       "      <th>0</th>\n",
       "      <td>b'\\xff\\xd8\\xff\\xe0\\x00\\x10JFIF\\x00\\x01\\x01\\x00...</td>\n",
       "      <td>[PERSON at his announcement in GPE, GPE, on DA...</td>\n",
       "      <td>[PERSON at his announcement in GPE, GPE, on DA...</td>\n",
       "      <td>[False]</td>\n",
       "    </tr>\n",
       "    <tr>\n",
       "      <th>1</th>\n",
       "      <td>b'\\xff\\xd8\\xff\\xe0\\x00\\x10JFIF\\x00\\x01\\x01\\x00...</td>\n",
       "      <td>[Supporters of GPE's ruling ORG party come out...</td>\n",
       "      <td>[A person sits on a truck as supporters of the...</td>\n",
       "      <td>[False]</td>\n",
       "    </tr>\n",
       "    <tr>\n",
       "      <th>2</th>\n",
       "      <td>b'\\xff\\xd8\\xff\\xe0\\x00\\x10JFIF\\x00\\x01\\x01\\x00...</td>\n",
       "      <td>[CARDINAL dead people turned up on the state’s...</td>\n",
       "      <td>[These social media posts did not link to a re...</td>\n",
       "      <td>[True]</td>\n",
       "    </tr>\n",
       "    <tr>\n",
       "      <th>3</th>\n",
       "      <td>b'\\xff\\xd8\\xff\\xe0\\x00\\x10JFIF\\x00\\x01\\x01\\x00...</td>\n",
       "      <td>[Actor, musician, director and devoted followe...</td>\n",
       "      <td>[A shocking report about the former child acto...</td>\n",
       "      <td>[True]</td>\n",
       "    </tr>\n",
       "    <tr>\n",
       "      <th>4</th>\n",
       "      <td>b'\\xff\\xd8\\xff\\xe0\\x00\\x10JFIF\\x00\\x01\\x01\\x00...</td>\n",
       "      <td>[Men from the LOC tribe perform a traditional ...</td>\n",
       "      <td>[And on DATE in GPE's Narok county, young PERS...</td>\n",
       "      <td>[False]</td>\n",
       "    </tr>\n",
       "    <tr>\n",
       "      <th>...</th>\n",
       "      <td>...</td>\n",
       "      <td>...</td>\n",
       "      <td>...</td>\n",
       "      <td>...</td>\n",
       "    </tr>\n",
       "    <tr>\n",
       "      <th>1695</th>\n",
       "      <td>b'\\xff\\xd8\\xff\\xe0\\x00\\x10JFIF\\x00\\x01\\x01\\x00...</td>\n",
       "      <td>[President PERSON trademarked the name 'WORK_O...</td>\n",
       "      <td>[There was no truth that PERSON family MONEY w...</td>\n",
       "      <td>[True]</td>\n",
       "    </tr>\n",
       "    <tr>\n",
       "      <th>1696</th>\n",
       "      <td>b'\\xff\\xd8\\xff\\xe0\\x00\\x10JFIF\\x00\\x01\\x01\\x00...</td>\n",
       "      <td>[A photograph shows a soldier carrying a donke...</td>\n",
       "      <td>[Coronavirus meme featuring “EVENT donkey” is ...</td>\n",
       "      <td>[True]</td>\n",
       "    </tr>\n",
       "    <tr>\n",
       "      <th>1697</th>\n",
       "      <td>b'\\xff\\xd8\\xff\\xe0\\x00\\x10JFIF\\x00\\x01\\x01\\x00...</td>\n",
       "      <td>[Homeless people living on streets in GPE]</td>\n",
       "      <td>[ORG in GPE]</td>\n",
       "      <td>[False]</td>\n",
       "    </tr>\n",
       "    <tr>\n",
       "      <th>1698</th>\n",
       "      <td>b'\\xff\\xd8\\xff\\xe0\\x00\\x10JFIF\\x00\\x01\\x01\\x00...</td>\n",
       "      <td>[The castle's esplanade was a perfect spot for...</td>\n",
       "      <td>[Picture shows an ORG skier]</td>\n",
       "      <td>[False]</td>\n",
       "    </tr>\n",
       "    <tr>\n",
       "      <th>1699</th>\n",
       "      <td>b'\\xff\\xd8\\xff\\xe0\\x00\\x10JFIF\\x00\\x01\\x01\\x00...</td>\n",
       "      <td>[We are confident that our reporting will stan...</td>\n",
       "      <td>[ORG Editor-in-Chief PERSON poses for a pictur...</td>\n",
       "      <td>[True]</td>\n",
       "    </tr>\n",
       "  </tbody>\n",
       "</table>\n",
       "<p>1700 rows × 4 columns</p>\n",
       "</div>"
      ],
      "text/plain": [
       "                                                  image  \\\n",
       "0     b'\\xff\\xd8\\xff\\xe0\\x00\\x10JFIF\\x00\\x01\\x01\\x00...   \n",
       "1     b'\\xff\\xd8\\xff\\xe0\\x00\\x10JFIF\\x00\\x01\\x01\\x00...   \n",
       "2     b'\\xff\\xd8\\xff\\xe0\\x00\\x10JFIF\\x00\\x01\\x01\\x00...   \n",
       "3     b'\\xff\\xd8\\xff\\xe0\\x00\\x10JFIF\\x00\\x01\\x01\\x00...   \n",
       "4     b'\\xff\\xd8\\xff\\xe0\\x00\\x10JFIF\\x00\\x01\\x01\\x00...   \n",
       "...                                                 ...   \n",
       "1695  b'\\xff\\xd8\\xff\\xe0\\x00\\x10JFIF\\x00\\x01\\x01\\x00...   \n",
       "1696  b'\\xff\\xd8\\xff\\xe0\\x00\\x10JFIF\\x00\\x01\\x01\\x00...   \n",
       "1697  b'\\xff\\xd8\\xff\\xe0\\x00\\x10JFIF\\x00\\x01\\x01\\x00...   \n",
       "1698  b'\\xff\\xd8\\xff\\xe0\\x00\\x10JFIF\\x00\\x01\\x01\\x00...   \n",
       "1699  b'\\xff\\xd8\\xff\\xe0\\x00\\x10JFIF\\x00\\x01\\x01\\x00...   \n",
       "\n",
       "                                              caption_1  \\\n",
       "0     [PERSON at his announcement in GPE, GPE, on DA...   \n",
       "1     [Supporters of GPE's ruling ORG party come out...   \n",
       "2     [CARDINAL dead people turned up on the state’s...   \n",
       "3     [Actor, musician, director and devoted followe...   \n",
       "4     [Men from the LOC tribe perform a traditional ...   \n",
       "...                                                 ...   \n",
       "1695  [President PERSON trademarked the name 'WORK_O...   \n",
       "1696  [A photograph shows a soldier carrying a donke...   \n",
       "1697         [Homeless people living on streets in GPE]   \n",
       "1698  [The castle's esplanade was a perfect spot for...   \n",
       "1699  [We are confident that our reporting will stan...   \n",
       "\n",
       "                                              caption_2    label  \n",
       "0     [PERSON at his announcement in GPE, GPE, on DA...  [False]  \n",
       "1     [A person sits on a truck as supporters of the...  [False]  \n",
       "2     [These social media posts did not link to a re...   [True]  \n",
       "3     [A shocking report about the former child acto...   [True]  \n",
       "4     [And on DATE in GPE's Narok county, young PERS...  [False]  \n",
       "...                                                 ...      ...  \n",
       "1695  [There was no truth that PERSON family MONEY w...   [True]  \n",
       "1696  [Coronavirus meme featuring “EVENT donkey” is ...   [True]  \n",
       "1697                                       [ORG in GPE]  [False]  \n",
       "1698                       [Picture shows an ORG skier]  [False]  \n",
       "1699  [ORG Editor-in-Chief PERSON poses for a pictur...   [True]  \n",
       "\n",
       "[1700 rows x 4 columns]"
      ]
     },
     "execution_count": 76,
     "metadata": {},
     "output_type": "execute_result"
    }
   ],
   "source": [
    "dataframe_test"
   ]
  },
  {
   "cell_type": "markdown",
   "id": "219bfdb9",
   "metadata": {},
   "source": [
    "# PyArrow"
   ]
  },
  {
   "cell_type": "code",
   "execution_count": 77,
   "id": "250c78ba",
   "metadata": {},
   "outputs": [],
   "source": [
    "table = pa.Table.from_pandas(dataframe_test)\n",
    "split = 'test'\n",
    "with pa.OSFile(f\"dataset_50/cosmos_{split}.arrow\", \"wb\") as sink:\n",
    "    with pa.RecordBatchFileWriter(sink, table.schema) as writer:\n",
    "        writer.write_table(table)"
   ]
  }
 ],
 "metadata": {
  "interpreter": {
   "hash": "dd6ac6d03954cf65a3aa8ce4cedda9aac0145a018ad67eca07aa9c761ef41ce4"
  },
  "kernelspec": {
   "display_name": "Python 3.8.5 ('vilt')",
   "language": "python",
   "name": "python3"
  },
  "language_info": {
   "codemirror_mode": {
    "name": "ipython",
    "version": 3
   },
   "file_extension": ".py",
   "mimetype": "text/x-python",
   "name": "python",
   "nbconvert_exporter": "python",
   "pygments_lexer": "ipython3",
   "version": "3.8.5"
  }
 },
 "nbformat": 4,
 "nbformat_minor": 5
}
