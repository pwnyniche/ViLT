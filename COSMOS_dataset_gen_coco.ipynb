{
 "cells": [
  {
   "cell_type": "code",
   "execution_count": 1,
   "id": "9963f140",
   "metadata": {},
   "outputs": [],
   "source": [
    "import json\n",
    "import sys\n",
    "import random\n",
    "from tqdm import tqdm\n",
    "from collections import defaultdict\n",
    "import pyarrow as pa\n",
    "import pandas as pd\n",
    "import numpy as np\n",
    "import matplotlib.pyplot as plt\n",
    "from sentence_transformers import SentenceTransformer, util\n",
    "import torch"
   ]
  },
  {
   "cell_type": "markdown",
   "id": "a5a164bb",
   "metadata": {},
   "source": [
    "# Import data"
   ]
  },
  {
   "cell_type": "code",
   "execution_count": 13,
   "id": "53dd889f",
   "metadata": {},
   "outputs": [
    {
     "name": "stdout",
     "output_type": "stream",
     "text": [
      "CPU times: user 3.01 s, sys: 89.8 ms, total: 3.1 s\n",
      "Wall time: 3.11 s\n"
     ]
    }
   ],
   "source": [
    "%%time\n",
    "root = '.'\n",
    "\n",
    "# train_data = list(\n",
    "#     map(json.loads, open(f\"{root}/cosmos/train_data.json\").readlines())\n",
    "# )\n",
    "test_data = list(\n",
    "    map(json.loads, open(f\"{root}/cosmos/test_data.json\").readlines())\n",
    ")\n",
    "train_data = list(map(json.loads, open(f\"{root}/cosmos/val_data.json\").readlines()))"
   ]
  },
  {
   "cell_type": "code",
   "execution_count": 4,
   "id": "7572838c",
   "metadata": {},
   "outputs": [],
   "source": [
    "torch.cuda.set_device(0)"
   ]
  },
  {
   "cell_type": "markdown",
   "id": "9da66c99",
   "metadata": {},
   "source": [
    "# Gen case functions"
   ]
  },
  {
   "cell_type": "code",
   "execution_count": 12,
   "id": "f4f5c91d",
   "metadata": {},
   "outputs": [],
   "source": [
    "# Take 2 random correct caption\n",
    "def gen_positive_case(data):\n",
    "    caption_1_idx, caption_2_idx = random.sample(range(0,len(data['articles'])),2)\n",
    "    cap1 = data['articles'][caption_1_idx]['caption_modified']\n",
    "    cap2 = data['articles'][caption_2_idx]['caption_modified']\n",
    "    if cap1 == cap2:\n",
    "        return None\n",
    "    return [data['img_local_path'],[cap1],[cap2],[False]]"
   ]
  },
  {
   "cell_type": "code",
   "execution_count": 13,
   "id": "5eeca261",
   "metadata": {},
   "outputs": [],
   "source": [
    "# Take 2 random false caption\n",
    "def gen_negative_case_1(data, train_data):\n",
    "    data_random1 = train_data[np.random.randint(len(train_data))]\n",
    "    while data['img_local_path'] == data_random1['img_local_path']:\n",
    "        data_random1 = train_data[np.random.randint(len(train_data))]\n",
    "    cap1 = data_random1['articles'][np.random.randint(len(data_random1['articles']))]['caption_modified']\n",
    "    data_random2 = train_data[np.random.randint(len(train_data))]\n",
    "    while data['img_local_path'] == data_random2['img_local_path']:\n",
    "        data_random2 = train_data[np.random.randint(len(train_data))]\n",
    "    cap2 = data_random2['articles'][np.random.randint(len(data_random2['articles']))]['caption_modified']\n",
    "    return [data['img_local_path'],[cap1],[cap2],[True]]"
   ]
  },
  {
   "cell_type": "code",
   "execution_count": 14,
   "id": "ef0bd698",
   "metadata": {},
   "outputs": [],
   "source": [
    "# Take 1 random correct caption, 1 random false caption\n",
    "def gen_negative_case_2(data, train_data):\n",
    "     # Pick 1st correct caption\n",
    "    if np.random.rand()>0.5:\n",
    "        cap1 = data['articles'][np.random.randint(len(data['articles']))]['caption_modified']\n",
    "        # Pick a random article then pick its first caption\n",
    "        data_random = train_data[np.random.randint(len(train_data))]\n",
    "        while data['img_local_path'] == data_random['img_local_path']:\n",
    "            data_random = train_data[np.random.randint(len(train_data))]\n",
    "        cap2 = data_random['articles'][np.random.randint(len(data_random['articles']))]['caption_modified']\n",
    "    else:\n",
    "        cap2 = data['articles'][np.random.randint(len(data['articles']))]['caption_modified']\n",
    "        # Pick a random article then pick its first caption\n",
    "        data_random = train_data[np.random.randint(len(train_data))]\n",
    "        while data['img_local_path'] == data_random['img_local_path']:\n",
    "            data_random = train_data[np.random.randint(len(train_data))]\n",
    "        cap1 = data_random['articles'][np.random.randint(len(data_random['articles']))]['caption_modified']\n",
    "    return [data['img_local_path'],[cap1],[cap2],[True]]"
   ]
  },
  {
   "cell_type": "code",
   "execution_count": 15,
   "id": "c274cf59",
   "metadata": {},
   "outputs": [],
   "source": [
    "def gen_negative_case_3(data, train_data, furthest_list, sentences_dict, sentences, count):\n",
    "    # pick 1 random correct caption\n",
    "    cap1 = data['articles'][np.random.randint(len(data['articles']))]['caption_modified']\n",
    "    # then find its furthest distance caption\n",
    "    cap1_index = sentences_dict[cap1]\n",
    "    try:\n",
    "        cap2 = sentences[furthest_list[cap1_index]]\n",
    "    except:\n",
    "        data_random = train_data[np.random.randint(len(train_data))]\n",
    "        while data['img_local_path'] == data_random['img_local_path']:\n",
    "            data_random = train_data[np.random.randint(len(train_data))]\n",
    "        cap2 = data_random['articles'][np.random.randint(len(data_random['articles']))]['caption_modified']\n",
    "        count.append(cap1_index)\n",
    "    return [data['img_local_path'],[cap1],[cap2],[True]]"
   ]
  },
  {
   "cell_type": "code",
   "execution_count": 16,
   "id": "0920ac20",
   "metadata": {},
   "outputs": [],
   "source": [
    "def gen_negative_case_4(data,train_data, furthest_list, sentences_dict, sentences, count):\n",
    "    # pick 1 random false caption\n",
    "    data_random = train_data[np.random.randint(len(train_data))]\n",
    "    while data['img_local_path'] == data_random['img_local_path']:\n",
    "        data_random = train_data[np.random.randint(len(train_data))]\n",
    "    cap1 = data_random['articles'][np.random.randint(len(data_random['articles']))]['caption_modified']\n",
    "    # then find its furthest distance caption\n",
    "    cap1_index = sentences_dict[cap1]\n",
    "    try:\n",
    "        cap2 = sentences[furthest_list[cap1_index]]\n",
    "    except:\n",
    "        data_random = train_data[np.random.randint(len(train_data))]\n",
    "        while data['img_local_path'] == data_random['img_local_path']:\n",
    "            data_random = train_data[np.random.randint(len(train_data))]\n",
    "        cap2 = data_random['articles'][np.random.randint(len(data_random['articles']))]['caption_modified']\n",
    "        count.append(cap1_index)\n",
    "    return [data['img_local_path'],[cap1],[cap2],[True]]"
   ]
  },
  {
   "cell_type": "code",
   "execution_count": 17,
   "id": "6b42cd90",
   "metadata": {},
   "outputs": [],
   "source": [
    "def gen_negative_case_5(data, train_data):\n",
    "      # choose random image\n",
    "    result = gen_positive_case(data)\n",
    "    result[0] = train_data[np.random.randint(len(train_data))]['img_local_path']\n",
    "    return result\n"
   ]
  },
  {
   "cell_type": "code",
   "execution_count": 18,
   "id": "9344fc56",
   "metadata": {},
   "outputs": [],
   "source": [
    "def gen_negative_case_6(data, train_data):\n",
    "      # choose random image\n",
    "    result = gen_positive_case(data)\n",
    "    result[0] = train_data[np.random.randint(len(train_data))]['img_local_path']\n",
    "    return result"
   ]
  },
  {
   "cell_type": "code",
   "execution_count": 19,
   "id": "9aa30a2f",
   "metadata": {},
   "outputs": [],
   "source": [
    "from SentenceNegator import SentenceNegator\n",
    "sn = SentenceNegator()\n",
    "\n",
    "def gen_negative_sentence(data):\n",
    "    cap1 = data['articles'][np.random.randint(len(data['articles']))]['caption_modified']\n",
    "    cap2 = sn.negate(cap1)\n",
    "    if cap2 != cap1:\n",
    "        return [data['img_local_path'],[cap1],[cap2],[True]]\n",
    "    else:\n",
    "        return None"
   ]
  },
  {
   "cell_type": "code",
   "execution_count": 14,
   "id": "f5f25b09",
   "metadata": {},
   "outputs": [
    {
     "name": "stderr",
     "output_type": "stream",
     "text": [
      "100%|██████████| 41006/41006 [00:00<00:00, 528677.96it/s]\n"
     ]
    }
   ],
   "source": [
    "np.random.seed(42)\n",
    "# train_data_sample = np.random.choice(train_data, size=int(len(train_data)*50/100))\n",
    "# Not OOC cases\n",
    "l = []\n",
    "\n",
    "for data in tqdm(train_data):\n",
    "    # articles = [article['caption_modified'] for article in data['articles']]\n",
    "    # l.append([data['img_local_path'],articles,data['img_local_path'],'train'])\n",
    "    for article in data['articles']:\n",
    "        l.append([data['img_local_path'],article['caption']])"
   ]
  },
  {
   "cell_type": "code",
   "execution_count": null,
   "id": "708224ee",
   "metadata": {},
   "outputs": [],
   "source": []
  },
  {
   "cell_type": "code",
   "execution_count": 15,
   "id": "2b491360",
   "metadata": {},
   "outputs": [],
   "source": [
    "dataframe = pd.DataFrame(\n",
    "    l, columns=[\"image\", \"caption\"],\n",
    ")"
   ]
  },
  {
   "cell_type": "code",
   "execution_count": 16,
   "id": "c603b4d7",
   "metadata": {},
   "outputs": [],
   "source": [
    "dataframe.to_json('cosmos_caption_val.json', orient='records')"
   ]
  },
  {
   "cell_type": "code",
   "execution_count": 20,
   "id": "7915e375",
   "metadata": {},
   "outputs": [],
   "source": [
    "dataframe.to_json('train.json', orient='records', lines=True)\n"
   ]
  },
  {
   "cell_type": "code",
   "execution_count": 20,
   "id": "b1ccdd1f",
   "metadata": {},
   "outputs": [],
   "source": [
    "def load_image(path):\n",
    "   try:\n",
    "      with open(path, \"rb\") as fp:\n",
    "        return fp.read()\n",
    "   except:\n",
    "      return None"
   ]
  },
  {
   "cell_type": "code",
   "execution_count": 31,
   "id": "20de3ae9",
   "metadata": {},
   "outputs": [
    {
     "name": "stderr",
     "output_type": "stream",
     "text": [
      "/root/anaconda3/envs/vilt/lib/python3.8/site-packages/tqdm/std.py:702: FutureWarning: The Panel class is removed from pandas. Accessing it from the top-level namespace will also be removed in the next version\n",
      "  from pandas import Panel\n",
      "100%|██████████| 161754/161754 [00:17<00:00, 8995.33it/s] \n"
     ]
    }
   ],
   "source": [
    "tqdm.pandas()\n",
    "\n",
    "dataframe['image'] = dataframe['image'].progress_apply(lambda x: load_image(x))"
   ]
  },
  {
   "cell_type": "code",
   "execution_count": 32,
   "id": "71b1b576",
   "metadata": {},
   "outputs": [],
   "source": [
    "dataframe = dataframe[dataframe.image.notnull()]"
   ]
  },
  {
   "cell_type": "code",
   "execution_count": 33,
   "id": "d934b31f",
   "metadata": {},
   "outputs": [],
   "source": [
    "dataframe_train = dataframe.copy()"
   ]
  },
  {
   "cell_type": "code",
   "execution_count": 38,
   "id": "133e1b8e",
   "metadata": {},
   "outputs": [],
   "source": [
    "dataframe_full = pd.concat([dataframe_train,dataframe_val])"
   ]
  },
  {
   "cell_type": "code",
   "execution_count": 46,
   "id": "28b1a574",
   "metadata": {},
   "outputs": [],
   "source": [
    "np.random.seed(42)\n",
    "dataframe_shuffled = dataframe_full.sample(frac=1).copy()"
   ]
  },
  {
   "cell_type": "code",
   "execution_count": 52,
   "id": "ebe3c529",
   "metadata": {},
   "outputs": [],
   "source": [
    "df_train = dataframe_shuffled[:141932]\n",
    "df_val = dataframe_shuffled[141932:172346]\n",
    "df_test = dataframe_shuffled[172346:]\n"
   ]
  },
  {
   "cell_type": "code",
   "execution_count": 53,
   "id": "b2c451e6",
   "metadata": {},
   "outputs": [
    {
     "data": {
      "text/plain": [
       "(141932, 30414, 30414)"
      ]
     },
     "execution_count": 53,
     "metadata": {},
     "output_type": "execute_result"
    }
   ],
   "source": [
    "len(df_train),len(df_val),len(df_test)"
   ]
  },
  {
   "cell_type": "code",
   "execution_count": 54,
   "id": "414b9dde",
   "metadata": {},
   "outputs": [
    {
     "name": "stderr",
     "output_type": "stream",
     "text": [
      "/tmp/ipykernel_843356/1167803467.py:1: SettingWithCopyWarning: \n",
      "A value is trying to be set on a copy of a slice from a DataFrame.\n",
      "Try using .loc[row_indexer,col_indexer] = value instead\n",
      "\n",
      "See the caveats in the documentation: https://pandas.pydata.org/pandas-docs/stable/user_guide/indexing.html#returning-a-view-versus-a-copy\n",
      "  df_train['split']='train'\n",
      "/tmp/ipykernel_843356/1167803467.py:2: SettingWithCopyWarning: \n",
      "A value is trying to be set on a copy of a slice from a DataFrame.\n",
      "Try using .loc[row_indexer,col_indexer] = value instead\n",
      "\n",
      "See the caveats in the documentation: https://pandas.pydata.org/pandas-docs/stable/user_guide/indexing.html#returning-a-view-versus-a-copy\n",
      "  df_val['split']='val'\n",
      "/tmp/ipykernel_843356/1167803467.py:3: SettingWithCopyWarning: \n",
      "A value is trying to be set on a copy of a slice from a DataFrame.\n",
      "Try using .loc[row_indexer,col_indexer] = value instead\n",
      "\n",
      "See the caveats in the documentation: https://pandas.pydata.org/pandas-docs/stable/user_guide/indexing.html#returning-a-view-versus-a-copy\n",
      "  df_test['split']='test'\n"
     ]
    }
   ],
   "source": [
    "df_train['split']='train'\n",
    "df_val['split']='val'\n",
    "df_test['split']='test'"
   ]
  },
  {
   "cell_type": "markdown",
   "id": "6dddccd0",
   "metadata": {},
   "source": [
    "# PyArrow"
   ]
  },
  {
   "cell_type": "code",
   "execution_count": 23,
   "id": "47eda01d",
   "metadata": {},
   "outputs": [],
   "source": []
  },
  {
   "cell_type": "code",
   "execution_count": 56,
   "id": "6f266cc0",
   "metadata": {},
   "outputs": [],
   "source": [
    "table = pa.Table.from_pandas(df_train)\n",
    "split = 'train'\n",
    "with pa.OSFile(f\"dataset/captioning/cosmos_{split}.arrow\", \"wb\") as sink:\n",
    "    with pa.RecordBatchFileWriter(sink, table.schema) as writer:\n",
    "        writer.write_table(table)\n",
    "\n",
    "table = pa.Table.from_pandas(df_val)\n",
    "split = 'val'\n",
    "with pa.OSFile(f\"dataset/captioning/cosmos_{split}.arrow\", \"wb\") as sink:\n",
    "    with pa.RecordBatchFileWriter(sink, table.schema) as writer:\n",
    "        writer.write_table(table)\n",
    "\n",
    "table = pa.Table.from_pandas(df_test)\n",
    "split = 'test'\n",
    "with pa.OSFile(f\"dataset/captioning/cosmos_{split}.arrow\", \"wb\") as sink:\n",
    "    with pa.RecordBatchFileWriter(sink, table.schema) as writer:\n",
    "        writer.write_table(table)"
   ]
  },
  {
   "cell_type": "markdown",
   "id": "eab4ed3e",
   "metadata": {},
   "source": [
    "# Val"
   ]
  },
  {
   "cell_type": "markdown",
   "id": "a59e629f",
   "metadata": {},
   "source": [
    "# Test"
   ]
  },
  {
   "cell_type": "code",
   "execution_count": null,
   "id": "614eb437",
   "metadata": {},
   "outputs": [],
   "source": [
    "import spacy\n",
    "nlp = spacy.load(\"en_core_web_sm\")"
   ]
  },
  {
   "cell_type": "code",
   "execution_count": null,
   "id": "f2c7e7c4",
   "metadata": {},
   "outputs": [],
   "source": [
    "def modify_caption_replace_entities(caption_text):\n",
    "    \"\"\"\n",
    "        Utility function to replace named entities in the caption with their corresponding hypernyms\n",
    "        Args:\n",
    "            caption_text (str): Original caption with named entities\n",
    "        Returns:\n",
    "            caption_modified (str): Modified caption after replacing named entities\n",
    "    \"\"\"\n",
    "    doc = nlp(caption_text)\n",
    "    caption_modified = caption_text\n",
    "    caption_entity_list = []\n",
    "    for ent in doc.ents:\n",
    "        caption_entity_list.append((ent.text, ent.label_))\n",
    "        caption_modified = caption_modified.replace(ent.text, ent.label_, 1)\n",
    "    return caption_modified"
   ]
  },
  {
   "cell_type": "code",
   "execution_count": 72,
   "id": "cbb1ead5",
   "metadata": {},
   "outputs": [
    {
     "name": "stderr",
     "output_type": "stream",
     "text": [
      "100%|██████████| 1700/1700 [00:19<00:00, 88.33it/s]\n"
     ]
    }
   ],
   "source": [
    "l_test  = []\n",
    "for data in tqdm(test_data):\n",
    "    cap1 = modify_caption_replace_entities(data['caption1'])\n",
    "    cap2 = modify_caption_replace_entities(data['caption2'])\n",
    "    l_test.append([data['img_local_path'],[cap1],[cap2],[data['context_label']==True]])"
   ]
  },
  {
   "cell_type": "code",
   "execution_count": 73,
   "id": "d2b8b825",
   "metadata": {},
   "outputs": [],
   "source": [
    "dataframe_test = pd.DataFrame(\n",
    "    l_test, columns=[\"image\", \"caption_1\", \"caption_2\", \"label\"],\n",
    ")"
   ]
  },
  {
   "cell_type": "code",
   "execution_count": 74,
   "id": "85fa816d",
   "metadata": {},
   "outputs": [
    {
     "data": {
      "text/html": [
       "<div>\n",
       "<style scoped>\n",
       "    .dataframe tbody tr th:only-of-type {\n",
       "        vertical-align: middle;\n",
       "    }\n",
       "\n",
       "    .dataframe tbody tr th {\n",
       "        vertical-align: top;\n",
       "    }\n",
       "\n",
       "    .dataframe thead th {\n",
       "        text-align: right;\n",
       "    }\n",
       "</style>\n",
       "<table border=\"1\" class=\"dataframe\">\n",
       "  <thead>\n",
       "    <tr style=\"text-align: right;\">\n",
       "      <th></th>\n",
       "      <th>image</th>\n",
       "      <th>caption_1</th>\n",
       "      <th>caption_2</th>\n",
       "      <th>label</th>\n",
       "    </tr>\n",
       "  </thead>\n",
       "  <tbody>\n",
       "    <tr>\n",
       "      <th>0</th>\n",
       "      <td>test/0.jpg</td>\n",
       "      <td>[PERSON at his announcement in GPE, GPE, on DA...</td>\n",
       "      <td>[PERSON at his announcement in GPE, GPE, on DA...</td>\n",
       "      <td>[False]</td>\n",
       "    </tr>\n",
       "    <tr>\n",
       "      <th>1</th>\n",
       "      <td>test/1.jpg</td>\n",
       "      <td>[Supporters of GPE's ruling ORG party come out...</td>\n",
       "      <td>[A person sits on a truck as supporters of the...</td>\n",
       "      <td>[False]</td>\n",
       "    </tr>\n",
       "    <tr>\n",
       "      <th>2</th>\n",
       "      <td>test/2.jpg</td>\n",
       "      <td>[CARDINAL dead people turned up on the state’s...</td>\n",
       "      <td>[These social media posts did not link to a re...</td>\n",
       "      <td>[True]</td>\n",
       "    </tr>\n",
       "    <tr>\n",
       "      <th>3</th>\n",
       "      <td>test/3.jpg</td>\n",
       "      <td>[Actor, musician, director and devoted followe...</td>\n",
       "      <td>[A shocking report about the former child acto...</td>\n",
       "      <td>[True]</td>\n",
       "    </tr>\n",
       "    <tr>\n",
       "      <th>4</th>\n",
       "      <td>test/4.jpg</td>\n",
       "      <td>[Men from the LOC tribe perform a traditional ...</td>\n",
       "      <td>[And on DATE in GPE's Narok county, young PERS...</td>\n",
       "      <td>[False]</td>\n",
       "    </tr>\n",
       "    <tr>\n",
       "      <th>...</th>\n",
       "      <td>...</td>\n",
       "      <td>...</td>\n",
       "      <td>...</td>\n",
       "      <td>...</td>\n",
       "    </tr>\n",
       "    <tr>\n",
       "      <th>1695</th>\n",
       "      <td>test/1695.jpg</td>\n",
       "      <td>[President PERSON trademarked the name 'WORK_O...</td>\n",
       "      <td>[There was no truth that PERSON family MONEY w...</td>\n",
       "      <td>[True]</td>\n",
       "    </tr>\n",
       "    <tr>\n",
       "      <th>1696</th>\n",
       "      <td>test/1696.jpg</td>\n",
       "      <td>[A photograph shows a soldier carrying a donke...</td>\n",
       "      <td>[Coronavirus meme featuring “EVENT donkey” is ...</td>\n",
       "      <td>[True]</td>\n",
       "    </tr>\n",
       "    <tr>\n",
       "      <th>1697</th>\n",
       "      <td>test/1697.jpg</td>\n",
       "      <td>[Homeless people living on streets in GPE]</td>\n",
       "      <td>[ORG in GPE]</td>\n",
       "      <td>[False]</td>\n",
       "    </tr>\n",
       "    <tr>\n",
       "      <th>1698</th>\n",
       "      <td>test/1698.jpg</td>\n",
       "      <td>[The castle's esplanade was a perfect spot for...</td>\n",
       "      <td>[Picture shows an ORG skier]</td>\n",
       "      <td>[False]</td>\n",
       "    </tr>\n",
       "    <tr>\n",
       "      <th>1699</th>\n",
       "      <td>test/1699.jpg</td>\n",
       "      <td>[We are confident that our reporting will stan...</td>\n",
       "      <td>[ORG Editor-in-Chief PERSON poses for a pictur...</td>\n",
       "      <td>[True]</td>\n",
       "    </tr>\n",
       "  </tbody>\n",
       "</table>\n",
       "<p>1700 rows × 4 columns</p>\n",
       "</div>"
      ],
      "text/plain": [
       "              image                                          caption_1  \\\n",
       "0        test/0.jpg  [PERSON at his announcement in GPE, GPE, on DA...   \n",
       "1        test/1.jpg  [Supporters of GPE's ruling ORG party come out...   \n",
       "2        test/2.jpg  [CARDINAL dead people turned up on the state’s...   \n",
       "3        test/3.jpg  [Actor, musician, director and devoted followe...   \n",
       "4        test/4.jpg  [Men from the LOC tribe perform a traditional ...   \n",
       "...             ...                                                ...   \n",
       "1695  test/1695.jpg  [President PERSON trademarked the name 'WORK_O...   \n",
       "1696  test/1696.jpg  [A photograph shows a soldier carrying a donke...   \n",
       "1697  test/1697.jpg         [Homeless people living on streets in GPE]   \n",
       "1698  test/1698.jpg  [The castle's esplanade was a perfect spot for...   \n",
       "1699  test/1699.jpg  [We are confident that our reporting will stan...   \n",
       "\n",
       "                                              caption_2    label  \n",
       "0     [PERSON at his announcement in GPE, GPE, on DA...  [False]  \n",
       "1     [A person sits on a truck as supporters of the...  [False]  \n",
       "2     [These social media posts did not link to a re...   [True]  \n",
       "3     [A shocking report about the former child acto...   [True]  \n",
       "4     [And on DATE in GPE's Narok county, young PERS...  [False]  \n",
       "...                                                 ...      ...  \n",
       "1695  [There was no truth that PERSON family MONEY w...   [True]  \n",
       "1696  [Coronavirus meme featuring “EVENT donkey” is ...   [True]  \n",
       "1697                                       [ORG in GPE]  [False]  \n",
       "1698                       [Picture shows an ORG skier]  [False]  \n",
       "1699  [ORG Editor-in-Chief PERSON poses for a pictur...   [True]  \n",
       "\n",
       "[1700 rows x 4 columns]"
      ]
     },
     "execution_count": 74,
     "metadata": {},
     "output_type": "execute_result"
    }
   ],
   "source": [
    "dataframe_test"
   ]
  },
  {
   "cell_type": "code",
   "execution_count": 75,
   "id": "5ba1d0f0",
   "metadata": {},
   "outputs": [
    {
     "name": "stderr",
     "output_type": "stream",
     "text": [
      "/root/anaconda3/envs/vilt/lib/python3.8/site-packages/tqdm/std.py:702: FutureWarning: The Panel class is removed from pandas. Accessing it from the top-level namespace will also be removed in the next version\n",
      "  from pandas import Panel\n",
      "100%|██████████| 1700/1700 [00:00<00:00, 9703.16it/s]\n"
     ]
    }
   ],
   "source": [
    "tqdm.pandas()\n",
    "\n",
    "dataframe_test['image'] = dataframe_test['image'].progress_apply(lambda x: load_image(x))"
   ]
  },
  {
   "cell_type": "code",
   "execution_count": 76,
   "id": "4a5dc6a1",
   "metadata": {},
   "outputs": [
    {
     "data": {
      "text/html": [
       "<div>\n",
       "<style scoped>\n",
       "    .dataframe tbody tr th:only-of-type {\n",
       "        vertical-align: middle;\n",
       "    }\n",
       "\n",
       "    .dataframe tbody tr th {\n",
       "        vertical-align: top;\n",
       "    }\n",
       "\n",
       "    .dataframe thead th {\n",
       "        text-align: right;\n",
       "    }\n",
       "</style>\n",
       "<table border=\"1\" class=\"dataframe\">\n",
       "  <thead>\n",
       "    <tr style=\"text-align: right;\">\n",
       "      <th></th>\n",
       "      <th>image</th>\n",
       "      <th>caption_1</th>\n",
       "      <th>caption_2</th>\n",
       "      <th>label</th>\n",
       "    </tr>\n",
       "  </thead>\n",
       "  <tbody>\n",
       "    <tr>\n",
       "      <th>0</th>\n",
       "      <td>b'\\xff\\xd8\\xff\\xe0\\x00\\x10JFIF\\x00\\x01\\x01\\x00...</td>\n",
       "      <td>[PERSON at his announcement in GPE, GPE, on DA...</td>\n",
       "      <td>[PERSON at his announcement in GPE, GPE, on DA...</td>\n",
       "      <td>[False]</td>\n",
       "    </tr>\n",
       "    <tr>\n",
       "      <th>1</th>\n",
       "      <td>b'\\xff\\xd8\\xff\\xe0\\x00\\x10JFIF\\x00\\x01\\x01\\x00...</td>\n",
       "      <td>[Supporters of GPE's ruling ORG party come out...</td>\n",
       "      <td>[A person sits on a truck as supporters of the...</td>\n",
       "      <td>[False]</td>\n",
       "    </tr>\n",
       "    <tr>\n",
       "      <th>2</th>\n",
       "      <td>b'\\xff\\xd8\\xff\\xe0\\x00\\x10JFIF\\x00\\x01\\x01\\x00...</td>\n",
       "      <td>[CARDINAL dead people turned up on the state’s...</td>\n",
       "      <td>[These social media posts did not link to a re...</td>\n",
       "      <td>[True]</td>\n",
       "    </tr>\n",
       "    <tr>\n",
       "      <th>3</th>\n",
       "      <td>b'\\xff\\xd8\\xff\\xe0\\x00\\x10JFIF\\x00\\x01\\x01\\x00...</td>\n",
       "      <td>[Actor, musician, director and devoted followe...</td>\n",
       "      <td>[A shocking report about the former child acto...</td>\n",
       "      <td>[True]</td>\n",
       "    </tr>\n",
       "    <tr>\n",
       "      <th>4</th>\n",
       "      <td>b'\\xff\\xd8\\xff\\xe0\\x00\\x10JFIF\\x00\\x01\\x01\\x00...</td>\n",
       "      <td>[Men from the LOC tribe perform a traditional ...</td>\n",
       "      <td>[And on DATE in GPE's Narok county, young PERS...</td>\n",
       "      <td>[False]</td>\n",
       "    </tr>\n",
       "    <tr>\n",
       "      <th>...</th>\n",
       "      <td>...</td>\n",
       "      <td>...</td>\n",
       "      <td>...</td>\n",
       "      <td>...</td>\n",
       "    </tr>\n",
       "    <tr>\n",
       "      <th>1695</th>\n",
       "      <td>b'\\xff\\xd8\\xff\\xe0\\x00\\x10JFIF\\x00\\x01\\x01\\x00...</td>\n",
       "      <td>[President PERSON trademarked the name 'WORK_O...</td>\n",
       "      <td>[There was no truth that PERSON family MONEY w...</td>\n",
       "      <td>[True]</td>\n",
       "    </tr>\n",
       "    <tr>\n",
       "      <th>1696</th>\n",
       "      <td>b'\\xff\\xd8\\xff\\xe0\\x00\\x10JFIF\\x00\\x01\\x01\\x00...</td>\n",
       "      <td>[A photograph shows a soldier carrying a donke...</td>\n",
       "      <td>[Coronavirus meme featuring “EVENT donkey” is ...</td>\n",
       "      <td>[True]</td>\n",
       "    </tr>\n",
       "    <tr>\n",
       "      <th>1697</th>\n",
       "      <td>b'\\xff\\xd8\\xff\\xe0\\x00\\x10JFIF\\x00\\x01\\x01\\x00...</td>\n",
       "      <td>[Homeless people living on streets in GPE]</td>\n",
       "      <td>[ORG in GPE]</td>\n",
       "      <td>[False]</td>\n",
       "    </tr>\n",
       "    <tr>\n",
       "      <th>1698</th>\n",
       "      <td>b'\\xff\\xd8\\xff\\xe0\\x00\\x10JFIF\\x00\\x01\\x01\\x00...</td>\n",
       "      <td>[The castle's esplanade was a perfect spot for...</td>\n",
       "      <td>[Picture shows an ORG skier]</td>\n",
       "      <td>[False]</td>\n",
       "    </tr>\n",
       "    <tr>\n",
       "      <th>1699</th>\n",
       "      <td>b'\\xff\\xd8\\xff\\xe0\\x00\\x10JFIF\\x00\\x01\\x01\\x00...</td>\n",
       "      <td>[We are confident that our reporting will stan...</td>\n",
       "      <td>[ORG Editor-in-Chief PERSON poses for a pictur...</td>\n",
       "      <td>[True]</td>\n",
       "    </tr>\n",
       "  </tbody>\n",
       "</table>\n",
       "<p>1700 rows × 4 columns</p>\n",
       "</div>"
      ],
      "text/plain": [
       "                                                  image  \\\n",
       "0     b'\\xff\\xd8\\xff\\xe0\\x00\\x10JFIF\\x00\\x01\\x01\\x00...   \n",
       "1     b'\\xff\\xd8\\xff\\xe0\\x00\\x10JFIF\\x00\\x01\\x01\\x00...   \n",
       "2     b'\\xff\\xd8\\xff\\xe0\\x00\\x10JFIF\\x00\\x01\\x01\\x00...   \n",
       "3     b'\\xff\\xd8\\xff\\xe0\\x00\\x10JFIF\\x00\\x01\\x01\\x00...   \n",
       "4     b'\\xff\\xd8\\xff\\xe0\\x00\\x10JFIF\\x00\\x01\\x01\\x00...   \n",
       "...                                                 ...   \n",
       "1695  b'\\xff\\xd8\\xff\\xe0\\x00\\x10JFIF\\x00\\x01\\x01\\x00...   \n",
       "1696  b'\\xff\\xd8\\xff\\xe0\\x00\\x10JFIF\\x00\\x01\\x01\\x00...   \n",
       "1697  b'\\xff\\xd8\\xff\\xe0\\x00\\x10JFIF\\x00\\x01\\x01\\x00...   \n",
       "1698  b'\\xff\\xd8\\xff\\xe0\\x00\\x10JFIF\\x00\\x01\\x01\\x00...   \n",
       "1699  b'\\xff\\xd8\\xff\\xe0\\x00\\x10JFIF\\x00\\x01\\x01\\x00...   \n",
       "\n",
       "                                              caption_1  \\\n",
       "0     [PERSON at his announcement in GPE, GPE, on DA...   \n",
       "1     [Supporters of GPE's ruling ORG party come out...   \n",
       "2     [CARDINAL dead people turned up on the state’s...   \n",
       "3     [Actor, musician, director and devoted followe...   \n",
       "4     [Men from the LOC tribe perform a traditional ...   \n",
       "...                                                 ...   \n",
       "1695  [President PERSON trademarked the name 'WORK_O...   \n",
       "1696  [A photograph shows a soldier carrying a donke...   \n",
       "1697         [Homeless people living on streets in GPE]   \n",
       "1698  [The castle's esplanade was a perfect spot for...   \n",
       "1699  [We are confident that our reporting will stan...   \n",
       "\n",
       "                                              caption_2    label  \n",
       "0     [PERSON at his announcement in GPE, GPE, on DA...  [False]  \n",
       "1     [A person sits on a truck as supporters of the...  [False]  \n",
       "2     [These social media posts did not link to a re...   [True]  \n",
       "3     [A shocking report about the former child acto...   [True]  \n",
       "4     [And on DATE in GPE's Narok county, young PERS...  [False]  \n",
       "...                                                 ...      ...  \n",
       "1695  [There was no truth that PERSON family MONEY w...   [True]  \n",
       "1696  [Coronavirus meme featuring “EVENT donkey” is ...   [True]  \n",
       "1697                                       [ORG in GPE]  [False]  \n",
       "1698                       [Picture shows an ORG skier]  [False]  \n",
       "1699  [ORG Editor-in-Chief PERSON poses for a pictur...   [True]  \n",
       "\n",
       "[1700 rows x 4 columns]"
      ]
     },
     "execution_count": 76,
     "metadata": {},
     "output_type": "execute_result"
    }
   ],
   "source": [
    "dataframe_test"
   ]
  },
  {
   "cell_type": "markdown",
   "id": "219bfdb9",
   "metadata": {},
   "source": [
    "# PyArrow"
   ]
  },
  {
   "cell_type": "code",
   "execution_count": 77,
   "id": "250c78ba",
   "metadata": {},
   "outputs": [],
   "source": [
    "table = pa.Table.from_pandas(dataframe_test)\n",
    "split = 'test'\n",
    "with pa.OSFile(f\"dataset_50/cosmos_{split}.arrow\", \"wb\") as sink:\n",
    "    with pa.RecordBatchFileWriter(sink, table.schema) as writer:\n",
    "        writer.write_table(table)"
   ]
  }
 ],
 "metadata": {
  "interpreter": {
   "hash": "dd6ac6d03954cf65a3aa8ce4cedda9aac0145a018ad67eca07aa9c761ef41ce4"
  },
  "kernelspec": {
   "display_name": "Python 3.8.5 ('vilt')",
   "language": "python",
   "name": "python3"
  },
  "language_info": {
   "codemirror_mode": {
    "name": "ipython",
    "version": 3
   },
   "file_extension": ".py",
   "mimetype": "text/x-python",
   "name": "python",
   "nbconvert_exporter": "python",
   "pygments_lexer": "ipython3",
   "version": "3.8.5"
  }
 },
 "nbformat": 4,
 "nbformat_minor": 5
}
