{
 "cells": [
  {
   "cell_type": "code",
   "execution_count": 1,
   "id": "9963f140",
   "metadata": {},
   "outputs": [],
   "source": [
    "import json\n",
    "import sys\n",
    "import random\n",
    "from tqdm import tqdm\n",
    "from collections import defaultdict\n",
    "import pyarrow as pa\n",
    "import pandas as pd\n",
    "import numpy as np\n",
    "import matplotlib.pyplot as plt\n",
    "from sentence_transformers import SentenceTransformer, util\n",
    "import torch"
   ]
  },
  {
   "cell_type": "markdown",
   "id": "a5a164bb",
   "metadata": {},
   "source": [
    "# Import data"
   ]
  },
  {
   "cell_type": "code",
   "execution_count": 2,
   "id": "53dd889f",
   "metadata": {},
   "outputs": [
    {
     "name": "stdout",
     "output_type": "stream",
     "text": [
      "CPU times: user 2.54 s, sys: 111 ms, total: 2.65 s\n",
      "Wall time: 2.65 s\n"
     ]
    }
   ],
   "source": [
    "%%time\n",
    "root = '.'\n",
    "\n",
    "# train_data = list(\n",
    "#     map(json.loads, open(f\"{root}/cosmos/train_data.json\").readlines())\n",
    "# )\n",
    "test_data = list(\n",
    "    map(json.loads, open(f\"{root}/cosmos/test_data.json\").readlines())\n",
    ")\n",
    "train_data = list(map(json.loads, open(f\"{root}/cosmos/val_data.json\").readlines()))"
   ]
  },
  {
   "cell_type": "code",
   "execution_count": 3,
   "id": "750e7a67",
   "metadata": {},
   "outputs": [
    {
     "data": {
      "text/plain": [
       "{'img_local_path': 'val/10.jpg',\n",
       " 'articles': [{'caption': \"Swiss guards enter St. Peter's Square after white smoke came out of the Sistine Chapel chimney, signifying the election of a new pope.\",\n",
       "   'article_url': 'https://edition.cnn.com/2013/03/13/world/gallery/st-peters-pope-reaction/index.html',\n",
       "   'caption_modified': 'Swiss guards enter PERSON FAC after white smoke came out of the Sistine Chapel chimney, signifying the election of a new pope.',\n",
       "   'entity_list': [[\"St. Peter's\", 'PERSON'], ['Square', 'FAC']]},\n",
       "  {'caption': \"Swiss guards enter St. Peter's Square after white smoke came out of the Sistine Chapel chimney, signifying the election of a new pope.\",\n",
       "   'article_url': 'https://edition.cnn.com/2013/03/13/world/gallery/st-peters-pope-reaction/index.html',\n",
       "   'caption_modified': 'Swiss guards enter PERSON FAC after white smoke came out of the Sistine Chapel chimney, signifying the election of a new pope.',\n",
       "   'entity_list': [[\"St. Peter's\", 'PERSON'], ['Square', 'FAC']]}],\n",
       " 'maskrcnn_bboxes': [[128.1411895751953,\n",
       "   117.85289001464844,\n",
       "   189.98965454101562,\n",
       "   278.70489501953125],\n",
       "  [731.5037231445312, 345.337158203125, 813.3795776367188, 551.4822387695312],\n",
       "  [223.74923706054688, 161.3740234375, 280.3604431152344, 321.6556396484375],\n",
       "  [495.851318359375,\n",
       "   290.20220947265625,\n",
       "   564.0745849609375,\n",
       "   469.66058349609375],\n",
       "  [351.9892883300781,\n",
       "   214.46250915527344,\n",
       "   414.61822509765625,\n",
       "   390.1319274902344],\n",
       "  [301.2778625488281,\n",
       "   84.78756713867188,\n",
       "   363.6490783691406,\n",
       "   194.22488403320312],\n",
       "  [612.048095703125, 335.4319152832031, 663.3465576171875, 531.8028564453125],\n",
       "  [449.87481689453125,\n",
       "   220.37855529785156,\n",
       "   495.80413818359375,\n",
       "   292.7408752441406],\n",
       "  [547.6864624023438, 408.2359313964844, 593.1892700195312, 493.8255615234375],\n",
       "  [125.54864501953125, 44.96491241455078, 843.3671875, 490.57855224609375]]}"
      ]
     },
     "execution_count": 3,
     "metadata": {},
     "output_type": "execute_result"
    }
   ],
   "source": [
    "train_data[10]"
   ]
  },
  {
   "cell_type": "markdown",
   "id": "f8927c73",
   "metadata": {},
   "source": [
    "# Remove duplicate captions"
   ]
  },
  {
   "cell_type": "code",
   "execution_count": 16,
   "id": "07210e20",
   "metadata": {},
   "outputs": [
    {
     "data": {
      "text/plain": [
       "41006"
      ]
     },
     "execution_count": 16,
     "metadata": {},
     "output_type": "execute_result"
    }
   ],
   "source": [
    "len(train_data)"
   ]
  },
  {
   "cell_type": "code",
   "execution_count": 30,
   "id": "812c065e",
   "metadata": {},
   "outputs": [
    {
     "name": "stderr",
     "output_type": "stream",
     "text": [
      "100%|██████████| 41006/41006 [00:00<00:00, 277042.57it/s]\n"
     ]
    },
    {
     "data": {
      "text/plain": [
       "{'CARDINAL through photos: Using trucks and excavators to block the road to translate corona in FAC.',\n",
       " 'Cable car over GPE, GPE.',\n",
       " 'GPE ... with &#MONEY tram&#39; :-)',\n",
       " 'Interesting photos, attractive photos, cable car',\n",
       " 'PERSON, ORG cars are seen above the city of FAC.',\n",
       " 'Pictures of CARDINAL Bahman 1398, Pictures of CARDINAL Bahman 1398, Pictures of 1 February 2020',\n",
       " 'View from the lookout PERSON during the NORP, the traditional fair of miniatures wishes, in GPE, GPE, DATE. ORG offers CARDINAL tours through the streets of the GPE, so that NORP and foreigners know about this traditional holiday that intends that the GPE, its main figure, be recognized as a ORG.'}"
      ]
     },
     "execution_count": 30,
     "metadata": {},
     "output_type": "execute_result"
    }
   ],
   "source": [
    "def remove_duplicate(dataset):\n",
    "    for data in tqdm(dataset):\n",
    "        seen_caption = set()\n",
    "        new_list = []\n",
    "        for caption in data['articles']:\n",
    "            if caption['caption_modified'] not in seen_caption:\n",
    "                new_list.append(caption)\n",
    "                seen_caption.add(caption['caption_modified'])\n",
    "        if len(new_list)==0:\n",
    "            print('0',end='')\n",
    "        data['articles'] = new_list\n",
    "    return seen_caption\n",
    "\n",
    "remove_duplicate(train_data)\n"
   ]
  },
  {
   "cell_type": "markdown",
   "id": "6443f484",
   "metadata": {},
   "source": [
    "# SBERT Paraphrase Mining"
   ]
  },
  {
   "cell_type": "code",
   "execution_count": 31,
   "id": "0131e577",
   "metadata": {},
   "outputs": [],
   "source": [
    "model = SentenceTransformer('all-MiniLM-L6-v2')"
   ]
  },
  {
   "cell_type": "code",
   "execution_count": 32,
   "id": "485d641d",
   "metadata": {},
   "outputs": [
    {
     "name": "stdout",
     "output_type": "stream",
     "text": [
      "huggingface/tokenizers: The current process just got forked, after parallelism has already been used. Disabling parallelism to avoid deadlocks...\n",
      "To disable this warning, you can either:\n",
      "\t- Avoid using `tokenizers` before the fork if possible\n",
      "\t- Explicitly set the environment variable TOKENIZERS_PARALLELISM=(true | false)\n",
      "huggingface/tokenizers: The current process just got forked, after parallelism has already been used. Disabling parallelism to avoid deadlocks...\n",
      "To disable this warning, you can either:\n",
      "\t- Avoid using `tokenizers` before the fork if possible\n",
      "\t- Explicitly set the environment variable TOKENIZERS_PARALLELISM=(true | false)\n"
     ]
    },
    {
     "data": {
      "text/plain": [
       "0"
      ]
     },
     "execution_count": 32,
     "metadata": {},
     "output_type": "execute_result"
    }
   ],
   "source": [
    "import notebook_util\n",
    "notebook_util.pick_gpu_lowest_memory()"
   ]
  },
  {
   "cell_type": "code",
   "execution_count": 33,
   "id": "7572838c",
   "metadata": {},
   "outputs": [],
   "source": [
    "torch.cuda.set_device(0)"
   ]
  },
  {
   "cell_type": "code",
   "execution_count": 34,
   "id": "b7bfe713",
   "metadata": {},
   "outputs": [],
   "source": [
    "def neg_cos_sim(a, b):\n",
    "    \"\"\"\n",
    "    Computes the cosine similarity cos_sim(a[i], b[j]) for all i and j.\n",
    "    :return: Matrix with res[i][j]  = cos_sim(a[i], b[j])\n",
    "    \"\"\"\n",
    "    if not isinstance(a, torch.Tensor):\n",
    "        a = torch.tensor(a)\n",
    "\n",
    "    if not isinstance(b, torch.Tensor):\n",
    "        b = torch.tensor(b)\n",
    "\n",
    "    if len(a.shape) == 1:\n",
    "        a = a.unsqueeze(0)\n",
    "\n",
    "    if len(b.shape) == 1:\n",
    "        b = b.unsqueeze(0)\n",
    "\n",
    "    a_norm = torch.nn.functional.normalize(a, p=2, dim=1)\n",
    "    b_norm = torch.nn.functional.normalize(b, p=2, dim=1)\n",
    "    return torch.neg(torch.mm(a_norm, b_norm.transpose(0, 1)))"
   ]
  },
  {
   "cell_type": "code",
   "execution_count": 35,
   "id": "49ecb4b5",
   "metadata": {},
   "outputs": [
    {
     "name": "stderr",
     "output_type": "stream",
     "text": [
      "100%|██████████| 41006/41006 [00:00<00:00, 430571.11it/s]\n"
     ]
    }
   ],
   "source": [
    "# Single list of sentences - Possible tens of thousands of sentences\n",
    "sentences = []\n",
    "\n",
    "for data in tqdm(train_data):\n",
    "    for caption in data['articles']:\n",
    "        sentences.append(caption['caption_modified'])\n",
    "\n",
    "paraphrases = util.paraphrase_mining(model, sentences, top_k=1, score_function=neg_cos_sim)\n"
   ]
  },
  {
   "cell_type": "code",
   "execution_count": 9,
   "id": "eff9deb5",
   "metadata": {},
   "outputs": [
    {
     "name": "stdout",
     "output_type": "stream",
     "text": [
      "264768\n",
      "435678\n"
     ]
    }
   ],
   "source": [
    "print(len(sentences))\n",
    "print(len(paraphrases))"
   ]
  },
  {
   "cell_type": "code",
   "execution_count": 36,
   "id": "e9b9f529",
   "metadata": {},
   "outputs": [],
   "source": [
    "furthest_list = np.empty((len(sentences),),dtype=int)\n",
    "for entry in paraphrases:\n",
    "    furthest_list[entry[1]]=entry[2]"
   ]
  },
  {
   "cell_type": "code",
   "execution_count": 37,
   "id": "2ba5c7bc",
   "metadata": {},
   "outputs": [],
   "source": [
    "sentences_dict = dict()\n",
    "for x in range(len(sentences)):\n",
    "    sentences_dict[sentences[x]] = x"
   ]
  },
  {
   "cell_type": "markdown",
   "id": "9da66c99",
   "metadata": {},
   "source": [
    "# Gen case functions"
   ]
  },
  {
   "cell_type": "code",
   "execution_count": 3,
   "id": "f4f5c91d",
   "metadata": {},
   "outputs": [],
   "source": [
    "# Take 2 random correct caption\n",
    "def gen_positive_case(data):\n",
    "    caption_1_idx, caption_2_idx = random.sample(range(0,len(data['articles'])),2)\n",
    "    cap1 = data['articles'][caption_1_idx]['caption']\n",
    "    cap2 = data['articles'][caption_2_idx]['caption']\n",
    "    if cap1 == cap2:\n",
    "        return None\n",
    "    return [data['img_local_path'],[cap1],[cap2],[False]]"
   ]
  },
  {
   "cell_type": "code",
   "execution_count": 13,
   "id": "5eeca261",
   "metadata": {},
   "outputs": [],
   "source": [
    "# Take 2 random false caption\n",
    "def gen_negative_case_1(data, train_data):\n",
    "    data_random1 = train_data[np.random.randint(len(train_data))]\n",
    "    while data['img_local_path'] == data_random1['img_local_path']:\n",
    "        data_random1 = train_data[np.random.randint(len(train_data))]\n",
    "    cap1 = data_random1['articles'][np.random.randint(len(data_random1['articles']))]['caption_modified']\n",
    "    data_random2 = train_data[np.random.randint(len(train_data))]\n",
    "    while data['img_local_path'] == data_random2['img_local_path']:\n",
    "        data_random2 = train_data[np.random.randint(len(train_data))]\n",
    "    cap2 = data_random2['articles'][np.random.randint(len(data_random2['articles']))]['caption_modified']\n",
    "    return [data['img_local_path'],[cap1],[cap2],[True]]"
   ]
  },
  {
   "cell_type": "code",
   "execution_count": 4,
   "id": "ef0bd698",
   "metadata": {},
   "outputs": [],
   "source": [
    "# Take 1 random correct caption, 1 random false caption\n",
    "def gen_negative_case_2(data, train_data):\n",
    "     # Pick 1st correct caption\n",
    "    if np.random.rand()>0.5:\n",
    "        cap1 = data['articles'][np.random.randint(len(data['articles']))]['caption']\n",
    "        # Pick a random article then pick its first caption\n",
    "        data_random = train_data[np.random.randint(len(train_data))]\n",
    "        while data['img_local_path'] == data_random['img_local_path']:\n",
    "            data_random = train_data[np.random.randint(len(train_data))]\n",
    "        cap2 = data_random['articles'][np.random.randint(len(data_random['articles']))]['caption']\n",
    "    else:\n",
    "        cap2 = data['articles'][np.random.randint(len(data['articles']))]['caption']\n",
    "        # Pick a random article then pick its first caption\n",
    "        data_random = train_data[np.random.randint(len(train_data))]\n",
    "        while data['img_local_path'] == data_random['img_local_path']:\n",
    "            data_random = train_data[np.random.randint(len(train_data))]\n",
    "        cap1 = data_random['articles'][np.random.randint(len(data_random['articles']))]['caption']\n",
    "    return [data['img_local_path'],[cap1],[cap2],[True]]"
   ]
  },
  {
   "cell_type": "code",
   "execution_count": 15,
   "id": "c274cf59",
   "metadata": {},
   "outputs": [],
   "source": [
    "def gen_negative_case_3(data, train_data, furthest_list, sentences_dict, sentences, count):\n",
    "    # pick 1 random correct caption\n",
    "    cap1 = data['articles'][np.random.randint(len(data['articles']))]['caption_modified']\n",
    "    # then find its furthest distance caption\n",
    "    cap1_index = sentences_dict[cap1]\n",
    "    try:\n",
    "        cap2 = sentences[furthest_list[cap1_index]]\n",
    "    except:\n",
    "        data_random = train_data[np.random.randint(len(train_data))]\n",
    "        while data['img_local_path'] == data_random['img_local_path']:\n",
    "            data_random = train_data[np.random.randint(len(train_data))]\n",
    "        cap2 = data_random['articles'][np.random.randint(len(data_random['articles']))]['caption_modified']\n",
    "        count.append(cap1_index)\n",
    "    return [data['img_local_path'],[cap1],[cap2],[True]]"
   ]
  },
  {
   "cell_type": "code",
   "execution_count": 16,
   "id": "0920ac20",
   "metadata": {},
   "outputs": [],
   "source": [
    "def gen_negative_case_4(data,train_data, furthest_list, sentences_dict, sentences, count):\n",
    "    # pick 1 random false caption\n",
    "    data_random = train_data[np.random.randint(len(train_data))]\n",
    "    while data['img_local_path'] == data_random['img_local_path']:\n",
    "        data_random = train_data[np.random.randint(len(train_data))]\n",
    "    cap1 = data_random['articles'][np.random.randint(len(data_random['articles']))]['caption_modified']\n",
    "    # then find its furthest distance caption\n",
    "    cap1_index = sentences_dict[cap1]\n",
    "    try:\n",
    "        cap2 = sentences[furthest_list[cap1_index]]\n",
    "    except:\n",
    "        data_random = train_data[np.random.randint(len(train_data))]\n",
    "        while data['img_local_path'] == data_random['img_local_path']:\n",
    "            data_random = train_data[np.random.randint(len(train_data))]\n",
    "        cap2 = data_random['articles'][np.random.randint(len(data_random['articles']))]['caption_modified']\n",
    "        count.append(cap1_index)\n",
    "    return [data['img_local_path'],[cap1],[cap2],[True]]"
   ]
  },
  {
   "cell_type": "code",
   "execution_count": 17,
   "id": "6b42cd90",
   "metadata": {},
   "outputs": [],
   "source": [
    "def gen_negative_case_5(data, train_data):\n",
    "      # choose random image\n",
    "    result = gen_positive_case(data)\n",
    "    result[0] = train_data[np.random.randint(len(train_data))]['img_local_path']\n",
    "    return result\n"
   ]
  },
  {
   "cell_type": "code",
   "execution_count": 18,
   "id": "9344fc56",
   "metadata": {},
   "outputs": [],
   "source": [
    "def gen_negative_case_6(data, train_data):\n",
    "      # choose random image\n",
    "    result = gen_positive_case(data)\n",
    "    result[0] = train_data[np.random.randint(len(train_data))]['img_local_path']\n",
    "    return result"
   ]
  },
  {
   "cell_type": "code",
   "execution_count": 19,
   "id": "9aa30a2f",
   "metadata": {},
   "outputs": [],
   "source": [
    "from SentenceNegator import SentenceNegator\n",
    "sn = SentenceNegator()\n",
    "\n",
    "def gen_negative_sentence(data):\n",
    "    cap1 = data['articles'][np.random.randint(len(data['articles']))]['caption_modified']\n",
    "    cap2 = sn.negate(cap1)\n",
    "    if cap2 != cap1:\n",
    "        return [data['img_local_path'],[cap1],[cap2],[True]]\n",
    "    else:\n",
    "        return None"
   ]
  },
  {
   "cell_type": "code",
   "execution_count": 17,
   "id": "f5f25b09",
   "metadata": {},
   "outputs": [
    {
     "name": "stderr",
     "output_type": "stream",
     "text": [
      "100%|██████████| 41006/41006 [00:00<00:00, 65277.29it/s]\n"
     ]
    }
   ],
   "source": [
    "np.random.seed(42)\n",
    "# train_data_sample = np.random.choice(train_data, size=int(len(train_data)*50/100))\n",
    "# Not OOC cases\n",
    "l = []\n",
    "count = []\n",
    "count_true = 0\n",
    "count_negative = 0\n",
    "count_case=[0,0,0]\n",
    "dup=0\n",
    "cc = 0\n",
    "for data in tqdm(train_data):\n",
    "    if len(data['articles']) > 1:\n",
    "        r = gen_positive_case(data)\n",
    "        if r is not None:\n",
    "            l.append(r)\n",
    "            count_true += 1\n",
    "\n",
    "    # 2 random false cap\n",
    "    # if np.random.rand() > 0.5:\n",
    "    #     l.append(gen_negative_case_1(data, train_data))\n",
    "    #     count_case[0]+=1\n",
    "    # # 1 true, 1 false\n",
    "    if np.random.rand() > 0:\n",
    "        l.append(gen_negative_case_2(data, train_data))\n",
    "        count_case[1]+=1\n",
    "    # # 1 true, 1 false furthest\n",
    "    # if np.random.rand() > 0.3:\n",
    "    #     count_case[2]+=1\n",
    "    #     l.append(gen_negative_case_3(data, train_data, furthest_list, sentences_dict, sentences, count))\n",
    "    \n",
    "    # 1 false, 1 furthest\n",
    "    # if np.random.rand() > 0.5:\n",
    "    #     l.append(gen_negative_case_4(data, train_data, furthest_list, sentences_dict, sentences, count))\n",
    "    # 2 false from 1 other image\n",
    "\n",
    "    # 2 false from 1 furthest image\n",
    "\n"
   ]
  },
  {
   "cell_type": "code",
   "execution_count": 18,
   "id": "11bfce7e",
   "metadata": {},
   "outputs": [
    {
     "data": {
      "text/plain": [
       "(15902, 0, [0, 41006, 0], 56908)"
      ]
     },
     "execution_count": 18,
     "metadata": {},
     "output_type": "execute_result"
    }
   ],
   "source": [
    "count_true,count_negative,count_case,len(l)"
   ]
  },
  {
   "cell_type": "code",
   "execution_count": 19,
   "id": "2b491360",
   "metadata": {},
   "outputs": [],
   "source": [
    "dataframe = pd.DataFrame(\n",
    "    l, columns=[\"image\", \"caption_1\", \"caption_2\", \"label\"],\n",
    ")"
   ]
  },
  {
   "cell_type": "code",
   "execution_count": 19,
   "id": "e0623f2e",
   "metadata": {},
   "outputs": [],
   "source": [
    "dataframe = pd.DataFrame(\n",
    "    l, columns=[\"img_local_path\", \"caption1\", \"caption2\", \"context_label\"],\n",
    ")"
   ]
  },
  {
   "cell_type": "code",
   "execution_count": 20,
   "id": "c603b4d7",
   "metadata": {},
   "outputs": [
    {
     "data": {
      "text/html": [
       "<div>\n",
       "<style scoped>\n",
       "    .dataframe tbody tr th:only-of-type {\n",
       "        vertical-align: middle;\n",
       "    }\n",
       "\n",
       "    .dataframe tbody tr th {\n",
       "        vertical-align: top;\n",
       "    }\n",
       "\n",
       "    .dataframe thead th {\n",
       "        text-align: right;\n",
       "    }\n",
       "</style>\n",
       "<table border=\"1\" class=\"dataframe\">\n",
       "  <thead>\n",
       "    <tr style=\"text-align: right;\">\n",
       "      <th></th>\n",
       "      <th>image</th>\n",
       "      <th>caption_1</th>\n",
       "      <th>caption_2</th>\n",
       "      <th>label</th>\n",
       "    </tr>\n",
       "  </thead>\n",
       "  <tbody>\n",
       "    <tr>\n",
       "      <th>0</th>\n",
       "      <td>val/0.jpg</td>\n",
       "      <td>[Merlin Jackson, 75, a Zulu member, is a publi...</td>\n",
       "      <td>[The Aga Khan Music Initiative performs at the...</td>\n",
       "      <td>[True]</td>\n",
       "    </tr>\n",
       "    <tr>\n",
       "      <th>1</th>\n",
       "      <td>val/1.jpg</td>\n",
       "      <td>[Pictures / Shopping riots in Mexico]</td>\n",
       "      <td>[Protesters block the entrance to Pemex gas st...</td>\n",
       "      <td>[False]</td>\n",
       "    </tr>\n",
       "    <tr>\n",
       "      <th>2</th>\n",
       "      <td>val/1.jpg</td>\n",
       "      <td>[A resident wearing mask and raincoat voluntee...</td>\n",
       "      <td>[Pictures / Shopping riots in Mexico]</td>\n",
       "      <td>[True]</td>\n",
       "    </tr>\n",
       "    <tr>\n",
       "      <th>3</th>\n",
       "      <td>val/2.jpg</td>\n",
       "      <td>[The allegations have inspired an online campa...</td>\n",
       "      <td>[Father Jerome, featured in our Dispatch from ...</td>\n",
       "      <td>[True]</td>\n",
       "    </tr>\n",
       "    <tr>\n",
       "      <th>4</th>\n",
       "      <td>val/3.jpg</td>\n",
       "      <td>[Armed police officers lean over the bonnet of...</td>\n",
       "      <td>[Senator Mitch McConnell, the majority leader,...</td>\n",
       "      <td>[True]</td>\n",
       "    </tr>\n",
       "    <tr>\n",
       "      <th>...</th>\n",
       "      <td>...</td>\n",
       "      <td>...</td>\n",
       "      <td>...</td>\n",
       "      <td>...</td>\n",
       "    </tr>\n",
       "    <tr>\n",
       "      <th>56903</th>\n",
       "      <td>val/41006.jpg</td>\n",
       "      <td>[Sam Oosterhoff celebrates his victory in the ...</td>\n",
       "      <td>[Raphia mango wood and rattan sideboard, £599,...</td>\n",
       "      <td>[True]</td>\n",
       "    </tr>\n",
       "    <tr>\n",
       "      <th>56904</th>\n",
       "      <td>val/41007.jpg</td>\n",
       "      <td>[Beatrice Mtetwa, lawyerMtetwa is one of Zimba...</td>\n",
       "      <td>[Beatrice Mtetwa is one of Zimbabwe’s most res...</td>\n",
       "      <td>[False]</td>\n",
       "    </tr>\n",
       "    <tr>\n",
       "      <th>56905</th>\n",
       "      <td>val/41007.jpg</td>\n",
       "      <td>[Chile is advancing in its goals for reliance ...</td>\n",
       "      <td>[Beatrice Mtetwa is one of Zimbabwe’s most res...</td>\n",
       "      <td>[True]</td>\n",
       "    </tr>\n",
       "    <tr>\n",
       "      <th>56906</th>\n",
       "      <td>val/41008.jpg</td>\n",
       "      <td>[View from the lookout Jacha Kollo during the ...</td>\n",
       "      <td>[Cable car over La Paz, Bolivia.]</td>\n",
       "      <td>[False]</td>\n",
       "    </tr>\n",
       "    <tr>\n",
       "      <th>56907</th>\n",
       "      <td>val/41008.jpg</td>\n",
       "      <td>[“All the options are lousy,” said Gene Campag...</td>\n",
       "      <td>[View from the lookout Jacha Kollo during the ...</td>\n",
       "      <td>[True]</td>\n",
       "    </tr>\n",
       "  </tbody>\n",
       "</table>\n",
       "<p>56908 rows × 4 columns</p>\n",
       "</div>"
      ],
      "text/plain": [
       "               image                                          caption_1  \\\n",
       "0          val/0.jpg  [Merlin Jackson, 75, a Zulu member, is a publi...   \n",
       "1          val/1.jpg              [Pictures / Shopping riots in Mexico]   \n",
       "2          val/1.jpg  [A resident wearing mask and raincoat voluntee...   \n",
       "3          val/2.jpg  [The allegations have inspired an online campa...   \n",
       "4          val/3.jpg  [Armed police officers lean over the bonnet of...   \n",
       "...              ...                                                ...   \n",
       "56903  val/41006.jpg  [Sam Oosterhoff celebrates his victory in the ...   \n",
       "56904  val/41007.jpg  [Beatrice Mtetwa, lawyerMtetwa is one of Zimba...   \n",
       "56905  val/41007.jpg  [Chile is advancing in its goals for reliance ...   \n",
       "56906  val/41008.jpg  [View from the lookout Jacha Kollo during the ...   \n",
       "56907  val/41008.jpg  [“All the options are lousy,” said Gene Campag...   \n",
       "\n",
       "                                               caption_2    label  \n",
       "0      [The Aga Khan Music Initiative performs at the...   [True]  \n",
       "1      [Protesters block the entrance to Pemex gas st...  [False]  \n",
       "2                  [Pictures / Shopping riots in Mexico]   [True]  \n",
       "3      [Father Jerome, featured in our Dispatch from ...   [True]  \n",
       "4      [Senator Mitch McConnell, the majority leader,...   [True]  \n",
       "...                                                  ...      ...  \n",
       "56903  [Raphia mango wood and rattan sideboard, £599,...   [True]  \n",
       "56904  [Beatrice Mtetwa is one of Zimbabwe’s most res...  [False]  \n",
       "56905  [Beatrice Mtetwa is one of Zimbabwe’s most res...   [True]  \n",
       "56906                  [Cable car over La Paz, Bolivia.]  [False]  \n",
       "56907  [View from the lookout Jacha Kollo during the ...   [True]  \n",
       "\n",
       "[56908 rows x 4 columns]"
      ]
     },
     "execution_count": 20,
     "metadata": {},
     "output_type": "execute_result"
    }
   ],
   "source": [
    "dataframe"
   ]
  },
  {
   "cell_type": "code",
   "execution_count": 20,
   "id": "7915e375",
   "metadata": {},
   "outputs": [],
   "source": [
    "dataframe.to_json('train.json', orient='records', lines=True)\n"
   ]
  },
  {
   "cell_type": "code",
   "execution_count": 41,
   "id": "cae6d00d",
   "metadata": {},
   "outputs": [
    {
     "data": {
      "text/html": [
       "<div>\n",
       "<style scoped>\n",
       "    .dataframe tbody tr th:only-of-type {\n",
       "        vertical-align: middle;\n",
       "    }\n",
       "\n",
       "    .dataframe tbody tr th {\n",
       "        vertical-align: top;\n",
       "    }\n",
       "\n",
       "    .dataframe thead th {\n",
       "        text-align: right;\n",
       "    }\n",
       "</style>\n",
       "<table border=\"1\" class=\"dataframe\">\n",
       "  <thead>\n",
       "    <tr style=\"text-align: right;\">\n",
       "      <th></th>\n",
       "      <th>image</th>\n",
       "      <th>caption_1</th>\n",
       "      <th>caption_2</th>\n",
       "      <th>label</th>\n",
       "    </tr>\n",
       "  </thead>\n",
       "  <tbody>\n",
       "    <tr>\n",
       "      <th>0</th>\n",
       "      <td>b'\\xff\\xd8\\xff\\xe0\\x00\\x10JFIF\\x00\\x01\\x01\\x00...</td>\n",
       "      <td>[This photo taken DATE, shows apps for ORG, OR...</td>\n",
       "      <td>[The technical infrastructure of ORG, PRODUCT ...</td>\n",
       "      <td>[False]</td>\n",
       "    </tr>\n",
       "    <tr>\n",
       "      <th>1</th>\n",
       "      <td>b'\\xff\\xd8\\xff\\xe0\\x00\\x10JFIF\\x00\\x01\\x01\\x00...</td>\n",
       "      <td>[This photo taken DATE, shows apps for ORG, OR...</td>\n",
       "      <td>[Children ride a manually operated PERSON whee...</td>\n",
       "      <td>[True]</td>\n",
       "    </tr>\n",
       "    <tr>\n",
       "      <th>2</th>\n",
       "      <td>b'\\xff\\xd8\\xff\\xe0\\x00\\x10JFIF\\x00\\x01\\x01\\x00...</td>\n",
       "      <td>[ORG actually owns ORG but has been planning a...</td>\n",
       "      <td>[‘Staunch Characters’ Battle Over Painting of ...</td>\n",
       "      <td>[True]</td>\n",
       "    </tr>\n",
       "    <tr>\n",
       "      <th>3</th>\n",
       "      <td>b'\\xff\\xd8\\xff\\xe0\\x00\\x10JFIF\\x00\\x01\\x01\\x00...</td>\n",
       "      <td>[Mr. PERSON wants to increase the utility of t...</td>\n",
       "      <td>[Mr. PERSON does not want to increase the util...</td>\n",
       "      <td>[True]</td>\n",
       "    </tr>\n",
       "    <tr>\n",
       "      <th>4</th>\n",
       "      <td>b'\\xff\\xd8\\xff\\xe0\\x00\\x10JFIF\\x00\\x01\\x01\\x00...</td>\n",
       "      <td>[Mr. PERSON wants to increase the utility of t...</td>\n",
       "      <td>[PERSON conducts CARDINAL of his healing cerem...</td>\n",
       "      <td>[True]</td>\n",
       "    </tr>\n",
       "    <tr>\n",
       "      <th>5</th>\n",
       "      <td>b'\\xff\\xd8\\xff\\xe0\\x00\\x10JFIF\\x00\\x01\\x01\\x00...</td>\n",
       "      <td>[Mr. PERSON wants to increase the utility of t...</td>\n",
       "      <td>[The mother was slaughtered and the newborn ba...</td>\n",
       "      <td>[True]</td>\n",
       "    </tr>\n",
       "    <tr>\n",
       "      <th>6</th>\n",
       "      <td>b'\\xff\\xd8\\xff\\xe0\\x00\\x10JFIF\\x00\\x01\\x01\\x00...</td>\n",
       "      <td>[A statue depicting PERSON stands in GPE, GPE,...</td>\n",
       "      <td>[GPE had fiercely objected to its neighbor's u...</td>\n",
       "      <td>[False]</td>\n",
       "    </tr>\n",
       "    <tr>\n",
       "      <th>7</th>\n",
       "      <td>b'\\xff\\xd8\\xff\\xe0\\x00\\x10JFIF\\x00\\x01\\x01\\x00...</td>\n",
       "      <td>[A statue depicting PERSON stands in GPE, GPE,...</td>\n",
       "      <td>[A statue depicting PERSON does not stand in G...</td>\n",
       "      <td>[True]</td>\n",
       "    </tr>\n",
       "    <tr>\n",
       "      <th>8</th>\n",
       "      <td>b'\\xff\\xd8\\xff\\xe0\\x00\\x10JFIF\\x00\\x01\\x01\\x00...</td>\n",
       "      <td>[Bloggers who quit jobs to travel the world en...</td>\n",
       "      <td>[PERSON listening to his ORG headphones near O...</td>\n",
       "      <td>[True]</td>\n",
       "    </tr>\n",
       "    <tr>\n",
       "      <th>9</th>\n",
       "      <td>b'\\xff\\xd8\\xff\\xe0\\x00\\x10JFIF\\x00\\x01\\x01\\x00...</td>\n",
       "      <td>[Participants in a rally in GPE in support of ...</td>\n",
       "      <td>[A statue depicting PERSON stands in GPE, GPE,...</td>\n",
       "      <td>[True]</td>\n",
       "    </tr>\n",
       "    <tr>\n",
       "      <th>10</th>\n",
       "      <td>b'\\xff\\xd8\\xff\\xe0\\x00\\x10JFIF\\x00\\x01\\x01\\x00...</td>\n",
       "      <td>[GPE had fiercely objected to its neighbor's u...</td>\n",
       "      <td>[Here, mashed potatoes are generously seasoned...</td>\n",
       "      <td>[True]</td>\n",
       "    </tr>\n",
       "    <tr>\n",
       "      <th>11</th>\n",
       "      <td>b'\\xff\\xd8\\xff\\xe0\\x00\\x10JFIF\\x00\\x01\\x01\\x00...</td>\n",
       "      <td>[ORG actually owns ORG but has been planning a...</td>\n",
       "      <td>[The technical infrastructure of ORG, PRODUCT ...</td>\n",
       "      <td>[False]</td>\n",
       "    </tr>\n",
       "    <tr>\n",
       "      <th>12</th>\n",
       "      <td>b'\\xff\\xd8\\xff\\xe0\\x00\\x10JFIF\\x00\\x01\\x01\\x00...</td>\n",
       "      <td>[ORG actually owns ORG but has been planning a...</td>\n",
       "      <td>[ORG actually owns ORG but does not have been ...</td>\n",
       "      <td>[True]</td>\n",
       "    </tr>\n",
       "    <tr>\n",
       "      <th>13</th>\n",
       "      <td>b'\\xff\\xd8\\xff\\xe0\\x00\\x10JFIF\\x00\\x01\\x01\\x00...</td>\n",
       "      <td>[PERSON, ORG chief negotiator, said DATE that ...</td>\n",
       "      <td>[Trading on Wall Street reflected optimism abo...</td>\n",
       "      <td>[True]</td>\n",
       "    </tr>\n",
       "    <tr>\n",
       "      <th>14</th>\n",
       "      <td>b'\\xff\\xd8\\xff\\xe0\\x00\\x10JFIF\\x00\\x01\\x01\\x00...</td>\n",
       "      <td>[Members of the team \"He Suits, He Scores\" con...</td>\n",
       "      <td>[ORG said it has nearly doubled server capacit...</td>\n",
       "      <td>[True]</td>\n",
       "    </tr>\n",
       "    <tr>\n",
       "      <th>15</th>\n",
       "      <td>b'\\xff\\xd8\\xff\\xe0\\x00\\x10JFIF\\x00\\x01\\x01\\x00...</td>\n",
       "      <td>[This photo taken DATE, shows apps for ORG, OR...</td>\n",
       "      <td>[Borkh played numerous leading roles at all of...</td>\n",
       "      <td>[True]</td>\n",
       "    </tr>\n",
       "    <tr>\n",
       "      <th>16</th>\n",
       "      <td>b'\\xff\\xd8\\xff\\xe0\\x00\\x10JFIF\\x00\\x01\\x01\\x00...</td>\n",
       "      <td>[Mr. PERSON wants to increase the utility of t...</td>\n",
       "      <td>[Mr. PERSON does not want to increase the util...</td>\n",
       "      <td>[True]</td>\n",
       "    </tr>\n",
       "    <tr>\n",
       "      <th>17</th>\n",
       "      <td>b'\\xff\\xd8\\xff\\xe0\\x00\\x10JFIF\\x00\\x01\\x01\\x00...</td>\n",
       "      <td>[The GPE pavilion at FAC site.]</td>\n",
       "      <td>[Truffle shavings and dried porcini liven up a...</td>\n",
       "      <td>[True]</td>\n",
       "    </tr>\n",
       "    <tr>\n",
       "      <th>18</th>\n",
       "      <td>b'\\xff\\xd8\\xff\\xe0\\x00\\x10JFIF\\x00\\x01\\x01\\x00...</td>\n",
       "      <td>[Mr. PERSON wants to increase the utility of t...</td>\n",
       "      <td>[The mother was slaughtered and the newborn ba...</td>\n",
       "      <td>[True]</td>\n",
       "    </tr>\n",
       "    <tr>\n",
       "      <th>19</th>\n",
       "      <td>b'\\xff\\xd8\\xff\\xe0\\x00\\x10JFIF\\x00\\x01\\x01\\x00...</td>\n",
       "      <td>[A fan holds up a sign referring to the air pr...</td>\n",
       "      <td>[The burial ground under excavation contains t...</td>\n",
       "      <td>[True]</td>\n",
       "    </tr>\n",
       "  </tbody>\n",
       "</table>\n",
       "</div>"
      ],
      "text/plain": [
       "                                                image  \\\n",
       "0   b'\\xff\\xd8\\xff\\xe0\\x00\\x10JFIF\\x00\\x01\\x01\\x00...   \n",
       "1   b'\\xff\\xd8\\xff\\xe0\\x00\\x10JFIF\\x00\\x01\\x01\\x00...   \n",
       "2   b'\\xff\\xd8\\xff\\xe0\\x00\\x10JFIF\\x00\\x01\\x01\\x00...   \n",
       "3   b'\\xff\\xd8\\xff\\xe0\\x00\\x10JFIF\\x00\\x01\\x01\\x00...   \n",
       "4   b'\\xff\\xd8\\xff\\xe0\\x00\\x10JFIF\\x00\\x01\\x01\\x00...   \n",
       "5   b'\\xff\\xd8\\xff\\xe0\\x00\\x10JFIF\\x00\\x01\\x01\\x00...   \n",
       "6   b'\\xff\\xd8\\xff\\xe0\\x00\\x10JFIF\\x00\\x01\\x01\\x00...   \n",
       "7   b'\\xff\\xd8\\xff\\xe0\\x00\\x10JFIF\\x00\\x01\\x01\\x00...   \n",
       "8   b'\\xff\\xd8\\xff\\xe0\\x00\\x10JFIF\\x00\\x01\\x01\\x00...   \n",
       "9   b'\\xff\\xd8\\xff\\xe0\\x00\\x10JFIF\\x00\\x01\\x01\\x00...   \n",
       "10  b'\\xff\\xd8\\xff\\xe0\\x00\\x10JFIF\\x00\\x01\\x01\\x00...   \n",
       "11  b'\\xff\\xd8\\xff\\xe0\\x00\\x10JFIF\\x00\\x01\\x01\\x00...   \n",
       "12  b'\\xff\\xd8\\xff\\xe0\\x00\\x10JFIF\\x00\\x01\\x01\\x00...   \n",
       "13  b'\\xff\\xd8\\xff\\xe0\\x00\\x10JFIF\\x00\\x01\\x01\\x00...   \n",
       "14  b'\\xff\\xd8\\xff\\xe0\\x00\\x10JFIF\\x00\\x01\\x01\\x00...   \n",
       "15  b'\\xff\\xd8\\xff\\xe0\\x00\\x10JFIF\\x00\\x01\\x01\\x00...   \n",
       "16  b'\\xff\\xd8\\xff\\xe0\\x00\\x10JFIF\\x00\\x01\\x01\\x00...   \n",
       "17  b'\\xff\\xd8\\xff\\xe0\\x00\\x10JFIF\\x00\\x01\\x01\\x00...   \n",
       "18  b'\\xff\\xd8\\xff\\xe0\\x00\\x10JFIF\\x00\\x01\\x01\\x00...   \n",
       "19  b'\\xff\\xd8\\xff\\xe0\\x00\\x10JFIF\\x00\\x01\\x01\\x00...   \n",
       "\n",
       "                                            caption_1  \\\n",
       "0   [This photo taken DATE, shows apps for ORG, OR...   \n",
       "1   [This photo taken DATE, shows apps for ORG, OR...   \n",
       "2   [ORG actually owns ORG but has been planning a...   \n",
       "3   [Mr. PERSON wants to increase the utility of t...   \n",
       "4   [Mr. PERSON wants to increase the utility of t...   \n",
       "5   [Mr. PERSON wants to increase the utility of t...   \n",
       "6   [A statue depicting PERSON stands in GPE, GPE,...   \n",
       "7   [A statue depicting PERSON stands in GPE, GPE,...   \n",
       "8   [Bloggers who quit jobs to travel the world en...   \n",
       "9   [Participants in a rally in GPE in support of ...   \n",
       "10  [GPE had fiercely objected to its neighbor's u...   \n",
       "11  [ORG actually owns ORG but has been planning a...   \n",
       "12  [ORG actually owns ORG but has been planning a...   \n",
       "13  [PERSON, ORG chief negotiator, said DATE that ...   \n",
       "14  [Members of the team \"He Suits, He Scores\" con...   \n",
       "15  [This photo taken DATE, shows apps for ORG, OR...   \n",
       "16  [Mr. PERSON wants to increase the utility of t...   \n",
       "17                    [The GPE pavilion at FAC site.]   \n",
       "18  [Mr. PERSON wants to increase the utility of t...   \n",
       "19  [A fan holds up a sign referring to the air pr...   \n",
       "\n",
       "                                            caption_2    label  \n",
       "0   [The technical infrastructure of ORG, PRODUCT ...  [False]  \n",
       "1   [Children ride a manually operated PERSON whee...   [True]  \n",
       "2   [‘Staunch Characters’ Battle Over Painting of ...   [True]  \n",
       "3   [Mr. PERSON does not want to increase the util...   [True]  \n",
       "4   [PERSON conducts CARDINAL of his healing cerem...   [True]  \n",
       "5   [The mother was slaughtered and the newborn ba...   [True]  \n",
       "6   [GPE had fiercely objected to its neighbor's u...  [False]  \n",
       "7   [A statue depicting PERSON does not stand in G...   [True]  \n",
       "8   [PERSON listening to his ORG headphones near O...   [True]  \n",
       "9   [A statue depicting PERSON stands in GPE, GPE,...   [True]  \n",
       "10  [Here, mashed potatoes are generously seasoned...   [True]  \n",
       "11  [The technical infrastructure of ORG, PRODUCT ...  [False]  \n",
       "12  [ORG actually owns ORG but does not have been ...   [True]  \n",
       "13  [Trading on Wall Street reflected optimism abo...   [True]  \n",
       "14  [ORG said it has nearly doubled server capacit...   [True]  \n",
       "15  [Borkh played numerous leading roles at all of...   [True]  \n",
       "16  [Mr. PERSON does not want to increase the util...   [True]  \n",
       "17  [Truffle shavings and dried porcini liven up a...   [True]  \n",
       "18  [The mother was slaughtered and the newborn ba...   [True]  \n",
       "19  [The burial ground under excavation contains t...   [True]  "
      ]
     },
     "execution_count": 41,
     "metadata": {},
     "output_type": "execute_result"
    }
   ],
   "source": [
    "dataframe[0:20]"
   ]
  },
  {
   "cell_type": "code",
   "execution_count": 21,
   "id": "b1ccdd1f",
   "metadata": {},
   "outputs": [],
   "source": [
    "def load_image(path):\n",
    "   try:\n",
    "      with open(path, \"rb\") as fp:\n",
    "        return fp.read()\n",
    "   except:\n",
    "      return None"
   ]
  },
  {
   "cell_type": "code",
   "execution_count": 22,
   "id": "20de3ae9",
   "metadata": {},
   "outputs": [
    {
     "name": "stderr",
     "output_type": "stream",
     "text": [
      "/root/anaconda3/envs/vilt/lib/python3.8/site-packages/tqdm/std.py:702: FutureWarning: The Panel class is removed from pandas. Accessing it from the top-level namespace will also be removed in the next version\n",
      "  from pandas import Panel\n",
      "100%|██████████| 56908/56908 [00:18<00:00, 3059.45it/s]\n"
     ]
    }
   ],
   "source": [
    "tqdm.pandas()\n",
    "\n",
    "dataframe['image'] = dataframe['image'].progress_apply(lambda x: load_image(x))"
   ]
  },
  {
   "cell_type": "code",
   "execution_count": 30,
   "id": "71b1b576",
   "metadata": {},
   "outputs": [],
   "source": [
    "dataframe = dataframe[dataframe.image.notnull()]"
   ]
  },
  {
   "cell_type": "markdown",
   "id": "6dddccd0",
   "metadata": {},
   "source": [
    "# PyArrow"
   ]
  },
  {
   "cell_type": "code",
   "execution_count": 23,
   "id": "47eda01d",
   "metadata": {},
   "outputs": [],
   "source": [
    "table = pa.Table.from_pandas(dataframe)\n"
   ]
  },
  {
   "cell_type": "code",
   "execution_count": 24,
   "id": "6f266cc0",
   "metadata": {},
   "outputs": [],
   "source": [
    "split = 'val'\n",
    "with pa.OSFile(f\"dataset/normal_cap/cosmos_{split}.arrow\", \"wb\") as sink:\n",
    "    with pa.RecordBatchFileWriter(sink, table.schema) as writer:\n",
    "        writer.write_table(table)\n",
    "# Data 2 mất file train"
   ]
  },
  {
   "cell_type": "markdown",
   "id": "eab4ed3e",
   "metadata": {},
   "source": [
    "# Val"
   ]
  },
  {
   "cell_type": "markdown",
   "id": "a59e629f",
   "metadata": {},
   "source": [
    "# Test"
   ]
  },
  {
   "cell_type": "code",
   "execution_count": null,
   "id": "614eb437",
   "metadata": {},
   "outputs": [],
   "source": [
    "import spacy\n",
    "nlp = spacy.load(\"en_core_web_sm\")"
   ]
  },
  {
   "cell_type": "code",
   "execution_count": null,
   "id": "f2c7e7c4",
   "metadata": {},
   "outputs": [],
   "source": [
    "def modify_caption_replace_entities(caption_text):\n",
    "    \"\"\"\n",
    "        Utility function to replace named entities in the caption with their corresponding hypernyms\n",
    "        Args:\n",
    "            caption_text (str): Original caption with named entities\n",
    "        Returns:\n",
    "            caption_modified (str): Modified caption after replacing named entities\n",
    "    \"\"\"\n",
    "    doc = nlp(caption_text)\n",
    "    caption_modified = caption_text\n",
    "    caption_entity_list = []\n",
    "    for ent in doc.ents:\n",
    "        caption_entity_list.append((ent.text, ent.label_))\n",
    "        caption_modified = caption_modified.replace(ent.text, ent.label_, 1)\n",
    "    return caption_modified"
   ]
  },
  {
   "cell_type": "code",
   "execution_count": 25,
   "id": "cbb1ead5",
   "metadata": {},
   "outputs": [
    {
     "name": "stderr",
     "output_type": "stream",
     "text": [
      "100%|██████████| 1700/1700 [00:00<00:00, 482266.95it/s]\n"
     ]
    }
   ],
   "source": [
    "l_test  = []\n",
    "for data in tqdm(test_data):\n",
    "    cap1 = (data['caption1'])\n",
    "    cap2 = (data['caption2'])\n",
    "    l_test.append([data['img_local_path'],[cap1],[cap2],[data['context_label']==True]])"
   ]
  },
  {
   "cell_type": "code",
   "execution_count": 26,
   "id": "d2b8b825",
   "metadata": {},
   "outputs": [],
   "source": [
    "dataframe_test = pd.DataFrame(\n",
    "    l_test, columns=[\"image\", \"caption_1\", \"caption_2\", \"label\"],\n",
    ")"
   ]
  },
  {
   "cell_type": "code",
   "execution_count": 27,
   "id": "85fa816d",
   "metadata": {},
   "outputs": [
    {
     "data": {
      "text/html": [
       "<div>\n",
       "<style scoped>\n",
       "    .dataframe tbody tr th:only-of-type {\n",
       "        vertical-align: middle;\n",
       "    }\n",
       "\n",
       "    .dataframe tbody tr th {\n",
       "        vertical-align: top;\n",
       "    }\n",
       "\n",
       "    .dataframe thead th {\n",
       "        text-align: right;\n",
       "    }\n",
       "</style>\n",
       "<table border=\"1\" class=\"dataframe\">\n",
       "  <thead>\n",
       "    <tr style=\"text-align: right;\">\n",
       "      <th></th>\n",
       "      <th>image</th>\n",
       "      <th>caption_1</th>\n",
       "      <th>caption_2</th>\n",
       "      <th>label</th>\n",
       "    </tr>\n",
       "  </thead>\n",
       "  <tbody>\n",
       "    <tr>\n",
       "      <th>0</th>\n",
       "      <td>test/0.jpg</td>\n",
       "      <td>[Julian Castro at his announcement in San Anto...</td>\n",
       "      <td>[Julian Castro at his announcement in San Anto...</td>\n",
       "      <td>[False]</td>\n",
       "    </tr>\n",
       "    <tr>\n",
       "      <th>1</th>\n",
       "      <td>test/1.jpg</td>\n",
       "      <td>[Supporters of Tanzania's ruling Chama Cha Map...</td>\n",
       "      <td>[A person sits on a truck as supporters of the...</td>\n",
       "      <td>[False]</td>\n",
       "    </tr>\n",
       "    <tr>\n",
       "      <th>2</th>\n",
       "      <td>test/2.jpg</td>\n",
       "      <td>[53,000 dead people turned up on the state’s v...</td>\n",
       "      <td>[These social media posts did not link to a re...</td>\n",
       "      <td>[True]</td>\n",
       "    </tr>\n",
       "    <tr>\n",
       "      <th>3</th>\n",
       "      <td>test/3.jpg</td>\n",
       "      <td>[Actor, musician, director and devoted followe...</td>\n",
       "      <td>[A shocking report about the former child acto...</td>\n",
       "      <td>[True]</td>\n",
       "    </tr>\n",
       "    <tr>\n",
       "      <th>4</th>\n",
       "      <td>test/4.jpg</td>\n",
       "      <td>[Men from the Maasai tribe perform a tradition...</td>\n",
       "      <td>[And on the same day in Kenya's Narok county, ...</td>\n",
       "      <td>[False]</td>\n",
       "    </tr>\n",
       "    <tr>\n",
       "      <th>...</th>\n",
       "      <td>...</td>\n",
       "      <td>...</td>\n",
       "      <td>...</td>\n",
       "      <td>...</td>\n",
       "    </tr>\n",
       "    <tr>\n",
       "      <th>1695</th>\n",
       "      <td>test/1695.jpg</td>\n",
       "      <td>[President Obama trademarked the name 'Obamaca...</td>\n",
       "      <td>[There was no truth that Obama family millions...</td>\n",
       "      <td>[True]</td>\n",
       "    </tr>\n",
       "    <tr>\n",
       "      <th>1696</th>\n",
       "      <td>test/1696.jpg</td>\n",
       "      <td>[A photograph shows a soldier carrying a donke...</td>\n",
       "      <td>[Coronavirus meme featuring “WWII donkey” is n...</td>\n",
       "      <td>[True]</td>\n",
       "    </tr>\n",
       "    <tr>\n",
       "      <th>1697</th>\n",
       "      <td>test/1697.jpg</td>\n",
       "      <td>[Homeless people living on streets in Denver]</td>\n",
       "      <td>[The State Capitol Building in Colorado]</td>\n",
       "      <td>[False]</td>\n",
       "    </tr>\n",
       "    <tr>\n",
       "      <th>1698</th>\n",
       "      <td>test/1698.jpg</td>\n",
       "      <td>[The castle's esplanade was a perfect spot for...</td>\n",
       "      <td>[Picture shows an Edinburgh skier]</td>\n",
       "      <td>[False]</td>\n",
       "    </tr>\n",
       "    <tr>\n",
       "      <th>1699</th>\n",
       "      <td>test/1699.jpg</td>\n",
       "      <td>[We are confident that our reporting will stan...</td>\n",
       "      <td>[BuzzFeed News Editor-in-Chief Ben Smith poses...</td>\n",
       "      <td>[True]</td>\n",
       "    </tr>\n",
       "  </tbody>\n",
       "</table>\n",
       "<p>1700 rows × 4 columns</p>\n",
       "</div>"
      ],
      "text/plain": [
       "              image                                          caption_1  \\\n",
       "0        test/0.jpg  [Julian Castro at his announcement in San Anto...   \n",
       "1        test/1.jpg  [Supporters of Tanzania's ruling Chama Cha Map...   \n",
       "2        test/2.jpg  [53,000 dead people turned up on the state’s v...   \n",
       "3        test/3.jpg  [Actor, musician, director and devoted followe...   \n",
       "4        test/4.jpg  [Men from the Maasai tribe perform a tradition...   \n",
       "...             ...                                                ...   \n",
       "1695  test/1695.jpg  [President Obama trademarked the name 'Obamaca...   \n",
       "1696  test/1696.jpg  [A photograph shows a soldier carrying a donke...   \n",
       "1697  test/1697.jpg      [Homeless people living on streets in Denver]   \n",
       "1698  test/1698.jpg  [The castle's esplanade was a perfect spot for...   \n",
       "1699  test/1699.jpg  [We are confident that our reporting will stan...   \n",
       "\n",
       "                                              caption_2    label  \n",
       "0     [Julian Castro at his announcement in San Anto...  [False]  \n",
       "1     [A person sits on a truck as supporters of the...  [False]  \n",
       "2     [These social media posts did not link to a re...   [True]  \n",
       "3     [A shocking report about the former child acto...   [True]  \n",
       "4     [And on the same day in Kenya's Narok county, ...  [False]  \n",
       "...                                                 ...      ...  \n",
       "1695  [There was no truth that Obama family millions...   [True]  \n",
       "1696  [Coronavirus meme featuring “WWII donkey” is n...   [True]  \n",
       "1697           [The State Capitol Building in Colorado]  [False]  \n",
       "1698                 [Picture shows an Edinburgh skier]  [False]  \n",
       "1699  [BuzzFeed News Editor-in-Chief Ben Smith poses...   [True]  \n",
       "\n",
       "[1700 rows x 4 columns]"
      ]
     },
     "execution_count": 27,
     "metadata": {},
     "output_type": "execute_result"
    }
   ],
   "source": [
    "dataframe_test"
   ]
  },
  {
   "cell_type": "code",
   "execution_count": 28,
   "id": "5ba1d0f0",
   "metadata": {},
   "outputs": [
    {
     "name": "stderr",
     "output_type": "stream",
     "text": [
      "/root/anaconda3/envs/vilt/lib/python3.8/site-packages/tqdm/std.py:702: FutureWarning: The Panel class is removed from pandas. Accessing it from the top-level namespace will also be removed in the next version\n",
      "  from pandas import Panel\n",
      "100%|██████████| 1700/1700 [00:00<00:00, 1710.96it/s]\n"
     ]
    }
   ],
   "source": [
    "tqdm.pandas()\n",
    "\n",
    "dataframe_test['image'] = dataframe_test['image'].progress_apply(lambda x: load_image(x))"
   ]
  },
  {
   "cell_type": "code",
   "execution_count": 29,
   "id": "4a5dc6a1",
   "metadata": {},
   "outputs": [
    {
     "data": {
      "text/html": [
       "<div>\n",
       "<style scoped>\n",
       "    .dataframe tbody tr th:only-of-type {\n",
       "        vertical-align: middle;\n",
       "    }\n",
       "\n",
       "    .dataframe tbody tr th {\n",
       "        vertical-align: top;\n",
       "    }\n",
       "\n",
       "    .dataframe thead th {\n",
       "        text-align: right;\n",
       "    }\n",
       "</style>\n",
       "<table border=\"1\" class=\"dataframe\">\n",
       "  <thead>\n",
       "    <tr style=\"text-align: right;\">\n",
       "      <th></th>\n",
       "      <th>image</th>\n",
       "      <th>caption_1</th>\n",
       "      <th>caption_2</th>\n",
       "      <th>label</th>\n",
       "    </tr>\n",
       "  </thead>\n",
       "  <tbody>\n",
       "    <tr>\n",
       "      <th>0</th>\n",
       "      <td>b'\\xff\\xd8\\xff\\xe0\\x00\\x10JFIF\\x00\\x01\\x01\\x00...</td>\n",
       "      <td>[Julian Castro at his announcement in San Anto...</td>\n",
       "      <td>[Julian Castro at his announcement in San Anto...</td>\n",
       "      <td>[False]</td>\n",
       "    </tr>\n",
       "    <tr>\n",
       "      <th>1</th>\n",
       "      <td>b'\\xff\\xd8\\xff\\xe0\\x00\\x10JFIF\\x00\\x01\\x01\\x00...</td>\n",
       "      <td>[Supporters of Tanzania's ruling Chama Cha Map...</td>\n",
       "      <td>[A person sits on a truck as supporters of the...</td>\n",
       "      <td>[False]</td>\n",
       "    </tr>\n",
       "    <tr>\n",
       "      <th>2</th>\n",
       "      <td>b'\\xff\\xd8\\xff\\xe0\\x00\\x10JFIF\\x00\\x01\\x01\\x00...</td>\n",
       "      <td>[53,000 dead people turned up on the state’s v...</td>\n",
       "      <td>[These social media posts did not link to a re...</td>\n",
       "      <td>[True]</td>\n",
       "    </tr>\n",
       "    <tr>\n",
       "      <th>3</th>\n",
       "      <td>b'\\xff\\xd8\\xff\\xe0\\x00\\x10JFIF\\x00\\x01\\x01\\x00...</td>\n",
       "      <td>[Actor, musician, director and devoted followe...</td>\n",
       "      <td>[A shocking report about the former child acto...</td>\n",
       "      <td>[True]</td>\n",
       "    </tr>\n",
       "    <tr>\n",
       "      <th>4</th>\n",
       "      <td>b'\\xff\\xd8\\xff\\xe0\\x00\\x10JFIF\\x00\\x01\\x01\\x00...</td>\n",
       "      <td>[Men from the Maasai tribe perform a tradition...</td>\n",
       "      <td>[And on the same day in Kenya's Narok county, ...</td>\n",
       "      <td>[False]</td>\n",
       "    </tr>\n",
       "    <tr>\n",
       "      <th>...</th>\n",
       "      <td>...</td>\n",
       "      <td>...</td>\n",
       "      <td>...</td>\n",
       "      <td>...</td>\n",
       "    </tr>\n",
       "    <tr>\n",
       "      <th>1695</th>\n",
       "      <td>b'\\xff\\xd8\\xff\\xe0\\x00\\x10JFIF\\x00\\x01\\x01\\x00...</td>\n",
       "      <td>[President Obama trademarked the name 'Obamaca...</td>\n",
       "      <td>[There was no truth that Obama family millions...</td>\n",
       "      <td>[True]</td>\n",
       "    </tr>\n",
       "    <tr>\n",
       "      <th>1696</th>\n",
       "      <td>b'\\xff\\xd8\\xff\\xe0\\x00\\x10JFIF\\x00\\x01\\x01\\x00...</td>\n",
       "      <td>[A photograph shows a soldier carrying a donke...</td>\n",
       "      <td>[Coronavirus meme featuring “WWII donkey” is n...</td>\n",
       "      <td>[True]</td>\n",
       "    </tr>\n",
       "    <tr>\n",
       "      <th>1697</th>\n",
       "      <td>b'\\xff\\xd8\\xff\\xe0\\x00\\x10JFIF\\x00\\x01\\x01\\x00...</td>\n",
       "      <td>[Homeless people living on streets in Denver]</td>\n",
       "      <td>[The State Capitol Building in Colorado]</td>\n",
       "      <td>[False]</td>\n",
       "    </tr>\n",
       "    <tr>\n",
       "      <th>1698</th>\n",
       "      <td>b'\\xff\\xd8\\xff\\xe0\\x00\\x10JFIF\\x00\\x01\\x01\\x00...</td>\n",
       "      <td>[The castle's esplanade was a perfect spot for...</td>\n",
       "      <td>[Picture shows an Edinburgh skier]</td>\n",
       "      <td>[False]</td>\n",
       "    </tr>\n",
       "    <tr>\n",
       "      <th>1699</th>\n",
       "      <td>b'\\xff\\xd8\\xff\\xe0\\x00\\x10JFIF\\x00\\x01\\x01\\x00...</td>\n",
       "      <td>[We are confident that our reporting will stan...</td>\n",
       "      <td>[BuzzFeed News Editor-in-Chief Ben Smith poses...</td>\n",
       "      <td>[True]</td>\n",
       "    </tr>\n",
       "  </tbody>\n",
       "</table>\n",
       "<p>1700 rows × 4 columns</p>\n",
       "</div>"
      ],
      "text/plain": [
       "                                                  image  \\\n",
       "0     b'\\xff\\xd8\\xff\\xe0\\x00\\x10JFIF\\x00\\x01\\x01\\x00...   \n",
       "1     b'\\xff\\xd8\\xff\\xe0\\x00\\x10JFIF\\x00\\x01\\x01\\x00...   \n",
       "2     b'\\xff\\xd8\\xff\\xe0\\x00\\x10JFIF\\x00\\x01\\x01\\x00...   \n",
       "3     b'\\xff\\xd8\\xff\\xe0\\x00\\x10JFIF\\x00\\x01\\x01\\x00...   \n",
       "4     b'\\xff\\xd8\\xff\\xe0\\x00\\x10JFIF\\x00\\x01\\x01\\x00...   \n",
       "...                                                 ...   \n",
       "1695  b'\\xff\\xd8\\xff\\xe0\\x00\\x10JFIF\\x00\\x01\\x01\\x00...   \n",
       "1696  b'\\xff\\xd8\\xff\\xe0\\x00\\x10JFIF\\x00\\x01\\x01\\x00...   \n",
       "1697  b'\\xff\\xd8\\xff\\xe0\\x00\\x10JFIF\\x00\\x01\\x01\\x00...   \n",
       "1698  b'\\xff\\xd8\\xff\\xe0\\x00\\x10JFIF\\x00\\x01\\x01\\x00...   \n",
       "1699  b'\\xff\\xd8\\xff\\xe0\\x00\\x10JFIF\\x00\\x01\\x01\\x00...   \n",
       "\n",
       "                                              caption_1  \\\n",
       "0     [Julian Castro at his announcement in San Anto...   \n",
       "1     [Supporters of Tanzania's ruling Chama Cha Map...   \n",
       "2     [53,000 dead people turned up on the state’s v...   \n",
       "3     [Actor, musician, director and devoted followe...   \n",
       "4     [Men from the Maasai tribe perform a tradition...   \n",
       "...                                                 ...   \n",
       "1695  [President Obama trademarked the name 'Obamaca...   \n",
       "1696  [A photograph shows a soldier carrying a donke...   \n",
       "1697      [Homeless people living on streets in Denver]   \n",
       "1698  [The castle's esplanade was a perfect spot for...   \n",
       "1699  [We are confident that our reporting will stan...   \n",
       "\n",
       "                                              caption_2    label  \n",
       "0     [Julian Castro at his announcement in San Anto...  [False]  \n",
       "1     [A person sits on a truck as supporters of the...  [False]  \n",
       "2     [These social media posts did not link to a re...   [True]  \n",
       "3     [A shocking report about the former child acto...   [True]  \n",
       "4     [And on the same day in Kenya's Narok county, ...  [False]  \n",
       "...                                                 ...      ...  \n",
       "1695  [There was no truth that Obama family millions...   [True]  \n",
       "1696  [Coronavirus meme featuring “WWII donkey” is n...   [True]  \n",
       "1697           [The State Capitol Building in Colorado]  [False]  \n",
       "1698                 [Picture shows an Edinburgh skier]  [False]  \n",
       "1699  [BuzzFeed News Editor-in-Chief Ben Smith poses...   [True]  \n",
       "\n",
       "[1700 rows x 4 columns]"
      ]
     },
     "execution_count": 29,
     "metadata": {},
     "output_type": "execute_result"
    }
   ],
   "source": [
    "dataframe_test"
   ]
  },
  {
   "cell_type": "markdown",
   "id": "219bfdb9",
   "metadata": {},
   "source": [
    "# PyArrow"
   ]
  },
  {
   "cell_type": "code",
   "execution_count": 30,
   "id": "250c78ba",
   "metadata": {},
   "outputs": [],
   "source": [
    "table = pa.Table.from_pandas(dataframe_test)\n",
    "split = 'test'\n",
    "with pa.OSFile(f\"dataset/normal_cap/cosmos_{split}.arrow\", \"wb\") as sink:\n",
    "    with pa.RecordBatchFileWriter(sink, table.schema) as writer:\n",
    "        writer.write_table(table)"
   ]
  },
  {
   "cell_type": "code",
   "execution_count": null,
   "id": "13474073",
   "metadata": {},
   "outputs": [],
   "source": []
  }
 ],
 "metadata": {
  "interpreter": {
   "hash": "dd6ac6d03954cf65a3aa8ce4cedda9aac0145a018ad67eca07aa9c761ef41ce4"
  },
  "kernelspec": {
   "display_name": "Python 3.8.5 ('vilt')",
   "language": "python",
   "name": "python3"
  },
  "language_info": {
   "codemirror_mode": {
    "name": "ipython",
    "version": 3
   },
   "file_extension": ".py",
   "mimetype": "text/x-python",
   "name": "python",
   "nbconvert_exporter": "python",
   "pygments_lexer": "ipython3",
   "version": "3.8.5"
  }
 },
 "nbformat": 4,
 "nbformat_minor": 5
}
