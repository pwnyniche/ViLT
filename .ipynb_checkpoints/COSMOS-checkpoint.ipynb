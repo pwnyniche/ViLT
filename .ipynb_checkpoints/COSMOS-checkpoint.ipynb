{
 "cells": [
  {
   "cell_type": "code",
   "execution_count": 35,
   "id": "3ae51824",
   "metadata": {},
   "outputs": [],
   "source": [
    "import json\n",
    "import random\n",
    "from tqdm import tqdm\n",
    "from collections import defaultdict\n",
    "import pyarrow as pa\n",
    "import pandas as pd\n",
    "import numpy as np\n",
    "import matplotlib.pyplot as plt"
   ]
  },
  {
   "cell_type": "code",
   "execution_count": 3,
   "id": "50ef5fcf",
   "metadata": {},
   "outputs": [],
   "source": [
    "root = '.'\n",
    "\n",
    "train_data = list(\n",
    "    map(json.loads, open(f\"{root}/cosmos/train_data.json\").readlines())\n",
    ")\n",
    "test_data = list(\n",
    "    map(json.loads, open(f\"{root}/cosmos/test_data.json\").readlines())\n",
    ")\n",
    "val_data = list(map(json.loads, open(f\"{root}/cosmos/val_data.json\").readlines()))"
   ]
  },
  {
   "cell_type": "code",
   "execution_count": 4,
   "id": "d2d367ea",
   "metadata": {},
   "outputs": [],
   "source": [
    "splits = [\n",
    "    \"train\",\n",
    "    \"test\",\n",
    "    \"val\",\n",
    "]\n",
    "datas = [\n",
    "    train_data,\n",
    "    test_data,\n",
    "    val_data,\n",
    "]"
   ]
  },
  {
   "cell_type": "code",
   "execution_count": 34,
   "id": "ef27b9b4",
   "metadata": {},
   "outputs": [
    {
     "name": "stderr",
     "output_type": "stream",
     "text": [
      "100%|████████████| 161754/161754 [00:00<00:00, 727967.63it/s]\n"
     ]
    },
    {
     "data": {
      "image/png": "[encoded data removed]",
      "text/plain": [
       "<Figure size 720x288 with 1 Axes>"
      ]
     },
     "metadata": {
      "needs_background": "light"
     },
     "output_type": "display_data"
    }
   ],
   "source": [
    "# Articles count\n",
    "article_count = defaultdict(int)\n",
    "for data in tqdm(train_data):\n",
    "    n_article = len(data['articles'])\n",
    "    article_count[n_article] += 1\n",
    "    \n",
    "lists = sorted(article_count.items())\n",
    "x, y = zip(*lists)\n",
    "plt.figure(figsize=(10, 4))\n",
    "plt.plot(x, y)\n",
    "plt.xticks(np.arange(min(x), max(x)+1, 1.0))\n",
    "plt.grid()\n",
    "plt.show()"
   ]
  },
  {
   "cell_type": "code",
   "execution_count": 45,
   "id": "f00f2f45",
   "metadata": {},
   "outputs": [
    {
     "data": {
      "text/plain": [
       "{'img_local_path': 'train/161780.jpg',\n",
       " 'articles': [{'caption': \"Kevin Durant received the finals' Most Valuable Player Award from N.B.A. Commissioner Adam Silver with Warriors guard Klay Thompson hanging onto him.\",\n",
       "   'article_url': 'https://www.nytimes.com/2018/06/08/sports/nba-finals-warriors-cavs.html',\n",
       "   'caption_modified': \"PERSON received the finals' Most Valuable Player Award from N.B.A. Commissioner PERSON with Warriors guard PERSON hanging onto him.\",\n",
       "   'entity_list': [['Kevin Durant', 'PERSON'],\n",
       "    ['Adam Silver', 'PERSON'],\n",
       "    ['Klay Thompson', 'PERSON']]},\n",
       "  {'caption': 'Kevin Durant received the finals’ Most Valuable Player Award from N.B.A. Commissioner Adam Silver with Warriors guard Klay Thompson hanging onto him.',\n",
       "   'article_url': 'https://www.nytimes.com/2018/06/08/sports/nba-finals-warriors-cavs.html',\n",
       "   'caption_modified': 'PERSON received the finals’ WORK_OF_ART from N.B.A. Commissioner PERSON with Warriors guard PERSON hanging onto him.',\n",
       "   'entity_list': [['Kevin Durant', 'PERSON'],\n",
       "    ['Most Valuable Player Award', 'WORK_OF_ART'],\n",
       "    ['Adam Silver', 'PERSON'],\n",
       "    ['Klay Thompson', 'PERSON']]},\n",
       "  {'caption': 'MICHAEL JORDAN WINNING NBA CHAMPIONSHIP HOLDING TROPHY CANDID PUBLICITY PHOTO',\n",
       "   'article_url': 'http://teamseismic.com/category/index.php?keyword=PHOTO-MICHAEL-JORDAN-WINNING-NBA-CHAMPIONSHIP-700036',\n",
       "   'caption_modified': 'PERSON WINNING NBA CHAMPIONSHIP HOLDING TROPHY CANDID PUBLICITY PHOTO',\n",
       "   'entity_list': [['MICHAEL JORDAN', 'PERSON']]}],\n",
       " 'maskrcnn_bboxes': [[265.974365234375,\n",
       "   14.052271842956543,\n",
       "   457.0546569824219,\n",
       "   393.8901672363281],\n",
       "  [0.13282299041748047,\n",
       "   78.61756896972656,\n",
       "   258.7312316894531,\n",
       "   398.06939697265625],\n",
       "  [461.4073181152344,\n",
       "   2.4914920330047607,\n",
       "   488.089599609375,\n",
       "   108.95879364013672],\n",
       "  [114.89521026611328,\n",
       "   50.160362243652344,\n",
       "   136.22879028320312,\n",
       "   138.10061645507812],\n",
       "  [297.625, 250.89056396484375, 317.4819641113281, 265.18133544921875],\n",
       "  [463.3453369140625,\n",
       "   63.244808197021484,\n",
       "   598.776123046875,\n",
       "   395.63140869140625],\n",
       "  [95.5095443725586, 171.3586883544922, 158.5028533935547, 277.04888916015625],\n",
       "  [286.5254211425781,\n",
       "   265.11614990234375,\n",
       "   430.39959716796875,\n",
       "   399.4420166015625],\n",
       "  [577.21630859375, 39.37409973144531, 598.60888671875, 120.48603057861328],\n",
       "  [89.2933578491211, 131.49462890625, 108.2532730102539, 154.42787170410156]]}"
      ]
     },
     "execution_count": 45,
     "metadata": {},
     "output_type": "execute_result"
    }
   ],
   "source": [
    "data"
   ]
  },
  {
   "cell_type": "code",
   "execution_count": 69,
   "id": "749af94b",
   "metadata": {},
   "outputs": [
    {
     "name": "stderr",
     "output_type": "stream",
     "text": [
      "100%|████████████| 161754/161754 [00:01<00:00, 159807.91it/s]\n",
      "100%|█████████████| 161754/161754 [00:01<00:00, 96037.51it/s]\n"
     ]
    }
   ],
   "source": [
    "np.random.seed(42)\n",
    "\n",
    "# Not OOC cases\n",
    "l = []\n",
    "for data in tqdm(train_data):\n",
    "    if len(data['articles']) > 1:\n",
    "        # Pick 2 random caption\n",
    "        caption_1_idx, caption_2_idx = random.sample(range(0,len(data['articles'])),2)\n",
    "        cap1 = data['articles'][caption_1_idx]['caption']\n",
    "        cap2 = data['articles'][caption_2_idx]['caption']\n",
    "        l.append([data['img_local_path'],cap1,cap2,0])\n",
    "        \n",
    "# OOC cases\n",
    "for data in tqdm(train_data):\n",
    "    # Pick 1st correct caption\n",
    "    cap1 = data['articles'][0]['caption']\n",
    "    \n",
    "    # Pick a random article then pick its first caption\n",
    "    data_random = train_data[np.random.randint(len(train_data))]\n",
    "    if data['img_local_path'] == data_random['img_local_path']:\n",
    "        continue\n",
    "    cap2 = data_random['articles'][0]['caption']\n",
    "    \n",
    "    l.append([data['img_local_path'],cap1,cap2,1])"
   ]
  },
  {
   "cell_type": "code",
   "execution_count": 70,
   "id": "b1cac531",
   "metadata": {},
   "outputs": [
    {
     "data": {
      "text/plain": [
       "(267125,\n",
       " ['train/1.jpg',\n",
       "  'Facebook said it has nearly doubled server capacity to power WhatsApp as people in isolation place more voice and video calls using the popular messaging service.',\n",
       "  'The technical infrastructure of WhatsApp, Instagram and Facebook Messenger will be unified.',\n",
       "  0],\n",
       " ['train/71.jpg',\n",
       "  \"Kevin O'Brien, a top aide to Mayor Bill de Blasio, was allowed to quietly resign last year over sexual harassment charges\",\n",
       "  \"Kevin O'Brien, a top aide to Mayor Bill de Blasio, was allowed to quietly resign last year over sexual harassment charges\",\n",
       "  0])"
      ]
     },
     "execution_count": 70,
     "metadata": {},
     "output_type": "execute_result"
    }
   ],
   "source": [
    "len(l), l[0], l[69]"
   ]
  },
  {
   "cell_type": "code",
   "execution_count": 71,
   "id": "cfa15d97",
   "metadata": {},
   "outputs": [],
   "source": [
    "dataframe = pd.DataFrame(\n",
    "    l, columns=[\"image\", \"caption_1\", \"caption_2\", \"label\"],\n",
    ")"
   ]
  },
  {
   "cell_type": "code",
   "execution_count": 73,
   "id": "92cf6835",
   "metadata": {},
   "outputs": [
    {
     "data": {
      "text/html": [
       "<div>\n",
       "<style scoped>\n",
       "    .dataframe tbody tr th:only-of-type {\n",
       "        vertical-align: middle;\n",
       "    }\n",
       "\n",
       "    .dataframe tbody tr th {\n",
       "        vertical-align: top;\n",
       "    }\n",
       "\n",
       "    .dataframe thead th {\n",
       "        text-align: right;\n",
       "    }\n",
       "</style>\n",
       "<table border=\"1\" class=\"dataframe\">\n",
       "  <thead>\n",
       "    <tr style=\"text-align: right;\">\n",
       "      <th></th>\n",
       "      <th>image</th>\n",
       "      <th>caption_1</th>\n",
       "      <th>caption_2</th>\n",
       "      <th>label</th>\n",
       "    </tr>\n",
       "  </thead>\n",
       "  <tbody>\n",
       "    <tr>\n",
       "      <th>0</th>\n",
       "      <td>train/1.jpg</td>\n",
       "      <td>Facebook said it has nearly doubled server cap...</td>\n",
       "      <td>The technical infrastructure of WhatsApp, Inst...</td>\n",
       "      <td>0</td>\n",
       "    </tr>\n",
       "    <tr>\n",
       "      <th>1</th>\n",
       "      <td>train/2.jpg</td>\n",
       "      <td>Mr. Zuckerberg wants to increase the utility o...</td>\n",
       "      <td>Mr. Zuckerberg wants to increase the utility o...</td>\n",
       "      <td>0</td>\n",
       "    </tr>\n",
       "    <tr>\n",
       "      <th>2</th>\n",
       "      <td>train/0.jpg</td>\n",
       "      <td>Greece had fiercely objected to its neighbor's...</td>\n",
       "      <td>A statue depicting Alexander the Great stands ...</td>\n",
       "      <td>0</td>\n",
       "    </tr>\n",
       "    <tr>\n",
       "      <th>3</th>\n",
       "      <td>train/1.jpg</td>\n",
       "      <td>The technical infrastructure of WhatsApp, Inst...</td>\n",
       "      <td>Facebook actually owns Whatsapp but has been p...</td>\n",
       "      <td>0</td>\n",
       "    </tr>\n",
       "    <tr>\n",
       "      <th>4</th>\n",
       "      <td>train/2.jpg</td>\n",
       "      <td>Mr. Zuckerberg wants to increase the utility o...</td>\n",
       "      <td>Mr. Zuckerberg wants to increase the utility o...</td>\n",
       "      <td>0</td>\n",
       "    </tr>\n",
       "    <tr>\n",
       "      <th>...</th>\n",
       "      <td>...</td>\n",
       "      <td>...</td>\n",
       "      <td>...</td>\n",
       "      <td>...</td>\n",
       "    </tr>\n",
       "    <tr>\n",
       "      <th>267120</th>\n",
       "      <td>train/161776.jpg</td>\n",
       "      <td>Ace Harlyn's 1939 illustration of Charlie Wagn...</td>\n",
       "      <td>Tim Montgomery sets a new world record in the ...</td>\n",
       "      <td>1</td>\n",
       "    </tr>\n",
       "    <tr>\n",
       "      <th>267121</th>\n",
       "      <td>train/161777.jpg</td>\n",
       "      <td>Jones was the batting leader for the 1969 Mets.</td>\n",
       "      <td>Burning Man participants look at an art instal...</td>\n",
       "      <td>1</td>\n",
       "    </tr>\n",
       "    <tr>\n",
       "      <th>267122</th>\n",
       "      <td>train/161778.jpg</td>\n",
       "      <td>Migrants were rescued in June by Save the Chil...</td>\n",
       "      <td>\"You are just filling up your closet with it,\"...</td>\n",
       "      <td>1</td>\n",
       "    </tr>\n",
       "    <tr>\n",
       "      <th>267123</th>\n",
       "      <td>train/161779.jpg</td>\n",
       "      <td>Regina Hall and Don Cheadle in \"Black Monday.\"</td>\n",
       "      <td>Car2Go is the only car sharing company operati...</td>\n",
       "      <td>1</td>\n",
       "    </tr>\n",
       "    <tr>\n",
       "      <th>267124</th>\n",
       "      <td>train/161780.jpg</td>\n",
       "      <td>Kevin Durant received the finals' Most Valuabl...</td>\n",
       "      <td>John Lithgow and Harriet Walter in \"The Crown.\"</td>\n",
       "      <td>1</td>\n",
       "    </tr>\n",
       "  </tbody>\n",
       "</table>\n",
       "<p>267125 rows × 4 columns</p>\n",
       "</div>"
      ],
      "text/plain": [
       "                   image                                          caption_1  \\\n",
       "0            train/1.jpg  Facebook said it has nearly doubled server cap...   \n",
       "1            train/2.jpg  Mr. Zuckerberg wants to increase the utility o...   \n",
       "2            train/0.jpg  Greece had fiercely objected to its neighbor's...   \n",
       "3            train/1.jpg  The technical infrastructure of WhatsApp, Inst...   \n",
       "4            train/2.jpg  Mr. Zuckerberg wants to increase the utility o...   \n",
       "...                  ...                                                ...   \n",
       "267120  train/161776.jpg  Ace Harlyn's 1939 illustration of Charlie Wagn...   \n",
       "267121  train/161777.jpg    Jones was the batting leader for the 1969 Mets.   \n",
       "267122  train/161778.jpg  Migrants were rescued in June by Save the Chil...   \n",
       "267123  train/161779.jpg     Regina Hall and Don Cheadle in \"Black Monday.\"   \n",
       "267124  train/161780.jpg  Kevin Durant received the finals' Most Valuabl...   \n",
       "\n",
       "                                                caption_2  label  \n",
       "0       The technical infrastructure of WhatsApp, Inst...      0  \n",
       "1       Mr. Zuckerberg wants to increase the utility o...      0  \n",
       "2       A statue depicting Alexander the Great stands ...      0  \n",
       "3       Facebook actually owns Whatsapp but has been p...      0  \n",
       "4       Mr. Zuckerberg wants to increase the utility o...      0  \n",
       "...                                                   ...    ...  \n",
       "267120  Tim Montgomery sets a new world record in the ...      1  \n",
       "267121  Burning Man participants look at an art instal...      1  \n",
       "267122  \"You are just filling up your closet with it,\"...      1  \n",
       "267123  Car2Go is the only car sharing company operati...      1  \n",
       "267124    John Lithgow and Harriet Walter in \"The Crown.\"      1  \n",
       "\n",
       "[267125 rows x 4 columns]"
      ]
     },
     "execution_count": 73,
     "metadata": {},
     "output_type": "execute_result"
    }
   ],
   "source": [
    "dataframe"
   ]
  },
  {
   "cell_type": "code",
   "execution_count": null,
   "id": "508a4e93",
   "metadata": {},
   "outputs": [],
   "source": []
  }
 ],
 "metadata": {
  "kernelspec": {
   "display_name": "Python 3 (ipykernel)",
   "language": "python",
   "name": "python3"
  },
  "language_info": {
   "codemirror_mode": {
    "name": "ipython",
    "version": 3
   },
   "file_extension": ".py",
   "mimetype": "text/x-python",
   "name": "python",
   "nbconvert_exporter": "python",
   "pygments_lexer": "ipython3",
   "version": "3.9.11"
  }
 },
 "nbformat": 4,
 "nbformat_minor": 5
}
