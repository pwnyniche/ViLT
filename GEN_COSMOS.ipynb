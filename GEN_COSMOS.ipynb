{
 "cells": [
  {
   "cell_type": "code",
   "execution_count": 1,
   "metadata": {},
   "outputs": [],
   "source": [
    "import random\n",
    "import os\n",
    "import json\n",
    "import pyarrow as pa\n",
    "from tqdm import tqdm\n",
    "import pandas as pd\n",
    "import numpy as np"
   ]
  },
  {
   "cell_type": "code",
   "execution_count": 2,
   "metadata": {},
   "outputs": [],
   "source": [
    "train_data = list(\n",
    "    map(json.loads, open(f\"/root/thesis/dataset/cosmos_anns_acm/acm_anns/train_data.json\").readlines())\n",
    ")\n",
    "# test_data = list(\n",
    "#     map(json.loads, open(f\"/root/thesis/dataset/cosmos_anns_acm/acm_anns/train_data.json\").readlines())\n",
    "# )\n",
    "val_data = list(map(json.loads, open(f\"/root/thesis/dataset/cosmos_anns_acm/acm_anns/val_data.json\").readlines()))"
   ]
  },
  {
   "cell_type": "code",
   "execution_count": 4,
   "metadata": {},
   "outputs": [],
   "source": [
    "def gen(the_data):\n",
    "    the_data = np.random.choice(the_data, size=int(len(the_data)*50/100))\n",
    "\n",
    "    l=[]\n",
    "    for i, data in enumerate(tqdm(the_data)):\n",
    "        if len(data['articles']) > 1:\n",
    "            caps = [article['caption_modified'] for article in data['articles']]\n",
    "            caps_pairs = [[data['img_local_path'],[a], [b],[1]] for idx, a in enumerate(caps) for b in caps[idx + 1:] if a!=b]\n",
    "            l += caps_pairs\n",
    "\n",
    "        # wrong case\n",
    "        for z in [0,1]:\n",
    "            idx = random.sample(range(0,len(data['articles'])),1)[0]\n",
    "            cap1 = data['articles'][idx]['caption_modified']\n",
    "\n",
    "            r_id = random.sample(range(0,len(train_data)),1)[0]\n",
    "            if r_id==i:\n",
    "                continue\n",
    "\n",
    "            data2 =  train_data[r_id]\n",
    "            idx2 = random.sample(range(0,len(data2['articles'])),1)[0]\n",
    "            cap2 = data2['articles'][idx2]['caption_modified']\n",
    "            caps_pairs = [[data['img_local_path'],[cap1],[cap2],[0]]]\n",
    "            l+=caps_pairs\n",
    "    return l"
   ]
  },
  {
   "cell_type": "code",
   "execution_count": 6,
   "metadata": {},
   "outputs": [
    {
     "name": "stderr",
     "output_type": "stream",
     "text": [
      "100%|██████████| 80877/80877 [00:04<00:00, 16704.65it/s]\n",
      "100%|██████████| 20503/20503 [00:00<00:00, 25232.92it/s]\n"
     ]
    }
   ],
   "source": [
    "np.random.seed(42)\n",
    "\n",
    "dataframe_train = pd.DataFrame(\n",
    "    gen(train_data), columns=[\"image\", \"caption_1\", \"caption_2\", \"label\"],\n",
    ")\n",
    "\n",
    "dataframe_val = pd.DataFrame(\n",
    "    gen(val_data), columns=[\"image\", \"caption_1\", \"caption_2\", \"label\"],\n",
    ")"
   ]
  },
  {
   "cell_type": "code",
   "execution_count": 7,
   "metadata": {},
   "outputs": [],
   "source": [
    "def load_image(path):\n",
    "   try:\n",
    "      with open(path, \"rb\") as fp:\n",
    "        return fp.read()\n",
    "   except:\n",
    "      return None"
   ]
  },
  {
   "cell_type": "code",
   "execution_count": 8,
   "metadata": {},
   "outputs": [
    {
     "name": "stderr",
     "output_type": "stream",
     "text": [
      "/root/anaconda3/envs/vilt2/lib/python3.7/site-packages/tqdm/std.py:702: FutureWarning: The Panel class is removed from pandas. Accessing it from the top-level namespace will also be removed in the next version\n",
      "  from pandas import Panel\n",
      "100%|██████████| 297874/297874 [00:36<00:00, 8155.55it/s] \n",
      "100%|██████████| 73979/73979 [00:10<00:00, 7382.46it/s]\n"
     ]
    }
   ],
   "source": [
    "tqdm.pandas()\n",
    "dataframe_train['image'] = dataframe_train['image'].progress_apply(lambda x: load_image(\n",
    "    os.path.join('/root/thesis/dataset', x)\n",
    "    ))\n",
    "dataframe_val['image'] = dataframe_val['image'].progress_apply(lambda x: load_image(\n",
    "    os.path.join('/root/thesis/dataset', x)\n",
    "    ))"
   ]
  },
  {
   "cell_type": "code",
   "execution_count": null,
   "metadata": {},
   "outputs": [],
   "source": []
  },
  {
   "cell_type": "code",
   "execution_count": 9,
   "metadata": {},
   "outputs": [],
   "source": [
    "split = 'train'\n",
    "\n",
    "table = pa.Table.from_pandas(dataframe_train)\n",
    "with pa.OSFile(f\"dataset/iou/cosmos_{split}.arrow\", \"wb\") as sink:\n",
    "    with pa.RecordBatchFileWriter(sink, table.schema) as writer:\n",
    "        writer.write_table(table)\n",
    "\n",
    "split = 'val'\n",
    "\n",
    "table = pa.Table.from_pandas(dataframe_val)\n",
    "with pa.OSFile(f\"dataset/iou/cosmos_{split}.arrow\", \"wb\") as sink:\n",
    "    with pa.RecordBatchFileWriter(sink, table.schema) as writer:\n",
    "        writer.write_table(table)"
   ]
  },
  {
   "cell_type": "code",
   "execution_count": null,
   "metadata": {},
   "outputs": [],
   "source": []
  }
 ],
 "metadata": {
  "interpreter": {
   "hash": "e9a86a7ed262735ebe154e2af3d12815b689f8138287f40a62edb0c9d1ca95e9"
  },
  "kernelspec": {
   "display_name": "Python 3.7.13 ('vilt2')",
   "language": "python",
   "name": "python3"
  },
  "language_info": {
   "codemirror_mode": {
    "name": "ipython",
    "version": 3
   },
   "file_extension": ".py",
   "mimetype": "text/x-python",
   "name": "python",
   "nbconvert_exporter": "python",
   "pygments_lexer": "ipython3",
   "version": "3.7.13"
  },
  "orig_nbformat": 4
 },
 "nbformat": 4,
 "nbformat_minor": 2
}
