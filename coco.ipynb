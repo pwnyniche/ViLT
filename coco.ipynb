{
 "cells": [
  {
   "cell_type": "code",
   "execution_count": 2,
   "metadata": {},
   "outputs": [],
   "source": [
    "import json\n",
    "import pandas as pd\n",
    "import pyarrow as pa\n",
    "import random\n",
    "import os\n",
    "\n",
    "from tqdm import tqdm\n",
    "from glob import glob\n",
    "from collections import defaultdict"
   ]
  },
  {
   "cell_type": "code",
   "execution_count": 22,
   "metadata": {},
   "outputs": [],
   "source": [
    "def path2rest(path, iid2captions, iid2split):\n",
    "    name = path.split(\"/\")[-1]\n",
    "\n",
    "    with open('vilt_datamodules.png', \"rb\") as fp:\n",
    "        binary = fp.read()\n",
    "\n",
    "    captions = iid2captions[name]\n",
    "    split = iid2split[name]\n",
    "\n",
    "    return [binary, captions, name, split]"
   ]
  },
  {
   "cell_type": "code",
   "execution_count": 4,
   "metadata": {},
   "outputs": [],
   "source": [
    "with open(f\"coco/dataset_flickr30k.json\", \"r\") as fp:\n",
    "    captions = json.load(fp)\n",
    "captions = captions[\"images\"]"
   ]
  },
  {
   "cell_type": "code",
   "execution_count": 8,
   "metadata": {},
   "outputs": [
    {
     "data": {
      "text/plain": [
       "{'sentids': [4950, 4951, 4952, 4953, 4954],\n",
       " 'imgid': 990,\n",
       " 'sentences': [{'tokens': ['the',\n",
       "    'dog',\n",
       "    'is',\n",
       "    'sitting',\n",
       "    'on',\n",
       "    'the',\n",
       "    'side',\n",
       "    'of',\n",
       "    'the',\n",
       "    'hill'],\n",
       "   'raw': 'The dog is sitting on the side of the hill.',\n",
       "   'imgid': 990,\n",
       "   'sentid': 4950},\n",
       "  {'tokens': ['a',\n",
       "    'brown',\n",
       "    'dog',\n",
       "    'is',\n",
       "    'sitting',\n",
       "    'in',\n",
       "    'some',\n",
       "    'long',\n",
       "    'grass'],\n",
       "   'raw': 'A brown dog is sitting in some long grass.',\n",
       "   'imgid': 990,\n",
       "   'sentid': 4951},\n",
       "  {'tokens': ['a',\n",
       "    'large',\n",
       "    'yellow',\n",
       "    'dog',\n",
       "    'is',\n",
       "    'sitting',\n",
       "    'on',\n",
       "    'a',\n",
       "    'hill'],\n",
       "   'raw': 'A large yellow dog is sitting on a hill.',\n",
       "   'imgid': 990,\n",
       "   'sentid': 4952},\n",
       "  {'tokens': ['a', 'large', 'tan', 'dog', 'sits', 'on', 'a', 'grassy', 'hill'],\n",
       "   'raw': 'A large tan dog sits on a grassy hill.',\n",
       "   'imgid': 990,\n",
       "   'sentid': 4953},\n",
       "  {'tokens': ['a', 'brown', 'dog', 'sits', 'still', 'on', 'a', 'hillside'],\n",
       "   'raw': 'A brown dog sits still on a hillside.',\n",
       "   'imgid': 990,\n",
       "   'sentid': 4954}],\n",
       " 'split': 'train',\n",
       " 'filename': '1319634306.jpg'}"
      ]
     },
     "execution_count": 8,
     "metadata": {},
     "output_type": "execute_result"
    }
   ],
   "source": [
    "captions[990]"
   ]
  },
  {
   "cell_type": "code",
   "execution_count": 9,
   "metadata": {},
   "outputs": [],
   "source": [
    "iid2captions = defaultdict(list)\n",
    "iid2split = dict()"
   ]
  },
  {
   "cell_type": "code",
   "execution_count": 10,
   "metadata": {},
   "outputs": [
    {
     "name": "stderr",
     "output_type": "stream",
     "text": [
      "100%|██████████| 31014/31014 [00:00<00:00, 121008.90it/s]\n"
     ]
    }
   ],
   "source": [
    "for cap in tqdm(captions):\n",
    "    filename = cap[\"filename\"]\n",
    "    iid2split[filename] = cap[\"split\"]\n",
    "    for c in cap[\"sentences\"]:\n",
    "        iid2captions[filename].append(c[\"raw\"])"
   ]
  },
  {
   "cell_type": "code",
   "execution_count": 15,
   "metadata": {},
   "outputs": [
    {
     "data": {
      "text/plain": [
       "['Two young guys with shaggy hair look at their hands while hanging out in the yard.',\n",
       " 'Two young, White males are outside near many bushes.',\n",
       " 'Two men in green shirts are standing in a yard.',\n",
       " 'A man in a blue shirt standing in a garden.',\n",
       " 'Two friends enjoy time spent together.']"
      ]
     },
     "execution_count": 15,
     "metadata": {},
     "output_type": "execute_result"
    }
   ],
   "source": [
    "iid2captions['1000092795.jpg']"
   ]
  },
  {
   "cell_type": "code",
   "execution_count": 19,
   "metadata": {},
   "outputs": [],
   "source": [
    "paths = [\n",
    "    'fa/1.jpg',\n",
    "    'fa/2.jpg',\n",
    "    'fa/998845445.jpg'\n",
    "]\n",
    "random.shuffle(paths)\n",
    "caption_paths = [path for path in paths if path.split(\"/\")[-1] in iid2captions]"
   ]
  },
  {
   "cell_type": "code",
   "execution_count": 21,
   "metadata": {},
   "outputs": [
    {
     "data": {
      "text/plain": [
       "['fa/998845445.jpg']"
      ]
     },
     "execution_count": 21,
     "metadata": {},
     "output_type": "execute_result"
    }
   ],
   "source": [
    "caption_paths"
   ]
  },
  {
   "cell_type": "code",
   "execution_count": 23,
   "metadata": {},
   "outputs": [
    {
     "name": "stderr",
     "output_type": "stream",
     "text": [
      "100%|██████████| 1/1 [00:00<00:00, 276.98it/s]\n"
     ]
    }
   ],
   "source": [
    "bs = [path2rest(path, iid2captions, iid2split) for path in tqdm(caption_paths)]"
   ]
  },
  {
   "cell_type": "code",
   "execution_count": 38,
   "metadata": {},
   "outputs": [
    {
     "data": {
      "text/plain": [
       "['A man in shorts and a Hawaiian shirt leans over the rail of a pilot boat, with fog and mountains in the background.',\n",
       " 'A young man hanging over the side of a boat, which is in a like with fog rolling over a hill behind it.',\n",
       " 'A man is leaning off of the side of a blue and white boat as it sits in a body of water.',\n",
       " 'A man riding a small boat in a harbor, with fog and mountains in the background.',\n",
       " 'A man on a moored blue and white boat with hills and mist in the background.']"
      ]
     },
     "execution_count": 38,
     "metadata": {},
     "output_type": "execute_result"
    }
   ],
   "source": [
    "bs[0][1]"
   ]
  },
  {
   "cell_type": "code",
   "execution_count": 34,
   "metadata": {},
   "outputs": [],
   "source": [
    "batches = [b for b in bs if b[-1] == 'train']\n",
    "dataframe = pd.DataFrame(\n",
    "    batches, columns=[\"image\", \"caption\", \"image_id\", \"split\"],\n",
    ")"
   ]
  },
  {
   "cell_type": "code",
   "execution_count": 41,
   "metadata": {},
   "outputs": [
    {
     "data": {
      "text/html": [
       "<div>\n",
       "<style scoped>\n",
       "    .dataframe tbody tr th:only-of-type {\n",
       "        vertical-align: middle;\n",
       "    }\n",
       "\n",
       "    .dataframe tbody tr th {\n",
       "        vertical-align: top;\n",
       "    }\n",
       "\n",
       "    .dataframe thead th {\n",
       "        text-align: right;\n",
       "    }\n",
       "</style>\n",
       "<table border=\"1\" class=\"dataframe\">\n",
       "  <thead>\n",
       "    <tr style=\"text-align: right;\">\n",
       "      <th></th>\n",
       "      <th>image</th>\n",
       "      <th>caption</th>\n",
       "      <th>image_id</th>\n",
       "      <th>split</th>\n",
       "    </tr>\n",
       "  </thead>\n",
       "  <tbody>\n",
       "    <tr>\n",
       "      <th>0</th>\n",
       "      <td>b'\\x89PNG\\r\\n\\x1a\\n\\x00\\x00\\x00\\rIHDR\\x00\\x00\\...</td>\n",
       "      <td>[A man in shorts and a Hawaiian shirt leans ov...</td>\n",
       "      <td>998845445.jpg</td>\n",
       "      <td>train</td>\n",
       "    </tr>\n",
       "  </tbody>\n",
       "</table>\n",
       "</div>"
      ],
      "text/plain": [
       "                                               image  \\\n",
       "0  b'\\x89PNG\\r\\n\\x1a\\n\\x00\\x00\\x00\\rIHDR\\x00\\x00\\...   \n",
       "\n",
       "                                             caption       image_id  split  \n",
       "0  [A man in shorts and a Hawaiian shirt leans ov...  998845445.jpg  train  "
      ]
     },
     "execution_count": 41,
     "metadata": {},
     "output_type": "execute_result"
    }
   ],
   "source": [
    "dataframe"
   ]
  },
  {
   "cell_type": "code",
   "execution_count": null,
   "metadata": {},
   "outputs": [],
   "source": []
  }
 ],
 "metadata": {
  "interpreter": {
   "hash": "e9a86a7ed262735ebe154e2af3d12815b689f8138287f40a62edb0c9d1ca95e9"
  },
  "kernelspec": {
   "display_name": "Python 3.7.13 64-bit ('vilt2': conda)",
   "language": "python",
   "name": "python3"
  },
  "language_info": {
   "codemirror_mode": {
    "name": "ipython",
    "version": 3
   },
   "file_extension": ".py",
   "mimetype": "text/x-python",
   "name": "python",
   "nbconvert_exporter": "python",
   "pygments_lexer": "ipython3",
   "version": "3.7.13"
  },
  "orig_nbformat": 4
 },
 "nbformat": 4,
 "nbformat_minor": 2
}
