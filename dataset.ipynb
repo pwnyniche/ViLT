{
 "cells": [
  {
   "cell_type": "code",
   "execution_count": 1,
   "metadata": {},
   "outputs": [],
   "source": [
    "from vilt.utils.write_nlvr2 import make_arrow\n",
    "import json\n",
    "from tqdm import tqdm\n",
    "from collections import defaultdict\n",
    "import pyarrow as pa\n",
    "import pandas as pd"
   ]
  },
  {
   "cell_type": "code",
   "execution_count": 2,
   "metadata": {},
   "outputs": [],
   "source": [
    "root = '.'"
   ]
  },
  {
   "cell_type": "code",
   "execution_count": 3,
   "metadata": {},
   "outputs": [],
   "source": [
    "train_data = list(\n",
    "    map(json.loads, open(f\"{root}/nlvr2/data/train.json\").readlines())\n",
    ")\n",
    "test1_data = list(\n",
    "    map(json.loads, open(f\"{root}/nlvr2/data/test1.json\").readlines())\n",
    ")\n",
    "dev_data = list(map(json.loads, open(f\"{root}/nlvr2/data/dev.json\").readlines()))"
   ]
  },
  {
   "cell_type": "code",
   "execution_count": 4,
   "metadata": {},
   "outputs": [],
   "source": [
    "splits = [\n",
    "    \"train\",\n",
    "    \"dev\",\n",
    "    \"test1\",\n",
    "]\n",
    "datas = [\n",
    "    train_data,\n",
    "    dev_data,\n",
    "    test1_data,\n",
    "]"
   ]
  },
  {
   "cell_type": "code",
   "execution_count": 5,
   "metadata": {},
   "outputs": [
    {
     "name": "stderr",
     "output_type": "stream",
     "text": [
      "100%|█| 86373/86373 [00:00<00:00, 168324.61it/\n",
      "100%|█| 6982/6982 [00:00<00:00, 355987.87it/s]\n",
      "100%|█| 6967/6967 [00:00<00:00, 406897.01it/s]\n"
     ]
    }
   ],
   "source": [
    "annotations = dict()\n",
    "\n",
    "for split, data in zip(splits, datas):\n",
    "    _annot = defaultdict(list)\n",
    "    for row in tqdm(data):\n",
    "        _annot[\"-\".join(row[\"identifier\"].split(\"-\")[:-1])].append(row)\n",
    "    annotations[split] = _annot"
   ]
  },
  {
   "cell_type": "code",
   "execution_count": 6,
   "metadata": {},
   "outputs": [
    {
     "data": {
      "text/plain": [
       "[{'validation': {'28': 'False'},\n",
       "  'sentence': 'There is an empty glass.',\n",
       "  'left_url': 'http://www.belgiansmaak.com/wp-content/gallery/belgian-beers-post/dynamic/31.-Tilquin.jpg-nggid041318-ngg0dyn-0x0x100-00f0w010c010r110f110r010t010.jpg',\n",
       "  'writer': '103',\n",
       "  'label': 'False',\n",
       "  'right_url': 'https://www.craftbrewingbusiness.com/wp-content/uploads/2017/09/unnamed-1.jpg',\n",
       "  'synset': 'beer bottle',\n",
       "  'query': 'group of beer bottles41',\n",
       "  'identifier': 'test1-0-1-0',\n",
       "  'extra_validations': {'56': 'False',\n",
       "   '83': 'False',\n",
       "   '19': 'False',\n",
       "   '92': 'False'}},\n",
       " {'validation': {'127': 'False'},\n",
       "  'sentence': 'The right image shows three bottles of beer lined up.',\n",
       "  'left_url': 'http://www.belgiansmaak.com/wp-content/gallery/belgian-beers-post/dynamic/31.-Tilquin.jpg-nggid041318-ngg0dyn-0x0x100-00f0w010c010r110f110r010t010.jpg',\n",
       "  'writer': '80',\n",
       "  'label': 'False',\n",
       "  'right_url': 'https://www.craftbrewingbusiness.com/wp-content/uploads/2017/09/unnamed-1.jpg',\n",
       "  'synset': 'beer bottle',\n",
       "  'query': 'group of beer bottles41',\n",
       "  'identifier': 'test1-0-1-1',\n",
       "  'extra_validations': {'152': 'False',\n",
       "   '72': 'False',\n",
       "   '61': 'False',\n",
       "   '56': 'False'}}]"
      ]
     },
     "execution_count": 6,
     "metadata": {},
     "output_type": "execute_result"
    }
   ],
   "source": [
    "annotations['test1']['test1-0-1']"
   ]
  },
  {
   "cell_type": "code",
   "execution_count": 7,
   "metadata": {},
   "outputs": [],
   "source": [
    "def process(root, iden, row):\n",
    "    texts = [r[\"sentence\"] for r in row]\n",
    "    labels = [r[\"label\"] for r in row]\n",
    "\n",
    "    split = iden.split(\"-\")[0]\n",
    "\n",
    "    if iden.startswith(\"train\"):\n",
    "        directory = row[0][\"directory\"]\n",
    "        path = f\"{root}/images/train/{directory}/{iden}\"\n",
    "    else:\n",
    "        path = f\"{root}/{split}/{iden}\"\n",
    "\n",
    "    with open(f\"run.png\", \"rb\") as fp:\n",
    "        img0 = fp.read()\n",
    "    with open(f\"run.png\", \"rb\") as fp:\n",
    "        img1 = fp.read()\n",
    "\n",
    "    return [img0, img1, texts, labels, iden]"
   ]
  },
  {
   "cell_type": "code",
   "execution_count": null,
   "metadata": {},
   "outputs": [
    {
     "name": "stderr",
     "output_type": "stream",
     "text": [
      "  1%|   | 292/51585 [00:00<00:17, 2915.18it/s]"
     ]
    }
   ],
   "source": [
    "split='train'\n",
    "bs = [\n",
    "    process(root, iden, row) for iden, row in tqdm(annotations[split].items())\n",
    "]"
   ]
  },
  {
   "cell_type": "code",
   "execution_count": 15,
   "metadata": {},
   "outputs": [],
   "source": [
    "dataframe = pd.DataFrame(\n",
    "            bs, columns=[\"image_0\", \"image_1\", \"questions\", \"answers\", \"identifier\"],\n",
    ")"
   ]
  },
  {
   "cell_type": "code",
   "execution_count": 16,
   "metadata": {},
   "outputs": [
    {
     "data": {
      "text/html": [
       "<div>\n",
       "<style scoped>\n",
       "    .dataframe tbody tr th:only-of-type {\n",
       "        vertical-align: middle;\n",
       "    }\n",
       "\n",
       "    .dataframe tbody tr th {\n",
       "        vertical-align: top;\n",
       "    }\n",
       "\n",
       "    .dataframe thead th {\n",
       "        text-align: right;\n",
       "    }\n",
       "</style>\n",
       "<table border=\"1\" class=\"dataframe\">\n",
       "  <thead>\n",
       "    <tr style=\"text-align: right;\">\n",
       "      <th></th>\n",
       "      <th>image_0</th>\n",
       "      <th>image_1</th>\n",
       "      <th>questions</th>\n",
       "      <th>answers</th>\n",
       "      <th>identifier</th>\n",
       "    </tr>\n",
       "  </thead>\n",
       "  <tbody>\n",
       "    <tr>\n",
       "      <th>0</th>\n",
       "      <td>b'\\x89PNG\\r\\n\\x1a\\n\\x00\\x00\\x00\\rIHDR\\x00\\x00\\...</td>\n",
       "      <td>b'\\x89PNG\\r\\n\\x1a\\n\\x00\\x00\\x00\\rIHDR\\x00\\x00\\...</td>\n",
       "      <td>[The right image shows a curving walkway of da...</td>\n",
       "      <td>[False, False]</td>\n",
       "      <td>dev-850-0</td>\n",
       "    </tr>\n",
       "    <tr>\n",
       "      <th>1</th>\n",
       "      <td>b'\\x89PNG\\r\\n\\x1a\\n\\x00\\x00\\x00\\rIHDR\\x00\\x00\\...</td>\n",
       "      <td>b'\\x89PNG\\r\\n\\x1a\\n\\x00\\x00\\x00\\rIHDR\\x00\\x00\\...</td>\n",
       "      <td>[The right image shows a curving walkway of da...</td>\n",
       "      <td>[True, True]</td>\n",
       "      <td>dev-850-2</td>\n",
       "    </tr>\n",
       "    <tr>\n",
       "      <th>2</th>\n",
       "      <td>b'\\x89PNG\\r\\n\\x1a\\n\\x00\\x00\\x00\\rIHDR\\x00\\x00\\...</td>\n",
       "      <td>b'\\x89PNG\\r\\n\\x1a\\n\\x00\\x00\\x00\\rIHDR\\x00\\x00\\...</td>\n",
       "      <td>[The right image shows a curving walkway of da...</td>\n",
       "      <td>[False, False]</td>\n",
       "      <td>dev-850-3</td>\n",
       "    </tr>\n",
       "    <tr>\n",
       "      <th>3</th>\n",
       "      <td>b'\\x89PNG\\r\\n\\x1a\\n\\x00\\x00\\x00\\rIHDR\\x00\\x00\\...</td>\n",
       "      <td>b'\\x89PNG\\r\\n\\x1a\\n\\x00\\x00\\x00\\rIHDR\\x00\\x00\\...</td>\n",
       "      <td>[The right image shows a curving walkway of da...</td>\n",
       "      <td>[True, True]</td>\n",
       "      <td>dev-850-1</td>\n",
       "    </tr>\n",
       "    <tr>\n",
       "      <th>4</th>\n",
       "      <td>b'\\x89PNG\\r\\n\\x1a\\n\\x00\\x00\\x00\\rIHDR\\x00\\x00\\...</td>\n",
       "      <td>b'\\x89PNG\\r\\n\\x1a\\n\\x00\\x00\\x00\\rIHDR\\x00\\x00\\...</td>\n",
       "      <td>[There are exactly six bottles in the right im...</td>\n",
       "      <td>[True, False]</td>\n",
       "      <td>dev-896-0</td>\n",
       "    </tr>\n",
       "    <tr>\n",
       "      <th>...</th>\n",
       "      <td>...</td>\n",
       "      <td>...</td>\n",
       "      <td>...</td>\n",
       "      <td>...</td>\n",
       "      <td>...</td>\n",
       "    </tr>\n",
       "    <tr>\n",
       "      <th>4046</th>\n",
       "      <td>b'\\x89PNG\\r\\n\\x1a\\n\\x00\\x00\\x00\\rIHDR\\x00\\x00\\...</td>\n",
       "      <td>b'\\x89PNG\\r\\n\\x1a\\n\\x00\\x00\\x00\\rIHDR\\x00\\x00\\...</td>\n",
       "      <td>[In each image, a woman is drying her face wit...</td>\n",
       "      <td>[False]</td>\n",
       "      <td>dev-893-3</td>\n",
       "    </tr>\n",
       "    <tr>\n",
       "      <th>4047</th>\n",
       "      <td>b'\\x89PNG\\r\\n\\x1a\\n\\x00\\x00\\x00\\rIHDR\\x00\\x00\\...</td>\n",
       "      <td>b'\\x89PNG\\r\\n\\x1a\\n\\x00\\x00\\x00\\rIHDR\\x00\\x00\\...</td>\n",
       "      <td>[In each image, a woman is drying her face wit...</td>\n",
       "      <td>[True]</td>\n",
       "      <td>dev-893-0</td>\n",
       "    </tr>\n",
       "    <tr>\n",
       "      <th>4048</th>\n",
       "      <td>b'\\x89PNG\\r\\n\\x1a\\n\\x00\\x00\\x00\\rIHDR\\x00\\x00\\...</td>\n",
       "      <td>b'\\x89PNG\\r\\n\\x1a\\n\\x00\\x00\\x00\\rIHDR\\x00\\x00\\...</td>\n",
       "      <td>[The left and right image contains the same nu...</td>\n",
       "      <td>[True, True]</td>\n",
       "      <td>dev-946-1</td>\n",
       "    </tr>\n",
       "    <tr>\n",
       "      <th>4049</th>\n",
       "      <td>b'\\x89PNG\\r\\n\\x1a\\n\\x00\\x00\\x00\\rIHDR\\x00\\x00\\...</td>\n",
       "      <td>b'\\x89PNG\\r\\n\\x1a\\n\\x00\\x00\\x00\\rIHDR\\x00\\x00\\...</td>\n",
       "      <td>[The left and right image contains the same nu...</td>\n",
       "      <td>[True, True]</td>\n",
       "      <td>dev-946-0</td>\n",
       "    </tr>\n",
       "    <tr>\n",
       "      <th>4050</th>\n",
       "      <td>b'\\x89PNG\\r\\n\\x1a\\n\\x00\\x00\\x00\\rIHDR\\x00\\x00\\...</td>\n",
       "      <td>b'\\x89PNG\\r\\n\\x1a\\n\\x00\\x00\\x00\\rIHDR\\x00\\x00\\...</td>\n",
       "      <td>[The left and right image contains the same nu...</td>\n",
       "      <td>[False, False]</td>\n",
       "      <td>dev-946-3</td>\n",
       "    </tr>\n",
       "  </tbody>\n",
       "</table>\n",
       "<p>4051 rows × 5 columns</p>\n",
       "</div>"
      ],
      "text/plain": [
       "                                                image_0  \\\n",
       "0     b'\\x89PNG\\r\\n\\x1a\\n\\x00\\x00\\x00\\rIHDR\\x00\\x00\\...   \n",
       "1     b'\\x89PNG\\r\\n\\x1a\\n\\x00\\x00\\x00\\rIHDR\\x00\\x00\\...   \n",
       "2     b'\\x89PNG\\r\\n\\x1a\\n\\x00\\x00\\x00\\rIHDR\\x00\\x00\\...   \n",
       "3     b'\\x89PNG\\r\\n\\x1a\\n\\x00\\x00\\x00\\rIHDR\\x00\\x00\\...   \n",
       "4     b'\\x89PNG\\r\\n\\x1a\\n\\x00\\x00\\x00\\rIHDR\\x00\\x00\\...   \n",
       "...                                                 ...   \n",
       "4046  b'\\x89PNG\\r\\n\\x1a\\n\\x00\\x00\\x00\\rIHDR\\x00\\x00\\...   \n",
       "4047  b'\\x89PNG\\r\\n\\x1a\\n\\x00\\x00\\x00\\rIHDR\\x00\\x00\\...   \n",
       "4048  b'\\x89PNG\\r\\n\\x1a\\n\\x00\\x00\\x00\\rIHDR\\x00\\x00\\...   \n",
       "4049  b'\\x89PNG\\r\\n\\x1a\\n\\x00\\x00\\x00\\rIHDR\\x00\\x00\\...   \n",
       "4050  b'\\x89PNG\\r\\n\\x1a\\n\\x00\\x00\\x00\\rIHDR\\x00\\x00\\...   \n",
       "\n",
       "                                                image_1  \\\n",
       "0     b'\\x89PNG\\r\\n\\x1a\\n\\x00\\x00\\x00\\rIHDR\\x00\\x00\\...   \n",
       "1     b'\\x89PNG\\r\\n\\x1a\\n\\x00\\x00\\x00\\rIHDR\\x00\\x00\\...   \n",
       "2     b'\\x89PNG\\r\\n\\x1a\\n\\x00\\x00\\x00\\rIHDR\\x00\\x00\\...   \n",
       "3     b'\\x89PNG\\r\\n\\x1a\\n\\x00\\x00\\x00\\rIHDR\\x00\\x00\\...   \n",
       "4     b'\\x89PNG\\r\\n\\x1a\\n\\x00\\x00\\x00\\rIHDR\\x00\\x00\\...   \n",
       "...                                                 ...   \n",
       "4046  b'\\x89PNG\\r\\n\\x1a\\n\\x00\\x00\\x00\\rIHDR\\x00\\x00\\...   \n",
       "4047  b'\\x89PNG\\r\\n\\x1a\\n\\x00\\x00\\x00\\rIHDR\\x00\\x00\\...   \n",
       "4048  b'\\x89PNG\\r\\n\\x1a\\n\\x00\\x00\\x00\\rIHDR\\x00\\x00\\...   \n",
       "4049  b'\\x89PNG\\r\\n\\x1a\\n\\x00\\x00\\x00\\rIHDR\\x00\\x00\\...   \n",
       "4050  b'\\x89PNG\\r\\n\\x1a\\n\\x00\\x00\\x00\\rIHDR\\x00\\x00\\...   \n",
       "\n",
       "                                              questions         answers  \\\n",
       "0     [The right image shows a curving walkway of da...  [False, False]   \n",
       "1     [The right image shows a curving walkway of da...    [True, True]   \n",
       "2     [The right image shows a curving walkway of da...  [False, False]   \n",
       "3     [The right image shows a curving walkway of da...    [True, True]   \n",
       "4     [There are exactly six bottles in the right im...   [True, False]   \n",
       "...                                                 ...             ...   \n",
       "4046  [In each image, a woman is drying her face wit...         [False]   \n",
       "4047  [In each image, a woman is drying her face wit...          [True]   \n",
       "4048  [The left and right image contains the same nu...    [True, True]   \n",
       "4049  [The left and right image contains the same nu...    [True, True]   \n",
       "4050  [The left and right image contains the same nu...  [False, False]   \n",
       "\n",
       "     identifier  \n",
       "0     dev-850-0  \n",
       "1     dev-850-2  \n",
       "2     dev-850-3  \n",
       "3     dev-850-1  \n",
       "4     dev-896-0  \n",
       "...         ...  \n",
       "4046  dev-893-3  \n",
       "4047  dev-893-0  \n",
       "4048  dev-946-1  \n",
       "4049  dev-946-0  \n",
       "4050  dev-946-3  \n",
       "\n",
       "[4051 rows x 5 columns]"
      ]
     },
     "execution_count": 16,
     "metadata": {},
     "output_type": "execute_result"
    }
   ],
   "source": [
    "dataframe"
   ]
  },
  {
   "cell_type": "code",
   "execution_count": 17,
   "metadata": {},
   "outputs": [],
   "source": [
    "table = pa.Table.from_pandas(dataframe)"
   ]
  },
  {
   "cell_type": "code",
   "execution_count": 18,
   "metadata": {},
   "outputs": [],
   "source": [
    "with pa.OSFile(f\"dataset/nlvr2_{split}.arrow\", \"wb\") as sink:\n",
    "    with pa.RecordBatchFileWriter(sink, table.schema) as writer:\n",
    "        writer.write_table(table)"
   ]
  },
  {
   "cell_type": "code",
   "execution_count": 19,
   "metadata": {},
   "outputs": [],
   "source": [
    "from vilt.datasets.base_dataset import BaseDataset\n",
    "import sys\n",
    "import random\n",
    "\n",
    "class NLVR2Dataset(BaseDataset):\n",
    "    def __init__(self, *args, split=\"\", **kwargs):\n",
    "        assert split in [\"train\", \"val\", \"test\"]\n",
    "        self.split = split\n",
    "\n",
    "        if split == \"train\":\n",
    "            names = [\"nlvr2_train\"]\n",
    "        elif split == \"val\":\n",
    "            names = [\"nlvr2_dev\", \"nlvr2_test1\"]\n",
    "        elif split == \"test\":\n",
    "            names = [\"nlvr2_dev\", \"nlvr2_test1\"]\n",
    "\n",
    "        super().__init__(\n",
    "            *args,\n",
    "            **kwargs,\n",
    "            names=names,\n",
    "            text_column_name=\"questions\",\n",
    "            remove_duplicate=False,\n",
    "        )\n",
    "\n",
    "    def __getitem__(self, index):\n",
    "        result = None\n",
    "        while result is None:\n",
    "            try:\n",
    "                image_tensor_0 = self.get_image(index, image_key=\"image_0\")[\"image\"]\n",
    "                image_tensor_1 = self.get_image(index, image_key=\"image_1\")[\"image\"]\n",
    "                text = self.get_text(index)[\"text\"]\n",
    "                result = True\n",
    "            except:\n",
    "                print(\n",
    "                    f\"error while read file idx {index} in {self.names[0]}\",\n",
    "                    file=sys.stderr,\n",
    "                )\n",
    "                index = random.randint(0, len(self.index_mapper) - 1)\n",
    "\n",
    "        index, question_index = self.index_mapper[index]\n",
    "        answers = self.table[\"answers\"][index][question_index].as_py()\n",
    "        answers = answers == \"True\"\n",
    "\n",
    "        return {\n",
    "            \"image_0\": image_tensor_0,\n",
    "            \"image_1\": image_tensor_1,\n",
    "            \"text\": text,\n",
    "            \"answers\": answers,\n",
    "            \"table_name\": self.table_names[index],\n",
    "        }\n"
   ]
  },
  {
   "cell_type": "code",
   "execution_count": 20,
   "metadata": {},
   "outputs": [],
   "source": [
    "from vilt.datamodules.datamodule_base import BaseDataModule\n",
    "\n",
    "class NLVR2DataModule(BaseDataModule):\n",
    "    def __init__(self, *args, **kwargs):\n",
    "        super().__init__(*args, **kwargs)\n",
    "\n",
    "    @property\n",
    "    def dataset_cls(self):\n",
    "        return NLVR2Dataset\n",
    "\n",
    "    @property\n",
    "    def dataset_name(self):\n",
    "        return \"nlvr2\""
   ]
  },
  {
   "cell_type": "code",
   "execution_count": 21,
   "metadata": {},
   "outputs": [],
   "source": [
    "# Get tokenizer from\n",
    "import torch\n",
    "from transformers import (\n",
    "    DataCollatorForLanguageModeling,\n",
    "    DataCollatorForWholeWordMask,\n",
    "    BertTokenizer,\n",
    ")\n",
    "\n",
    "def get_pretrained_tokenizer(from_pretrained):\n",
    "    if torch.distributed.is_initialized():\n",
    "        if torch.distributed.get_rank() == 0:\n",
    "            BertTokenizer.from_pretrained(\n",
    "                from_pretrained, do_lower_case=\"uncased\" in from_pretrained\n",
    "            )\n",
    "        torch.distributed.barrier()\n",
    "    return BertTokenizer.from_pretrained(\n",
    "        from_pretrained, do_lower_case=\"uncased\" in from_pretrained\n",
    "    )\n",
    "tokenizer = get_pretrained_tokenizer(\"bert-base-uncased\")"
   ]
  },
  {
   "cell_type": "code",
   "execution_count": 22,
   "metadata": {},
   "outputs": [],
   "source": [
    "%load_ext autoreload\n",
    "%autoreload 2\n",
    "from vilt.datasets.nlvr2_dataset import NLVR2Dataset\n",
    "n = NLVR2Dataset(data_dir='dataset', split='train', transform_keys=[\"pixelbert_randaug\"],image_size=384)\n",
    "n.tokenizer = tokenizer"
   ]
  },
  {
   "cell_type": "code",
   "execution_count": 23,
   "metadata": {},
   "outputs": [
    {
     "data": {
      "text/plain": [
       "6967"
      ]
     },
     "execution_count": 23,
     "metadata": {},
     "output_type": "execute_result"
    }
   ],
   "source": [
    "len(n)"
   ]
  },
  {
   "cell_type": "code",
   "execution_count": 33,
   "metadata": {},
   "outputs": [
    {
     "data": {
      "text/plain": [
       "pyarrow.Table\n",
       "image_0: binary\n",
       "image_1: binary\n",
       "questions: list<item: string>\n",
       "  child 0, item: string\n",
       "answers: list<item: string>\n",
       "  child 0, item: string\n",
       "identifier: string"
      ]
     },
     "execution_count": 33,
     "metadata": {},
     "output_type": "execute_result"
    }
   ],
   "source": [
    "n.table"
   ]
  },
  {
   "cell_type": "code",
   "execution_count": 34,
   "metadata": {},
   "outputs": [
    {
     "data": {
      "text/plain": [
       "{'image_0': [tensor([[[-1., -1., -1.,  ..., -1., -1., -1.],\n",
       "           [-1., -1., -1.,  ..., -1., -1., -1.],\n",
       "           [-1., -1., -1.,  ..., -1., -1., -1.],\n",
       "           ...,\n",
       "           [-1., -1., -1.,  ..., -1., -1., -1.],\n",
       "           [-1., -1., -1.,  ..., -1., -1., -1.],\n",
       "           [-1., -1., -1.,  ..., -1., -1., -1.]],\n",
       "  \n",
       "          [[-1., -1., -1.,  ..., -1., -1., -1.],\n",
       "           [-1., -1., -1.,  ..., -1., -1., -1.],\n",
       "           [-1., -1., -1.,  ..., -1., -1., -1.],\n",
       "           ...,\n",
       "           [-1., -1., -1.,  ..., -1., -1., -1.],\n",
       "           [-1., -1., -1.,  ..., -1., -1., -1.],\n",
       "           [-1., -1., -1.,  ..., -1., -1., -1.]],\n",
       "  \n",
       "          [[-1., -1., -1.,  ..., -1., -1., -1.],\n",
       "           [-1., -1., -1.,  ..., -1., -1., -1.],\n",
       "           [-1., -1., -1.,  ..., -1., -1., -1.],\n",
       "           ...,\n",
       "           [-1., -1., -1.,  ..., -1., -1., -1.],\n",
       "           [-1., -1., -1.,  ..., -1., -1., -1.],\n",
       "           [-1., -1., -1.,  ..., -1., -1., -1.]]])],\n",
       " 'image_1': [tensor([[[-0.7412, -0.7412, -0.7412,  ..., -0.7412, -0.7412, -0.7412],\n",
       "           [-0.7412, -0.7412, -0.7412,  ..., -0.7412, -0.7412, -0.7412],\n",
       "           [-0.7412, -0.7412, -0.7412,  ..., -0.7412, -0.7412, -0.7412],\n",
       "           ...,\n",
       "           [-0.7412, -0.7412, -0.7412,  ..., -0.7412, -0.7412, -0.7412],\n",
       "           [-0.7412, -0.7412, -0.7412,  ..., -0.7412, -0.7412, -0.7412],\n",
       "           [-0.7412, -0.7412, -0.7412,  ..., -0.7412, -0.7412, -0.7412]],\n",
       "  \n",
       "          [[-0.7412, -0.7412, -0.7412,  ..., -0.7412, -0.7412, -0.7412],\n",
       "           [-0.7412, -0.7412, -0.7412,  ..., -0.7412, -0.7412, -0.7412],\n",
       "           [-0.7412, -0.7412, -0.7412,  ..., -0.7412, -0.7412, -0.7412],\n",
       "           ...,\n",
       "           [-0.7412, -0.7412, -0.7412,  ..., -0.7412, -0.7412, -0.7412],\n",
       "           [-0.7412, -0.7412, -0.7412,  ..., -0.7412, -0.7412, -0.7412],\n",
       "           [-0.7412, -0.7412, -0.7412,  ..., -0.7412, -0.7412, -0.7412]],\n",
       "  \n",
       "          [[-0.7412, -0.7412, -0.7412,  ..., -0.7412, -0.7412, -0.7412],\n",
       "           [-0.7412, -0.7412, -0.7412,  ..., -0.7412, -0.7412, -0.7412],\n",
       "           [-0.7412, -0.7412, -0.7412,  ..., -0.7412, -0.7412, -0.7412],\n",
       "           ...,\n",
       "           [-0.7412, -0.7412, -0.7412,  ..., -0.7412, -0.7412, -0.7412],\n",
       "           [-0.7412, -0.7412, -0.7412,  ..., -0.7412, -0.7412, -0.7412],\n",
       "           [-0.7412, -0.7412, -0.7412,  ..., -0.7412, -0.7412, -0.7412]]])],\n",
       " 'text': ('The right image shows three bottles of beer lined up.',\n",
       "  {'input_ids': [101, 1996, 2157, 3746, 3065, 2093, 11015, 1997, 5404, 7732, 2039, 1012, 102, 0, 0, 0, 0, 0, 0, 0, 0, 0, 0, 0, 0, 0, 0, 0, 0, 0, 0, 0, 0, 0, 0, 0, 0, 0, 0, 0], 'token_type_ids': [0, 0, 0, 0, 0, 0, 0, 0, 0, 0, 0, 0, 0, 0, 0, 0, 0, 0, 0, 0, 0, 0, 0, 0, 0, 0, 0, 0, 0, 0, 0, 0, 0, 0, 0, 0, 0, 0, 0, 0], 'special_tokens_mask': [1, 0, 0, 0, 0, 0, 0, 0, 0, 0, 0, 0, 1, 1, 1, 1, 1, 1, 1, 1, 1, 1, 1, 1, 1, 1, 1, 1, 1, 1, 1, 1, 1, 1, 1, 1, 1, 1, 1, 1], 'attention_mask': [1, 1, 1, 1, 1, 1, 1, 1, 1, 1, 1, 1, 1, 0, 0, 0, 0, 0, 0, 0, 0, 0, 0, 0, 0, 0, 0, 0, 0, 0, 0, 0, 0, 0, 0, 0, 0, 0, 0, 0]}),\n",
       " 'answers': True,\n",
       " 'table_name': 'nlvr2_train'}"
      ]
     },
     "execution_count": 34,
     "metadata": {},
     "output_type": "execute_result"
    }
   ],
   "source": [
    "n[5]"
   ]
  },
  {
   "cell_type": "code",
   "execution_count": 36,
   "metadata": {},
   "outputs": [
    {
     "data": {
      "text/plain": [
       "(29, 0)"
      ]
     },
     "execution_count": 36,
     "metadata": {},
     "output_type": "execute_result"
    }
   ],
   "source": [
    "n.index_mapper[50]"
   ]
  },
  {
   "cell_type": "code",
   "execution_count": null,
   "metadata": {},
   "outputs": [],
   "source": []
  }
 ],
 "metadata": {
  "interpreter": {
   "hash": "dd6ac6d03954cf65a3aa8ce4cedda9aac0145a018ad67eca07aa9c761ef41ce4"
  },
  "kernelspec": {
   "display_name": "Python 3 (ipykernel)",
   "language": "python",
   "name": "python3"
  },
  "language_info": {
   "codemirror_mode": {
    "name": "ipython",
    "version": 3
   },
   "file_extension": ".py",
   "mimetype": "text/x-python",
   "name": "python",
   "nbconvert_exporter": "python",
   "pygments_lexer": "ipython3",
   "version": "3.9.11"
  }
 },
 "nbformat": 4,
 "nbformat_minor": 2
}
