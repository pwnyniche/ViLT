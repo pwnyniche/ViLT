{
 "cells": [
  {
   "cell_type": "code",
   "execution_count": 19,
   "metadata": {},
   "outputs": [
    {
     "name": "stderr",
     "output_type": "stream",
     "text": [
      "Using cache found in /root/.cache/torch/hub/saahiluppal_catr_master\n"
     ]
    }
   ],
   "source": [
    "import torch\n",
    "\n",
    "from transformers import BertTokenizer\n",
    "from PIL import Image\n",
    "import argparse\n",
    "\n",
    "from catr.models import caption\n",
    "from catr.datasets import coco, utils\n",
    "from catr.configuration import Config\n",
    "import os\n",
    "\n",
    "image_path = 'test/0.jpg'\n",
    "version = 'v3'\n",
    "\n",
    "config = Config()\n",
    "\n",
    "if version == 'v1':\n",
    "    model = torch.hub.load('saahiluppal/catr', 'v1', pretrained=True)\n",
    "elif version == 'v2':\n",
    "    model = torch.hub.load('saahiluppal/catr', 'v2', pretrained=True)\n",
    "elif version == 'v3':\n",
    "    model = torch.hub.load('saahiluppal/catr', 'v3', pretrained=True)\n",
    "\n",
    "tokenizer = BertTokenizer.from_pretrained('bert-base-uncased')\n",
    "\n",
    "start_token = tokenizer.convert_tokens_to_ids(tokenizer._cls_token)\n",
    "end_token = tokenizer.convert_tokens_to_ids(tokenizer._sep_token)\n",
    "\n",
    "image = Image.open(image_path)\n",
    "image = coco.val_transform(image)\n",
    "image = image.unsqueeze(0)\n",
    "\n",
    "\n",
    "def create_caption_and_mask(start_token, max_length):\n",
    "    caption_template = torch.zeros((1, max_length), dtype=torch.long)\n",
    "    mask_template = torch.ones((1, max_length), dtype=torch.bool)\n",
    "\n",
    "    caption_template[:, 0] = start_token\n",
    "    mask_template[:, 0] = False\n",
    "\n",
    "    return caption_template, mask_template\n",
    "\n",
    "\n",
    "caption, cap_mask = create_caption_and_mask(\n",
    "    start_token, config.max_position_embeddings)\n",
    "\n",
    "\n",
    "@torch.no_grad()\n",
    "def evaluate(image):\n",
    "    print('wait')\n",
    "    model.eval()\n",
    "    for i in range(config.max_position_embeddings - 1):\n",
    "        predictions = model(image, caption, cap_mask)\n",
    "        predictions = predictions[:, i, :]\n",
    "        predicted_id = torch.argmax(predictions, axis=-1)\n",
    "\n",
    "        if predicted_id[0] == 102:\n",
    "            return caption\n",
    "\n",
    "        caption[:, i+1] = predicted_id[0]\n",
    "        cap_mask[:, i+1] = False\n",
    "\n",
    "    return caption\n",
    "\n",
    "\n",
    "#output = evaluate(image)\n",
    "#result = tokenizer.decode(output[0].tolist(), skip_special_tokens=True)\n",
    "#print(result.capitalize())"
   ]
  },
  {
   "cell_type": "code",
   "execution_count": 42,
   "metadata": {},
   "outputs": [],
   "source": [
    "def predict(image_path):\n",
    "    image = Image.open(image_path)\n",
    "    image = coco.val_transform(image)\n",
    "    image = image.unsqueeze(0)\n",
    "    for i in range(config.max_position_embeddings - 1):\n",
    "        predictions = model(image, caption, cap_mask)\n",
    "        predictions = predictions[:, i, :]\n",
    "        predicted_id = torch.argmax(predictions, axis=-1)\n",
    "\n",
    "        if predicted_id[0] == 102:\n",
    "            return tokenizer.decode(caption[0].tolist(), skip_special_tokens=True)\n",
    "\n",
    "        caption[:, i+1] = predicted_id[0]\n",
    "        cap_mask[:, i+1] = False\n",
    "    return tokenizer.decode(caption[0].tolist(), skip_special_tokens=True)"
   ]
  },
  {
   "cell_type": "code",
   "execution_count": 45,
   "metadata": {},
   "outputs": [
    {
     "data": {
      "text/plain": [
       "'a man is jumping over a wave in a body of water..'"
      ]
     },
     "execution_count": 45,
     "metadata": {},
     "output_type": "execute_result"
    }
   ],
   "source": [
    "predict('test/18.jpg')"
   ]
  },
  {
   "cell_type": "code",
   "execution_count": null,
   "metadata": {},
   "outputs": [],
   "source": []
  }
 ],
 "metadata": {
  "interpreter": {
   "hash": "dd6ac6d03954cf65a3aa8ce4cedda9aac0145a018ad67eca07aa9c761ef41ce4"
  },
  "kernelspec": {
   "display_name": "Python 3.8.5 ('vilt')",
   "language": "python",
   "name": "python3"
  },
  "language_info": {
   "codemirror_mode": {
    "name": "ipython",
    "version": 3
   },
   "file_extension": ".py",
   "mimetype": "text/x-python",
   "name": "python",
   "nbconvert_exporter": "python",
   "pygments_lexer": "ipython3",
   "version": "3.7.13"
  },
  "orig_nbformat": 4
 },
 "nbformat": 4,
 "nbformat_minor": 2
}
