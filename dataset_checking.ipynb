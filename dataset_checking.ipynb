{
 "cells": [
  {
   "cell_type": "code",
   "execution_count": 1,
   "metadata": {},
   "outputs": [],
   "source": [
    "from vilt.datasets import COSMOSDataset\n",
    "import pyarrow as pa\n",
    "import torch\n",
    "from transformers import (\n",
    "    DataCollatorForLanguageModeling,\n",
    "    DataCollatorForWholeWordMask,\n",
    "    BertTokenizer,\n",
    ")"
   ]
  },
  {
   "cell_type": "code",
   "execution_count": 2,
   "metadata": {},
   "outputs": [],
   "source": [
    "def get_pretrained_tokenizer(from_pretrained):\n",
    "    if torch.distributed.is_initialized():\n",
    "        if torch.distributed.get_rank() == 0:\n",
    "            BertTokenizer.from_pretrained(\n",
    "                from_pretrained, do_lower_case=\"uncased\" in from_pretrained\n",
    "            )\n",
    "        torch.distributed.barrier()\n",
    "    return BertTokenizer.from_pretrained(\n",
    "        from_pretrained, do_lower_case=\"uncased\" in from_pretrained\n",
    "    )\n",
    "tokenizer = get_pretrained_tokenizer(\"bert-base-uncased\")"
   ]
  },
  {
   "cell_type": "code",
   "execution_count": 19,
   "metadata": {},
   "outputs": [
    {
     "name": "stdout",
     "output_type": "stream",
     "text": [
      "['cosmos_val', 'cosmos_test']\n"
     ]
    }
   ],
   "source": [
    "n = COSMOSDataset(data_dir='dataset_50', split='val', transform_keys=[\"pixelbert_randaug\"],image_size=384)\n",
    "n.tokenizer = tokenizer"
   ]
  },
  {
   "cell_type": "code",
   "execution_count": 6,
   "metadata": {},
   "outputs": [],
   "source": [
    "df = pa.ipc.RecordBatchFileReader(\n",
    "    pa.memory_map(f\"dataset_50/cosmos_test.arrow\", \"r\")\n",
    ").read_all().to_pandas()"
   ]
  },
  {
   "cell_type": "code",
   "execution_count": 20,
   "metadata": {},
   "outputs": [
    {
     "data": {
      "text/plain": [
       "(1700, 27427)"
      ]
     },
     "execution_count": 20,
     "metadata": {},
     "output_type": "execute_result"
    }
   ],
   "source": [
    "len(df),len(n)"
   ]
  },
  {
   "cell_type": "code",
   "execution_count": 13,
   "metadata": {},
   "outputs": [
    {
     "data": {
      "text/plain": [
       "{'image': [tensor([[[-1.0000, -1.0000, -1.0000,  ...,  0.4745,  0.4824,  0.4824],\n",
       "           [-1.0000, -1.0000, -1.0000,  ...,  0.4745,  0.4824,  0.4824],\n",
       "           [-1.0000, -1.0000, -1.0000,  ...,  0.4824,  0.4824,  0.4824],\n",
       "           ...,\n",
       "           [-1.0000, -1.0000, -1.0000,  ..., -0.2235, -0.2157, -0.2157],\n",
       "           [-1.0000, -1.0000, -1.0000,  ..., -0.2863, -0.2706, -0.2627],\n",
       "           [-1.0000, -1.0000, -1.0000,  ..., -0.3804, -0.3725, -0.3490]],\n",
       "  \n",
       "          [[-1.0000, -1.0000, -1.0000,  ...,  0.6157,  0.6157,  0.6157],\n",
       "           [-1.0000, -1.0000, -1.0000,  ...,  0.6157,  0.6157,  0.6157],\n",
       "           [-1.0000, -1.0000, -1.0000,  ...,  0.6235,  0.6157,  0.6157],\n",
       "           ...,\n",
       "           [-1.0000, -1.0000, -1.0000,  ..., -0.2627, -0.2549, -0.2549],\n",
       "           [-1.0000, -1.0000, -1.0000,  ..., -0.3255, -0.3098, -0.3020],\n",
       "           [-1.0000, -1.0000, -1.0000,  ..., -0.4196, -0.4118, -0.3882]],\n",
       "  \n",
       "          [[-1.0000, -1.0000, -1.0000,  ...,  0.7725,  0.7725,  0.7725],\n",
       "           [-1.0000, -1.0000, -1.0000,  ...,  0.7725,  0.7725,  0.7725],\n",
       "           [-1.0000, -1.0000, -1.0000,  ...,  0.7804,  0.7725,  0.7725],\n",
       "           ...,\n",
       "           [-1.0000, -1.0000, -1.0000,  ..., -0.2941, -0.2784, -0.2784],\n",
       "           [-1.0000, -1.0000, -1.0000,  ..., -0.3569, -0.3412, -0.3255],\n",
       "           [-1.0000, -1.0000, -1.0000,  ..., -0.4510, -0.4431, -0.4118]]])],\n",
       " 'text': ('FAC in GPE is one of ORG Group&#39;s five projects in GPE, where it is quite common for the government and developers to have contacts.',\n",
       "  {'input_ids': [101, 6904, 2278, 1999, 14246, 2063, 2003, 2028, 1997, 8917, 2177, 1004, 1001, 4464, 1025, 1055, 2274, 3934, 1999, 14246, 2063, 1010, 2073, 2009, 2003, 3243, 2691, 2005, 1996, 2231, 1998, 9797, 2000, 2031, 10402, 1012, 102, 0, 0, 0], 'token_type_ids': [0, 0, 0, 0, 0, 0, 0, 0, 0, 0, 0, 0, 0, 0, 0, 0, 0, 0, 0, 0, 0, 0, 0, 0, 0, 0, 0, 0, 0, 0, 0, 0, 0, 0, 0, 0, 0, 0, 0, 0], 'special_tokens_mask': [1, 0, 0, 0, 0, 0, 0, 0, 0, 0, 0, 0, 0, 0, 0, 0, 0, 0, 0, 0, 0, 0, 0, 0, 0, 0, 0, 0, 0, 0, 0, 0, 0, 0, 0, 0, 1, 1, 1, 1], 'attention_mask': [1, 1, 1, 1, 1, 1, 1, 1, 1, 1, 1, 1, 1, 1, 1, 1, 1, 1, 1, 1, 1, 1, 1, 1, 1, 1, 1, 1, 1, 1, 1, 1, 1, 1, 1, 1, 1, 0, 0, 0]}),\n",
       " 'text2': ('FAC in GPE is one of ORG Group&#39;s five projects in GPE, where it is quite common for the government and developers to have contacts.',\n",
       "  {'input_ids': [101, 6904, 2278, 1999, 14246, 2063, 2003, 2028, 1997, 8917, 2177, 1004, 1001, 4464, 1025, 1055, 2274, 3934, 1999, 14246, 2063, 1010, 2073, 2009, 2003, 3243, 2691, 2005, 1996, 2231, 1998, 9797, 2000, 2031, 10402, 1012, 102, 0, 0, 0], 'token_type_ids': [0, 0, 0, 0, 0, 0, 0, 0, 0, 0, 0, 0, 0, 0, 0, 0, 0, 0, 0, 0, 0, 0, 0, 0, 0, 0, 0, 0, 0, 0, 0, 0, 0, 0, 0, 0, 0, 0, 0, 0], 'special_tokens_mask': [1, 0, 0, 0, 0, 0, 0, 0, 0, 0, 0, 0, 0, 0, 0, 0, 0, 0, 0, 0, 0, 0, 0, 0, 0, 0, 0, 0, 0, 0, 0, 0, 0, 0, 0, 0, 1, 1, 1, 1], 'attention_mask': [1, 1, 1, 1, 1, 1, 1, 1, 1, 1, 1, 1, 1, 1, 1, 1, 1, 1, 1, 1, 1, 1, 1, 1, 1, 1, 1, 1, 1, 1, 1, 1, 1, 1, 1, 1, 1, 0, 0, 0]}),\n",
       " 'answers': False,\n",
       " 'table_name': 'cosmos_val'}"
      ]
     },
     "execution_count": 13,
     "metadata": {},
     "output_type": "execute_result"
    }
   ],
   "source": [
    "n[0]"
   ]
  },
  {
   "cell_type": "code",
   "execution_count": 31,
   "metadata": {},
   "outputs": [
    {
     "name": "stdout",
     "output_type": "stream",
     "text": [
      "President PERSON holds CARDINAL of his beagles, named Him, as he speaks with members of ORG press corps in DATE. President PERSON holds a beagle dog whilst speaking to a group of journalists False\n"
     ]
    }
   ],
   "source": [
    "i = len(n)-19\n",
    "print(n[i]['text'][0],n[i]['text2'][0],n[i]['answers'])\n",
    "# df.iloc[i]"
   ]
  },
  {
   "cell_type": "code",
   "execution_count": null,
   "metadata": {},
   "outputs": [],
   "source": []
  }
 ],
 "metadata": {
  "interpreter": {
   "hash": "e9a86a7ed262735ebe154e2af3d12815b689f8138287f40a62edb0c9d1ca95e9"
  },
  "kernelspec": {
   "display_name": "Python 3.7.13 ('vilt2')",
   "language": "python",
   "name": "python3"
  },
  "language_info": {
   "codemirror_mode": {
    "name": "ipython",
    "version": 3
   },
   "file_extension": ".py",
   "mimetype": "text/x-python",
   "name": "python",
   "nbconvert_exporter": "python",
   "pygments_lexer": "ipython3",
   "version": "3.7.13"
  },
  "orig_nbformat": 4
 },
 "nbformat": 4,
 "nbformat_minor": 2
}
